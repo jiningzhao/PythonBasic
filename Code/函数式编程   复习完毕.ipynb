{
 "cells": [
  {
   "cell_type": "markdown",
   "metadata": {},
   "source": [
    "# 函数递归调用"
   ]
  },
  {
   "cell_type": "code",
   "execution_count": 1,
   "metadata": {},
   "outputs": [
    {
     "name": "stdout",
     "output_type": "stream",
     "text": [
      "55\n"
     ]
    }
   ],
   "source": [
    "# 求1~10的和           #一定要在某个条件下结束\n",
    "def CalcSum(s,n):                 # s表示前几个已经求完和的结果，n表示需要加的数字\n",
    "    if n>10:\n",
    "        return s\n",
    "    return CalcSum(s+n,n+1)\n",
    "sum1=CalcSum(0,1)\n",
    "print(sum1)"
   ]
  },
  {
   "cell_type": "code",
   "execution_count": 2,
   "metadata": {},
   "outputs": [
    {
     "name": "stdout",
     "output_type": "stream",
     "text": [
      "before modify a= 3\n",
      "v: 4\n",
      "after modify a= 3\n",
      "--------------------\n",
      "before modify1 a1= [3]\n",
      "v: [4]\n",
      "after modify1 a1= [4]\n"
     ]
    }
   ],
   "source": [
    "# 形参是不可变类型时，函数内的修改不影响实参\n",
    "def modify(v):          #v是形参\n",
    "    v+=1\n",
    "    print('v:',v)\n",
    "a=3\n",
    "print('before modify a=',a)\n",
    "modify(a)              # a是实参\n",
    "print('after modify a=',a)\n",
    "\n",
    "print('-'*20)\n",
    "# 形参是可变类型时，函数内修改形参，影响实参\n",
    "def modify1(v):          #v是形参\n",
    "    v[0]+=1\n",
    "    print('v:',v)\n",
    "a1=[3]\n",
    "print('before modify1 a1=',a1)\n",
    "modify1(a1)              # a是实参\n",
    "print('after modify1 a1=',a1)"
   ]
  },
  {
   "cell_type": "code",
   "execution_count": 3,
   "metadata": {},
   "outputs": [
    {
     "name": "stdout",
     "output_type": "stream",
     "text": [
      "[1, 2, 3, 4, '5']\n",
      "['a', 'b', 'aaa']\n",
      "['a']\n",
      "['a', 'b']\n",
      "['a', 'b', 'c']\n",
      "[1, 2, 3, 4, 5]\n"
     ]
    }
   ],
   "source": [
    "# 默认值参数陷阱,原因是默认值参数的赋值只会在函数定义时被解释一次，因此默认值参数不要用可变类型\n",
    "def demo(newitem,old_list=[]):      # 假定默认参数放在内存0x12345678\n",
    "    old_list.append(newitem)\n",
    "    return old_list\n",
    "print(demo('5',[1,2,3,4]))          # 前两次调用时传递的是两个实参的引用\n",
    "print(demo('aaa',['a','b']))\n",
    "print(demo('a'))                    # 本地调用时，第一次对默认参数进行赋值，默认值参数是可变类型，对他的修改在原地操作，被保留下来了\n",
    "print(demo('b'))                    # 错了，原因是默认值参数的赋值只会在函数定义时被解释一次，本次操作时用的还是上一次的old_list\n",
    "print(demo('c'))\n",
    "print(demo(5,[1,2,3,4]))"
   ]
  },
  {
   "cell_type": "code",
   "execution_count": null,
   "metadata": {},
   "outputs": [],
   "source": [
    "# 有位置参数时，位置参数必须在关键字参数的前面\n",
    "def demo(a,b,c=5):\n",
    "    print(a,b,c)\n",
    "\n",
    "demo(5,6,7)           #a=5,b=6,c=7，这里的实参都是位置参数\n",
    "demo(5,c=7,b=6)      #5是位置参数，c=7,b=6是关键字参数"
   ]
  },
  {
   "cell_type": "code",
   "execution_count": 1,
   "metadata": {},
   "outputs": [
    {
     "name": "stdout",
     "output_type": "stream",
     "text": [
      "3\n"
     ]
    }
   ],
   "source": [
    "def abc(x,y,z):\n",
    "    s=x+y+z\n",
    "    return s\n",
    "\n",
    "he=abc(3,4,5)         # 如果abc函数中没有return，he的值是None\n",
    "\n",
    "def p(a):\n",
    "    print(a)\n",
    "    return\n",
    "p(3)                  # 直接调用函数 "
   ]
  },
  {
   "cell_type": "markdown",
   "metadata": {},
   "source": [
    "## 变量的作用域"
   ]
  },
  {
   "cell_type": "code",
   "execution_count": 6,
   "metadata": {},
   "outputs": [
    {
     "name": "stdout",
     "output_type": "stream",
     "text": [
      "5\n",
      "5 8\n",
      "5\n"
     ]
    }
   ],
   "source": [
    "# 全局变量global\n",
    "# 1.全局变量已经在函数外定义好，在函数内直接使用就行\n",
    "g_a=5            #定义在函数外的就是全局变量\n",
    "def print1():\n",
    "    print(g_a)\n",
    "print1()\n",
    "\n",
    "\n",
    "# 2.全局变量在函数外没定义，可以在函数内声明它是全局的\n",
    "def print2():\n",
    "    global g_b           # 用global关键字声明的变量，也是全局的,需要单独声明\n",
    "    g_b=5\n",
    "    g_c=8                  # 定义在函数内的叫局部变量，离开函数后自动删除\n",
    "    print(g_b,g_c)\n",
    "print2()\n",
    "print(g_b)\n",
    "# print(g_c)"
   ]
  },
  {
   "cell_type": "code",
   "execution_count": 8,
   "metadata": {},
   "outputs": [
    {
     "name": "stdout",
     "output_type": "stream",
     "text": [
      "8\n",
      "5\n"
     ]
    }
   ],
   "source": [
    "# 全局变量和局部变量重名时，局部变量的优先级高\n",
    "a=5 # 全局\n",
    "def print3():\n",
    "    a=8  # 局部\n",
    "    print(a) # 访问局部变量，局部变量的优先级高\n",
    "print3()\n",
    "print(a)     # 访问全局变量a"
   ]
  },
  {
   "cell_type": "code",
   "execution_count": 11,
   "metadata": {},
   "outputs": [
    {
     "ename": "UnboundLocalError",
     "evalue": "local variable 'a' referenced before assignment",
     "output_type": "error",
     "traceback": [
      "\u001b[1;31m---------------------------------------------------------------------------\u001b[0m",
      "\u001b[1;31mUnboundLocalError\u001b[0m                         Traceback (most recent call last)",
      "\u001b[1;32m<ipython-input-11-3d958a051095>\u001b[0m in \u001b[0;36m<module>\u001b[1;34m()\u001b[0m\n\u001b[0;32m      6\u001b[0m     \u001b[0ma\u001b[0m\u001b[1;33m=\u001b[0m\u001b[1;36m8\u001b[0m          \u001b[1;31m# 变量赋新值的操作，在整个函数内a都被认为是局部变量\u001b[0m\u001b[1;33m\u001b[0m\u001b[0m\n\u001b[0;32m      7\u001b[0m     \u001b[0mprint\u001b[0m\u001b[1;33m(\u001b[0m\u001b[0ma\u001b[0m\u001b[1;33m)\u001b[0m     \u001b[1;31m# 访问局部变量，局部变量优先级高\u001b[0m\u001b[1;33m\u001b[0m\u001b[0m\n\u001b[1;32m----> 8\u001b[1;33m \u001b[0mprint3\u001b[0m\u001b[1;33m(\u001b[0m\u001b[1;33m)\u001b[0m\u001b[1;33m\u001b[0m\u001b[0m\n\u001b[0m\u001b[0;32m      9\u001b[0m \u001b[0mprint\u001b[0m\u001b[1;33m(\u001b[0m\u001b[0ma\u001b[0m\u001b[1;33m)\u001b[0m         \u001b[1;31m# 访问全局变量a\u001b[0m\u001b[1;33m\u001b[0m\u001b[0m\n",
      "\u001b[1;32m<ipython-input-11-3d958a051095>\u001b[0m in \u001b[0;36mprint3\u001b[1;34m()\u001b[0m\n\u001b[0;32m      3\u001b[0m \u001b[1;32mdef\u001b[0m \u001b[0mprint3\u001b[0m\u001b[1;33m(\u001b[0m\u001b[1;33m)\u001b[0m\u001b[1;33m:\u001b[0m\u001b[1;33m\u001b[0m\u001b[0m\n\u001b[0;32m      4\u001b[0m \u001b[1;31m#     global a\u001b[0m\u001b[1;33m\u001b[0m\u001b[1;33m\u001b[0m\u001b[0m\n\u001b[1;32m----> 5\u001b[1;33m     \u001b[0mprint\u001b[0m\u001b[1;33m(\u001b[0m\u001b[0ma\u001b[0m\u001b[1;33m)\u001b[0m     \u001b[1;31m# 下一行的赋值操作，导致a是局部变量，在局部变量还没有定义的时候就使用了，所以报错,解决办法，加上global a，函数内所有的a都是全局的\u001b[0m\u001b[1;33m\u001b[0m\u001b[0m\n\u001b[0m\u001b[0;32m      6\u001b[0m     \u001b[0ma\u001b[0m\u001b[1;33m=\u001b[0m\u001b[1;36m8\u001b[0m          \u001b[1;31m# 变量赋新值的操作，在整个函数内a都被认为是局部变量\u001b[0m\u001b[1;33m\u001b[0m\u001b[0m\n\u001b[0;32m      7\u001b[0m     \u001b[0mprint\u001b[0m\u001b[1;33m(\u001b[0m\u001b[0ma\u001b[0m\u001b[1;33m)\u001b[0m     \u001b[1;31m# 访问局部变量，局部变量优先级高\u001b[0m\u001b[1;33m\u001b[0m\u001b[0m\n",
      "\u001b[1;31mUnboundLocalError\u001b[0m: local variable 'a' referenced before assignment"
     ]
    }
   ],
   "source": [
    "# 如果在函数内任意位置有为变量赋新值的操作，该变量即被认为是（隐式的）局部变量\n",
    "a=5  #全局\n",
    "def print3():\n",
    "#     global a\n",
    "    print(a)     # 下一行的赋值操作，导致a是局部变量，在局部变量还没有定义的时候就使用了，所以报错,解决办法，加上global a，函数内所有的a都是全局的\n",
    "    a=8          # 变量赋新值的操作，在整个函数内a都被认为是局部变量\n",
    "    print(a)     # 访问局部变量，局部变量优先级高\n",
    "print3()\n",
    "print(a)         # 访问全局变量a"
   ]
  },
  {
   "cell_type": "code",
   "execution_count": 3,
   "metadata": {},
   "outputs": [
    {
     "name": "stdout",
     "output_type": "stream",
     "text": [
      "局部变量赋值后： 原来的值\n",
      "nonlocal变量赋值后： 我不是局部变量，，也不是全局变量\n",
      "全局变量赋值后： 我不是局部变量，，也不是全局变量\n",
      "全局变量： 我是全局变量\n"
     ]
    }
   ],
   "source": [
    "#\n",
    "def scope_test():\n",
    "    def do_local():\n",
    "        spam=\"我是局部变量\"      #1.局部变量，离开函数就没了\n",
    "    \n",
    "    def do_nonlocal():\n",
    "        nonlocal spam            # 2.这时要求spam必须是已经存在的变量\n",
    "        spam=\"我不是局部变量，，也不是全局变量\"  # 2和4是等价的\n",
    "        \n",
    "    def do_global():\n",
    "        global spam              #3.如果全局作用域内没有spam，就自动新建一个\n",
    "        spam=\"我是全局变量\"       # 改动的是全局变量\n",
    "    \n",
    "    spam=\"原来的值\"            #4\n",
    "    do_local()\n",
    "    print(\"局部变量赋值后：\",spam)                #打印的是4的值\n",
    "    do_nonlocal()\n",
    "    print(\"nonlocal变量赋值后：\",spam)            #打印的是4的值\n",
    "    do_global()\n",
    "    print(\"全局变量赋值后：\",spam)                #打印的是4的值\n",
    "\n",
    "scope_test()\n",
    "print(\"全局变量：\",spam)                          #打印的是3的值"
   ]
  },
  {
   "cell_type": "code",
   "execution_count": null,
   "metadata": {},
   "outputs": [],
   "source": []
  }
 ],
 "metadata": {
  "kernelspec": {
   "display_name": "Python 3",
   "language": "python",
   "name": "python3"
  },
  "language_info": {
   "codemirror_mode": {
    "name": "ipython",
    "version": 3
   },
   "file_extension": ".py",
   "mimetype": "text/x-python",
   "name": "python",
   "nbconvert_exporter": "python",
   "pygments_lexer": "ipython3",
   "version": "3.6.5"
  }
 },
 "nbformat": 4,
 "nbformat_minor": 2
}
