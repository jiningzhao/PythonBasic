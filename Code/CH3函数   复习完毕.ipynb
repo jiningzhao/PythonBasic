{
 "cells": [
  {
   "cell_type": "markdown",
   "metadata": {},
   "source": [
    "#### def函数名（参数列表）：#动宾结构\n",
    "####    函数体  \n",
    "#### def为关键字\n",
    "#### 函数体缩进4个空格"
   ]
  },
  {
   "cell_type": "code",
   "execution_count": 7,
   "metadata": {},
   "outputs": [
    {
     "name": "stdout",
     "output_type": "stream",
     "text": [
      "请输入第一个数：156.354\n",
      "请输入第二个数：156.344\n",
      "两个数的最大值为： 156.354\n"
     ]
    }
   ],
   "source": [
    "def GetMax(a,b):        # 定义函数（必须先定义函数，后面才能调用），参数有两个a,b;a和b的类型在函数调用时才能确定\n",
    "    if a>b:          \n",
    "        return a        #return后面跟函数返回的结果\n",
    "    else:\n",
    "        return b\n",
    "num1=input('请输入第一个数：')\n",
    "num2=input('请输入第二个数：')\n",
    "num_max=GetMax(num1,num2)   #函数调用,num1的值赋给了a,num2的值赋给了b,将return返回的值赋给了num_max\n",
    "print('两个数的最大值为：',num_max)"
   ]
  },
  {
   "cell_type": "code",
   "execution_count": 8,
   "metadata": {},
   "outputs": [
    {
     "name": "stdout",
     "output_type": "stream",
     "text": [
      "Hello,world\n"
     ]
    }
   ],
   "source": [
    "def hello(name):\n",
    "    print('Hello,%s'%name)\n",
    "hello('world')"
   ]
  },
  {
   "cell_type": "markdown",
   "metadata": {},
   "source": [
    "### 参数在前，默认参数在后"
   ]
  },
  {
   "cell_type": "code",
   "execution_count": 16,
   "metadata": {},
   "outputs": [
    {
     "name": "stdout",
     "output_type": "stream",
     "text": [
      "请输入一个数：1\n",
      "两个数的最大值为： 1\n"
     ]
    }
   ],
   "source": [
    "def GetMax(a,b=0):        # 定义函数（必须先定义函数，后面才能调用），参数有两个a,b;a和b的类型在函数调用时才能确定\n",
    "    if a>b:          \n",
    "        return a        #return后面跟函数返回的结果\n",
    "    else:\n",
    "        return b\n",
    "num1=int(input('请输入一个数：'))\n",
    "# num2=input('请输入第二个数：')\n",
    "num_max=GetMax(num1)   #函数调用,num1的值赋给了a,num2的值赋给了b,将return返回的值赋给了num_max\n",
    "print('两个数的最大值为：',num_max)"
   ]
  },
  {
   "cell_type": "code",
   "execution_count": 1,
   "metadata": {},
   "outputs": [
    {
     "name": "stdout",
     "output_type": "stream",
     "text": [
      "数字 ('1', '2', '3')\n"
     ]
    }
   ],
   "source": [
    "def output(name,*list):\n",
    "    print(name,list)\n",
    "output('数字','1','2','3')"
   ]
  },
  {
   "cell_type": "code",
   "execution_count": 21,
   "metadata": {},
   "outputs": [
    {
     "name": "stdout",
     "output_type": "stream",
     "text": [
      "张三 大连\n",
      "张三 南京\n",
      "李四 纽约\n"
     ]
    }
   ],
   "source": [
    "def output(name,city='大连'):\n",
    "    print(name,city)\n",
    "output('张三')\n",
    "output('张三','南京')\n",
    "output(city='纽约',name='李四')"
   ]
  },
  {
   "cell_type": "markdown",
   "metadata": {},
   "source": [
    "# 不可变类型函数"
   ]
  },
  {
   "cell_type": "code",
   "execution_count": 25,
   "metadata": {},
   "outputs": [
    {
     "name": "stdout",
     "output_type": "stream",
     "text": [
      "args: Changed\n",
      "a: tester\n"
     ]
    }
   ],
   "source": [
    "#不可变类型函数（字符串、数字、元组等）的值，在函数结束后不会改变，与函数调用前一样\n",
    "def test(args):        #1.args = a\n",
    "    args='Changed'     #2.args的值变了，但是a的值不会随之变化\n",
    "    print('args:',args)\n",
    "a='tester'  #a是字符串类型，属于不可改变类型 \n",
    "test(a)\n",
    "print('a:',a)"
   ]
  },
  {
   "cell_type": "markdown",
   "metadata": {},
   "source": [
    "# 可变类型函数"
   ]
  },
  {
   "cell_type": "code",
   "execution_count": 30,
   "metadata": {},
   "outputs": [
    {
     "name": "stdout",
     "output_type": "stream",
     "text": [
      "mylist: [1, 2, 3, 4, 99]\n",
      "list1: [1, 2, 3, 4, 99]\n",
      "list1: [1, 2, 3, 4, 99]\n"
     ]
    }
   ],
   "source": [
    "#可变类型的参数（列表、字典等）的值，会受函数影响，函数内的变化会传递到函数外部\n",
    "def changed_fun(mylist):     #1.mylist=list1,mylist的内容是[1,2,3,4]\n",
    "    mylist.append(99)        #2.append:在列表末尾加一个元素，值为99\n",
    "    print('mylist:',mylist)  #3.mylist是属于函数changed_fun的局部变量，只能在changed_fun里使用，在函数外访问时会报错\n",
    "    print('list1:',list1)\n",
    "list1=[1,2,3,4]          #list1是一个列表；不属于任何函数，是全局变量，可以在任何地方使用\n",
    "changed_fun(list1)\n",
    "print('list1:',list1)"
   ]
  },
  {
   "cell_type": "code",
   "execution_count": 35,
   "metadata": {},
   "outputs": [
    {
     "name": "stdout",
     "output_type": "stream",
     "text": [
      "长方形的面积为：15,周长为：16\n",
      "长方形的面积为：32,周长为：24\n"
     ]
    }
   ],
   "source": [
    "#return可以返回多个值\n",
    "#定义一个函数，计算长方形的面积和周长\n",
    "def CalcAreaAndCircle(length,width):\n",
    "    area=length*width            #计算面积\n",
    "    circle=2*(length+width)      #计算周长\n",
    "    return area,circle\n",
    "l1,w1=5,3\n",
    "area1,circle1=CalcAreaAndCircle(l1,w1)  #函数返回的两个值需要分别赋给两个变量\n",
    "print('长方形的面积为：%d,周长为：%d'%(area1,circle1))\n",
    "l2,w2=4,8\n",
    "area2,circle2=CalcAreaAndCircle(l2,w2)  #通过封装函数可以避免重复代码\n",
    "print('长方形的面积为：%d,周长为：%d'%(area2,circle2))\n",
    "    "
   ]
  },
  {
   "cell_type": "markdown",
   "metadata": {},
   "source": [
    "# 常用函数"
   ]
  },
  {
   "cell_type": "code",
   "execution_count": 57,
   "metadata": {},
   "outputs": [
    {
     "name": "stdout",
     "output_type": "stream",
     "text": [
      "0o12 <class 'str'>\n"
     ]
    }
   ],
   "source": [
    "b=10\n",
    "c=oct(b)    #把数字b转换成八进制串\n",
    "print(c,type(c))"
   ]
  },
  {
   "cell_type": "code",
   "execution_count": 2,
   "metadata": {},
   "outputs": [
    {
     "name": "stdout",
     "output_type": "stream",
     "text": [
      "97\n"
     ]
    }
   ],
   "source": [
    "x='a'\n",
    "print(ord(x))   #返回1个字符的ASCII编码。"
   ]
  },
  {
   "cell_type": "code",
   "execution_count": 60,
   "metadata": {},
   "outputs": [
    {
     "name": "stdout",
     "output_type": "stream",
     "text": [
      "239.23\n"
     ]
    }
   ],
   "source": [
    "x=239.2254\n",
    "print(round(x,2))  # 对x进行四舍五入。后面是保留的小数位数，不写表示默认保留整数"
   ]
  },
  {
   "cell_type": "code",
   "execution_count": 61,
   "metadata": {},
   "outputs": [
    {
     "name": "stdout",
     "output_type": "stream",
     "text": [
      "56 <class 'str'>\n"
     ]
    }
   ],
   "source": [
    "x=56\n",
    "str1=str(x)\n",
    "print(str1,type(str1))    #把对象x转换成字符串"
   ]
  },
  {
   "cell_type": "code",
   "execution_count": 76,
   "metadata": {},
   "outputs": [
    {
     "name": "stdout",
     "output_type": "stream",
     "text": [
      "50\n",
      "32\n",
      "4\n"
     ]
    }
   ],
   "source": [
    "x='32'\n",
    "y=int(x,16)\n",
    "print(y)\n",
    "print(int(x))\n",
    "print(int(4.94))"
   ]
  },
  {
   "cell_type": "code",
   "execution_count": 77,
   "metadata": {},
   "outputs": [
    {
     "name": "stdout",
     "output_type": "stream",
     "text": [
      "5\n"
     ]
    }
   ],
   "source": [
    "a=-5\n",
    "print(abs(a))    #返回一个数字a的绝对值"
   ]
  },
  {
   "cell_type": "code",
   "execution_count": 80,
   "metadata": {},
   "outputs": [
    {
     "name": "stdout",
     "output_type": "stream",
     "text": [
      "0b110 <class 'str'>\n"
     ]
    }
   ],
   "source": [
    "a=6\n",
    "print(bin(a),type(bin(a)))    #返回数字a的二进制串"
   ]
  },
  {
   "cell_type": "code",
   "execution_count": 81,
   "metadata": {},
   "outputs": [
    {
     "name": "stdout",
     "output_type": "stream",
     "text": [
      "a\n"
     ]
    }
   ],
   "source": [
    "x=97\n",
    "print(chr(x))    #返回ASCII编码为x的字符，x的范围是0~255"
   ]
  },
  {
   "cell_type": "code",
   "execution_count": 82,
   "metadata": {},
   "outputs": [
    {
     "name": "stdout",
     "output_type": "stream",
     "text": [
      "50\n"
     ]
    }
   ],
   "source": [
    "a='10+40'\n",
    "print(eval(a))   #计算字符串中的表达式的值并返回"
   ]
  },
  {
   "cell_type": "code",
   "execution_count": 84,
   "metadata": {},
   "outputs": [
    {
     "name": "stdout",
     "output_type": "stream",
     "text": [
      "0x12\n"
     ]
    }
   ],
   "source": [
    "a=18\n",
    "print(hex(a))"
   ]
  },
  {
   "cell_type": "code",
   "execution_count": 85,
   "metadata": {},
   "outputs": [
    {
     "name": "stdout",
     "output_type": "stream",
     "text": [
      "1860070528\n"
     ]
    }
   ],
   "source": [
    "a=3\n",
    "print(id(a))     #返回a在内存中存放的地址"
   ]
  },
  {
   "cell_type": "code",
   "execution_count": 4,
   "metadata": {},
   "outputs": [
    {
     "name": "stdout",
     "output_type": "stream",
     "text": [
      "Help on class float in module builtins:\n",
      "\n",
      "class float(object)\n",
      " |  float(x) -> floating point number\n",
      " |  \n",
      " |  Convert a string or number to a floating point number, if possible.\n",
      " |  \n",
      " |  Methods defined here:\n",
      " |  \n",
      " |  __abs__(self, /)\n",
      " |      abs(self)\n",
      " |  \n",
      " |  __add__(self, value, /)\n",
      " |      Return self+value.\n",
      " |  \n",
      " |  __bool__(self, /)\n",
      " |      self != 0\n",
      " |  \n",
      " |  __divmod__(self, value, /)\n",
      " |      Return divmod(self, value).\n",
      " |  \n",
      " |  __eq__(self, value, /)\n",
      " |      Return self==value.\n",
      " |  \n",
      " |  __float__(self, /)\n",
      " |      float(self)\n",
      " |  \n",
      " |  __floordiv__(self, value, /)\n",
      " |      Return self//value.\n",
      " |  \n",
      " |  __format__(...)\n",
      " |      float.__format__(format_spec) -> string\n",
      " |      \n",
      " |      Formats the float according to format_spec.\n",
      " |  \n",
      " |  __ge__(self, value, /)\n",
      " |      Return self>=value.\n",
      " |  \n",
      " |  __getattribute__(self, name, /)\n",
      " |      Return getattr(self, name).\n",
      " |  \n",
      " |  __getformat__(...) from builtins.type\n",
      " |      float.__getformat__(typestr) -> string\n",
      " |      \n",
      " |      You probably don't want to use this function.  It exists mainly to be\n",
      " |      used in Python's test suite.\n",
      " |      \n",
      " |      typestr must be 'double' or 'float'.  This function returns whichever of\n",
      " |      'unknown', 'IEEE, big-endian' or 'IEEE, little-endian' best describes the\n",
      " |      format of floating point numbers used by the C type named by typestr.\n",
      " |  \n",
      " |  __getnewargs__(...)\n",
      " |  \n",
      " |  __gt__(self, value, /)\n",
      " |      Return self>value.\n",
      " |  \n",
      " |  __hash__(self, /)\n",
      " |      Return hash(self).\n",
      " |  \n",
      " |  __int__(self, /)\n",
      " |      int(self)\n",
      " |  \n",
      " |  __le__(self, value, /)\n",
      " |      Return self<=value.\n",
      " |  \n",
      " |  __lt__(self, value, /)\n",
      " |      Return self<value.\n",
      " |  \n",
      " |  __mod__(self, value, /)\n",
      " |      Return self%value.\n",
      " |  \n",
      " |  __mul__(self, value, /)\n",
      " |      Return self*value.\n",
      " |  \n",
      " |  __ne__(self, value, /)\n",
      " |      Return self!=value.\n",
      " |  \n",
      " |  __neg__(self, /)\n",
      " |      -self\n",
      " |  \n",
      " |  __new__(*args, **kwargs) from builtins.type\n",
      " |      Create and return a new object.  See help(type) for accurate signature.\n",
      " |  \n",
      " |  __pos__(self, /)\n",
      " |      +self\n",
      " |  \n",
      " |  __pow__(self, value, mod=None, /)\n",
      " |      Return pow(self, value, mod).\n",
      " |  \n",
      " |  __radd__(self, value, /)\n",
      " |      Return value+self.\n",
      " |  \n",
      " |  __rdivmod__(self, value, /)\n",
      " |      Return divmod(value, self).\n",
      " |  \n",
      " |  __repr__(self, /)\n",
      " |      Return repr(self).\n",
      " |  \n",
      " |  __rfloordiv__(self, value, /)\n",
      " |      Return value//self.\n",
      " |  \n",
      " |  __rmod__(self, value, /)\n",
      " |      Return value%self.\n",
      " |  \n",
      " |  __rmul__(self, value, /)\n",
      " |      Return value*self.\n",
      " |  \n",
      " |  __round__(...)\n",
      " |      Return the Integral closest to x, rounding half toward even.\n",
      " |      When an argument is passed, work like built-in round(x, ndigits).\n",
      " |  \n",
      " |  __rpow__(self, value, mod=None, /)\n",
      " |      Return pow(value, self, mod).\n",
      " |  \n",
      " |  __rsub__(self, value, /)\n",
      " |      Return value-self.\n",
      " |  \n",
      " |  __rtruediv__(self, value, /)\n",
      " |      Return value/self.\n",
      " |  \n",
      " |  __setformat__(...) from builtins.type\n",
      " |      float.__setformat__(typestr, fmt) -> None\n",
      " |      \n",
      " |      You probably don't want to use this function.  It exists mainly to be\n",
      " |      used in Python's test suite.\n",
      " |      \n",
      " |      typestr must be 'double' or 'float'.  fmt must be one of 'unknown',\n",
      " |      'IEEE, big-endian' or 'IEEE, little-endian', and in addition can only be\n",
      " |      one of the latter two if it appears to match the underlying C reality.\n",
      " |      \n",
      " |      Override the automatic determination of C-level floating point type.\n",
      " |      This affects how floats are converted to and from binary strings.\n",
      " |  \n",
      " |  __str__(self, /)\n",
      " |      Return str(self).\n",
      " |  \n",
      " |  __sub__(self, value, /)\n",
      " |      Return self-value.\n",
      " |  \n",
      " |  __truediv__(self, value, /)\n",
      " |      Return self/value.\n",
      " |  \n",
      " |  __trunc__(...)\n",
      " |      Return the Integral closest to x between 0 and x.\n",
      " |  \n",
      " |  as_integer_ratio(...)\n",
      " |      float.as_integer_ratio() -> (int, int)\n",
      " |      \n",
      " |      Return a pair of integers, whose ratio is exactly equal to the original\n",
      " |      float and with a positive denominator.\n",
      " |      Raise OverflowError on infinities and a ValueError on NaNs.\n",
      " |      \n",
      " |      >>> (10.0).as_integer_ratio()\n",
      " |      (10, 1)\n",
      " |      >>> (0.0).as_integer_ratio()\n",
      " |      (0, 1)\n",
      " |      >>> (-.25).as_integer_ratio()\n",
      " |      (-1, 4)\n",
      " |  \n",
      " |  conjugate(...)\n",
      " |      Return self, the complex conjugate of any float.\n",
      " |  \n",
      " |  fromhex(...) from builtins.type\n",
      " |      float.fromhex(string) -> float\n",
      " |      \n",
      " |      Create a floating-point number from a hexadecimal string.\n",
      " |      >>> float.fromhex('0x1.ffffp10')\n",
      " |      2047.984375\n",
      " |      >>> float.fromhex('-0x1p-1074')\n",
      " |      -5e-324\n",
      " |  \n",
      " |  hex(...)\n",
      " |      float.hex() -> string\n",
      " |      \n",
      " |      Return a hexadecimal representation of a floating-point number.\n",
      " |      >>> (-0.1).hex()\n",
      " |      '-0x1.999999999999ap-4'\n",
      " |      >>> 3.14159.hex()\n",
      " |      '0x1.921f9f01b866ep+1'\n",
      " |  \n",
      " |  is_integer(...)\n",
      " |      Return True if the float is an integer.\n",
      " |  \n",
      " |  ----------------------------------------------------------------------\n",
      " |  Data descriptors defined here:\n",
      " |  \n",
      " |  imag\n",
      " |      the imaginary part of a complex number\n",
      " |  \n",
      " |  real\n",
      " |      the real part of a complex number\n",
      "\n"
     ]
    }
   ],
   "source": [
    "help(float) # 返回对象的帮助信息 "
   ]
  },
  {
   "cell_type": "code",
   "execution_count": 87,
   "metadata": {},
   "outputs": [
    {
     "name": "stdout",
     "output_type": "stream",
     "text": [
      "13\n",
      "5\n"
     ]
    }
   ],
   "source": [
    "str3='Hello Python!'\n",
    "print(len(str3))    #返回对象str3的长度或元素个数\n",
    "str4=[1,2,3,4,5]\n",
    "print(len(str4))    #返回对象str3的长度或元素个数"
   ]
  },
  {
   "cell_type": "code",
   "execution_count": 88,
   "metadata": {},
   "outputs": [
    {
     "name": "stdout",
     "output_type": "stream",
     "text": [
      "0o12 <class 'str'>\n"
     ]
    }
   ],
   "source": [
    "b=10\n",
    "c=oct(b)    #把数字b转换成八进制串\n",
    "print(c,type(c))"
   ]
  },
  {
   "cell_type": "code",
   "execution_count": 89,
   "metadata": {},
   "outputs": [
    {
     "name": "stdout",
     "output_type": "stream",
     "text": [
      "25\n"
     ]
    }
   ],
   "source": [
    "a=5\n",
    "b=2\n",
    "c=pow(a,b)      #返回a的b次方\n",
    "print(c)"
   ]
  },
  {
   "cell_type": "markdown",
   "metadata": {},
   "source": [
    "#### 练习"
   ]
  },
  {
   "cell_type": "code",
   "execution_count": 109,
   "metadata": {},
   "outputs": [
    {
     "name": "stdout",
     "output_type": "stream",
     "text": [
      "请输入三个数字：\n",
      "789\n",
      "456\n",
      "123\n",
      "最小值是： 123\n",
      "123\n"
     ]
    }
   ],
   "source": [
    "#1.定义一个函数，求出三个数的最小值，在主程序中调用该函数并打印结果\n",
    "#定义函数的步骤：1.函数完成什么功能，决定了函数名是什么 GetMin\n",
    "#                2.需要的输入信息是谁呢么，输入是三个数字\n",
    "#                3.函数输出是什么，函数运行后达什么目的，return 最小值\n",
    "#                4.实现函数，即写函数体里的代码\n",
    "def GetMin(a,b,c):         #第一种方法\n",
    "    if a<=b:\n",
    "        if a<=c:\n",
    "            return a\n",
    "        else:\n",
    "            return c\n",
    "    else:\n",
    "        if b<=c:\n",
    "            return b\n",
    "        else:\n",
    "            return c\n",
    "def GetMin_1(a,b,c):       #第二种方法\n",
    "    temp=a\n",
    "    if temp>=b:\n",
    "        temp=b\n",
    "    if temp>=c:\n",
    "        temp=c\n",
    "    return temp\n",
    "print('请输入三个数字：')\n",
    "num1=input()\n",
    "num2=input()\n",
    "num3=input()\n",
    "minNum=GetMin_1(num1,num2,num3)\n",
    "print('最小值是：',minNum)\n",
    "print(min(num1,num2,num3))  #第三种方法\n",
    "    "
   ]
  },
  {
   "cell_type": "code",
   "execution_count": 4,
   "metadata": {},
   "outputs": [
    {
     "name": "stdout",
     "output_type": "stream",
     "text": [
      "6不是质数\n",
      "100以内所有质数的和为1060\n"
     ]
    }
   ],
   "source": [
    "#2.定义一个函数,判断一个数是否为质数（一个数只能被1和它自己整除），并在主程序中求100以内所有质数的和\n",
    "def IsPrime(num):\n",
    "    for i in range(2,num):\n",
    "        if num%i!=0:\n",
    "            pass\n",
    "        else:\n",
    "            return False\n",
    "    return True\n",
    "\n",
    "d=6\n",
    "c=IsPrime(d)\n",
    "if c==True:\n",
    "    print('%d是质数'%d)\n",
    "else:\n",
    "    print('%d不是质数'%d)\n",
    "\n",
    "\n",
    "sum1=0\n",
    "for x in range(2,101):\n",
    "#     k=IsPrime(x)\n",
    "#     if k==True:\n",
    "    if IsPrime(x):\n",
    "        sum1+=x\n",
    "    else:\n",
    "        pass\n",
    "print('100以内所有质数的和为{}'.format(sum1))\n",
    "        \n",
    "    "
   ]
  },
  {
   "cell_type": "code",
   "execution_count": 10,
   "metadata": {},
   "outputs": [
    {
     "name": "stdout",
     "output_type": "stream",
     "text": [
      "function A\n",
      "functionB:a<=0\n",
      "functionC: 8 5\n",
      "a=1,b=2,c=3\n",
      "a=2,b=1,c=3\n",
      "a=1,b=3,c=2\n"
     ]
    }
   ],
   "source": [
    "def functionA():       #函数无参数\n",
    "    print('function A')\n",
    "functionA()           #调用函数functionA()\n",
    "\n",
    "#################################\n",
    "\n",
    "def functionB(a,b):\n",
    "    if(a>0):\n",
    "        print('functionB:a>0')\n",
    "        return       #return后面不跟参数\n",
    "    print('functionB:a<=0')\n",
    "functionB(-5,3)\n",
    "\n",
    "##################################\n",
    "\n",
    "def functionC(a,b=5):               #参数b有默认值，且带默认值的参数放在右边\n",
    "    if a>0:\n",
    "        s=a+b\n",
    "        return s,b\n",
    "    else:\n",
    "        s=a-b\n",
    "        return s,b\n",
    "ss,b=functionC(3)\n",
    "print('functionC:',ss,b)\n",
    "\n",
    "############打乱参数的顺序########\n",
    "def functionD(a,b,c):\n",
    "    print('a={},b={},c={}'.format(a,b,c))\n",
    "functionD(1,2,3)\n",
    "functionD(b=1,a=2,c=3)     #推荐\n",
    "functionD(1,c=2,b=3)\n",
    "# functionD(c=1,2,a=3)     #出错"
   ]
  },
  {
   "cell_type": "code",
   "execution_count": null,
   "metadata": {},
   "outputs": [],
   "source": []
  }
 ],
 "metadata": {
  "kernelspec": {
   "display_name": "Python 3",
   "language": "python",
   "name": "python3"
  },
  "language_info": {
   "codemirror_mode": {
    "name": "ipython",
    "version": 3
   },
   "file_extension": ".py",
   "mimetype": "text/x-python",
   "name": "python",
   "nbconvert_exporter": "python",
   "pygments_lexer": "ipython3",
   "version": "3.6.5"
  }
 },
 "nbformat": 4,
 "nbformat_minor": 2
}
