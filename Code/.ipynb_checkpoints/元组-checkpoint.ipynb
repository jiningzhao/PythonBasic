{
 "cells": [
  {
   "cell_type": "markdown",
   "metadata": {},
   "source": [
    "# 创建元组"
   ]
  },
  {
   "cell_type": "code",
   "execution_count": 5,
   "metadata": {},
   "outputs": [
    {
     "name": "stdout",
     "output_type": "stream",
     "text": [
      "('a',) <class 'tuple'>\n",
      "[1, 3, 5, 7]\n",
      "(1, 3, 5, 7)\n",
      "(0, 1, 2, 3, 4)\n",
      "('H', 'e', 'l', 'l', 'o')\n"
     ]
    }
   ],
   "source": [
    "a_tuple=(1,3,5,7)                               # 定义一个元组，用小括号\n",
    "b_tuple=()                                      # 创建一个空元组\n",
    "c_tuple=('a',)                                  # 创建只有一个元素的元组时，逗号不能省略\n",
    "c_tuple='a','b',                                # 不写圆括号也可以创建元组，只有一个元素的元组时，逗号不能省略\n",
    "print(c_tuple,type(c_tuple))\n",
    "\n",
    "#元组和列表可以相互转换\n",
    "\n",
    "b_List=list(a_tuple)                           # 将元组转化成列表\n",
    "print(b_List)\n",
    "d_tuple=tuple(b_List)                          # 将列表转换成元组\n",
    "print(d_tuple)\n",
    "\n",
    "# 借助tuple函数创建元组\n",
    "e_tuple=tuple(range(5))\n",
    "print(e_tuple)\n",
    "f_tuple=tuple('Hello')\n",
    "print(f_tuple)"
   ]
  },
  {
   "cell_type": "markdown",
   "metadata": {},
   "source": [
    "## 练习"
   ]
  },
  {
   "cell_type": "code",
   "execution_count": 2,
   "metadata": {},
   "outputs": [
    {
     "name": "stdout",
     "output_type": "stream",
     "text": [
      "[16, 19, 20, 31, 36, 36, 36, 37, 40, 48, 58, 59, 62, 64, 77, 84, 89, 93, 94, 99]\n",
      "请输入一个数字：38\n",
      "[16, 19, 20, 31, 36, 36, 36, 37, 38, 40, 48, 58, 59, 62, 64, 77, 84, 89, 93, 94, 99]\n"
     ]
    }
   ],
   "source": [
    "#1.随机生成一个含有20个整数的列表，将其按照从小到大的顺序排序\n",
    "#  再从键盘输入一个数字，插入到序列适当的位置，通过自定义函数insertList完成（利用insert()方法）\n",
    "import random\n",
    "aList=[random.randint(0,100) for i in range(20)]\n",
    "aList.sort()\n",
    "print(aList)\n",
    "a=int(input('请输入一个数字：'))\n",
    "def insertList(m):\n",
    "    for i in aList:\n",
    "        if i>=m:\n",
    "            aList.insert(aList.index(i),m)\n",
    "            break\n",
    "insertList(a)\n",
    "print(aList)\n",
    "    \n"
   ]
  },
  {
   "cell_type": "code",
   "execution_count": 8,
   "metadata": {},
   "outputs": [
    {
     "name": "stdout",
     "output_type": "stream",
     "text": [
      "1.0000、1.0325、1.0661、1.1007、1.1365、1.1734、1.2115、1.2509、1.2916、1.3336、1.3769、1.4216、1.4678、1.5156、1.5648、1.6157、1.6682、1.7224、1.7784、1.8362、1.8958、1.9575、2.0211、2.0868、2.1546、2.2246、2.2969、2.3715、2.4486、2.5282、"
     ]
    }
   ],
   "source": [
    "#2.假定一年期定期利率3.25%，将每年的“本金+利率”的结果保存到一个列表中，打印其前30项的值,小数点后保留4位\n",
    "#  如[1,1.0325，1.0661,......]\n",
    "a=[1]\n",
    "for i in range(29):\n",
    "    a.append(a[i]*(1+0.0325))\n",
    "for j in a:\n",
    "    print('%.4f'%j,end='、')\n",
    "    \n",
    "    \n"
   ]
  },
  {
   "cell_type": "code",
   "execution_count": 10,
   "metadata": {},
   "outputs": [
    {
     "name": "stdout",
     "output_type": "stream",
     "text": [
      "请给出任意字符串：aajhsjwl3ak\n",
      "h、s、w、l、3、k、"
     ]
    }
   ],
   "source": [
    "#3.编写函数，给定任意字符串，找出所有只出现一次的字符\n",
    "a=str(input('请给出任意字符串：'))\n",
    "for i in a:\n",
    "    if a.count(i)==1:\n",
    "        print(i,end='、')"
   ]
  },
  {
   "cell_type": "code",
   "execution_count": null,
   "metadata": {},
   "outputs": [],
   "source": []
  }
 ],
 "metadata": {
  "kernelspec": {
   "display_name": "Python 3",
   "language": "python",
   "name": "python3"
  },
  "language_info": {
   "codemirror_mode": {
    "name": "ipython",
    "version": 3
   },
   "file_extension": ".py",
   "mimetype": "text/x-python",
   "name": "python",
   "nbconvert_exporter": "python",
   "pygments_lexer": "ipython3",
   "version": "3.6.5"
  }
 },
 "nbformat": 4,
 "nbformat_minor": 2
}
