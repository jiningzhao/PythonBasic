{
 "cells": [
  {
   "cell_type": "markdown",
   "metadata": {},
   "source": [
    "# 函数递归调用"
   ]
  },
  {
   "cell_type": "code",
   "execution_count": 1,
   "metadata": {},
   "outputs": [
    {
     "name": "stdout",
     "output_type": "stream",
     "text": [
      "55\n"
     ]
    }
   ],
   "source": [
    "# 求1~10的和\n",
    "def CalcSum(s,n):                 # s表示前几个已经求完和的结果，n表示需要加的数字\n",
    "    if n>10:\n",
    "        return s\n",
    "    return CalcSum(s+n,n+1)\n",
    "sum1=CalcSum(0,1)\n",
    "print(sum1)"
   ]
  },
  {
   "cell_type": "code",
   "execution_count": 2,
   "metadata": {},
   "outputs": [
    {
     "name": "stdout",
     "output_type": "stream",
     "text": [
      "before modify a= 3\n",
      "v: 4\n",
      "after modify a= 3\n",
      "--------------------\n",
      "before modify1 a1= [3]\n",
      "v: [4]\n",
      "after modify1 a1= [4]\n"
     ]
    }
   ],
   "source": [
    "# 形参是不可变类型时，函数内的修改不影响实参\n",
    "def modify(v):          #v是形参\n",
    "    v+=1\n",
    "    print('v:',v)\n",
    "a=3\n",
    "print('before modify a=',a)\n",
    "modify(a)              # a是实参\n",
    "print('after modify a=',a)\n",
    "\n",
    "print('-'*20)\n",
    "# 形参是可变类型时，函数内修改形参，影响实参\n",
    "def modify1(v):          #v是形参\n",
    "    v[0]+=1\n",
    "    print('v:',v)\n",
    "a1=[3]\n",
    "print('before modify1 a1=',a1)\n",
    "modify1(a1)              # a是实参\n",
    "print('after modify1 a1=',a1)"
   ]
  },
  {
   "cell_type": "code",
   "execution_count": 3,
   "metadata": {},
   "outputs": [
    {
     "name": "stdout",
     "output_type": "stream",
     "text": [
      "[1, 2, 3, 4, '5']\n",
      "['a', 'b', 'aaa']\n",
      "['a']\n",
      "['a', 'b']\n",
      "['a', 'b', 'c']\n",
      "[1, 2, 3, 4, 5]\n"
     ]
    }
   ],
   "source": [
    "# 默认值参数陷阱,原因是默认值参数的赋值只会在函数定义时被解释一次，因此默认值参数不要用可变类型\n",
    "def demo(newitem,old_list=[]):      # 假定默认参数放在内存0x12345678\n",
    "    old_list.append(newitem)\n",
    "    return old_list\n",
    "print(demo('5',[1,2,3,4]))          # 前两次调用时传递的是两个实参的引用\n",
    "print(demo('aaa',['a','b']))\n",
    "print(demo('a'))                    # 本地调用时，第一次对默认参数进行赋值，默认值参数是可变类型，对他的修改在原地操作，被保留下来了\n",
    "print(demo('b'))                    # 错了，原因是默认值参数的赋值只会在函数定义时被解释一次，本次操作时用的还是上一次的old_list\n",
    "print(demo('c'))\n",
    "print(demo(5,[1,2,3,4]))"
   ]
  },
  {
   "cell_type": "code",
   "execution_count": null,
   "metadata": {},
   "outputs": [],
   "source": [
    "# 有位置参数时，位置参数必须在关键字参数的前面\n",
    "def demo(a,b,c=5):\n",
    "    print(a,b,c)\n",
    "\n",
    "demo(5,6,7)           #a=5,b=6,c=7，这里的实参都是位置参数\n",
    "demo(5,c=7,b=6)      #5是位置参数，c=7,b=6是关键字参数"
   ]
  }
 ],
 "metadata": {
  "kernelspec": {
   "display_name": "Python 3",
   "language": "python",
   "name": "python3"
  },
  "language_info": {
   "codemirror_mode": {
    "name": "ipython",
    "version": 3
   },
   "file_extension": ".py",
   "mimetype": "text/x-python",
   "name": "python",
   "nbconvert_exporter": "python",
   "pygments_lexer": "ipython3",
   "version": "3.6.5"
  }
 },
 "nbformat": 4,
 "nbformat_minor": 2
}
