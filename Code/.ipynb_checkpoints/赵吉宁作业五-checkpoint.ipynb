{
 "cells": [
  {
   "cell_type": "code",
   "execution_count": 1,
   "metadata": {},
   "outputs": [
    {
     "name": "stdout",
     "output_type": "stream",
     "text": [
      "姓名：张三,基本工资10000、奖金1000、扣除的五险一金1000.0，扣除的个人所得税745.0\n",
      "姓名：李四,基本工资15000、奖金1000、扣除的五险一金1500.0，扣除的个人所得税1745.0\n",
      "姓名：王五,基本工资8000、奖金500、扣除的五险一金800.0，扣除的个人所得税315.0\n",
      "公司支付的总钱数38800.0，五险一金数3300.0，全体员工个人所得税总数2805.0\n"
     ]
    }
   ],
   "source": [
    "#公司月末统计工资表，每个人的工资组成包括基本工资、奖金、扣除的五险一金=基本工资*10%，扣除的个人所得税\n",
    "#五险一金除了个人扣除部分外，公司还需要为每个人交其基本工资*10%\n",
    "\n",
    "#要求构造类保存每个人的工资信息，和公司需要支付的总钱数,五险一金数（公司交部分，不包括个人扣除部分），全体员工个人所得税总数\n",
    "#能够打印出每个人的工资条，和公司支付的总钱数，五险一金数，全体员工个人所得税总数\n",
    "#其中每个人的姓名，基本工资，奖金由文件读入，格式如下：\n",
    "#张三，10000,1000\n",
    "#李四，15000，1000\n",
    "#王五，8000，500\n",
    "class Wages(object):\n",
    "    __all=0\n",
    "    __allWu=0\n",
    "    __allshui=0\n",
    "    def __init__(self,name,jbgongzi,jiangjin,shui,a):\n",
    "        self.__a=a\n",
    "        self.__shui=shui\n",
    "        self.__name=name\n",
    "        self.__jbgongzi=jbgongzi\n",
    "        self.__jiangjin=jiangjin\n",
    "        self.__kcWu=self.__jbgongzi/10\n",
    "        self.__kcGe=(self.__jbgongzi+self.__jiangjin-self.__kcWu-3500)*self.__shui-self.__a\n",
    "        Wages.__all+=self.__jbgongzi*0.1+self.__jbgongzi+self.__jiangjin\n",
    "        Wages.__allWu+=self.__kcWu\n",
    "        Wages.__allshui+=self.__kcGe\n",
    "    def printInfo(self):\n",
    "        print('姓名：{},基本工资{}、奖金{}、扣除的五险一金{}，扣除的个人所得税{}'.format(self.__name,self.__jbgongzi,self.__jiangjin,self.__kcWu,self.__kcGe))\n",
    "    @classmethod\n",
    "    def printOutfo(cls):\n",
    "        print('公司支付的总钱数{}，五险一金数{}，全体员工个人所得税总数{}'.format(Wages.__all,Wages.__allWu,Wages.__allshui))\n",
    "f=open(r'C:\\Users\\Administrator\\Desktop\\Wages.txt','r')\n",
    "b=f.readlines()\n",
    "c1=b[0].split(',')\n",
    "c2=b[1].split(',')\n",
    "c3=b[2].split(',')\n",
    "def If(c):\n",
    "        if c<1500:\n",
    "            shui,a=0.03,0\n",
    "        elif c<4500:\n",
    "            shui,a=0.1,105\n",
    "        elif c<9000:\n",
    "            shui,a=0.2,555\n",
    "        elif c<35000:\n",
    "            shui,a=0.25,1005\n",
    "        elif c<55000:\n",
    "            shui,a=0.3,2755\n",
    "        elif c<80000:\n",
    "            shui,a=0.35,5505\n",
    "        else:\n",
    "            shui,a=0.45,13505 \n",
    "        return shui,a\n",
    "shui1,a1=If(int(c1[1])*0.9-3500)\n",
    "shui2,a2=If(int(c2[1])*0.9-3500)\n",
    "shui3,a3=If(int(c3[1])*0.9-3500)\n",
    "person1=Wages(c1[0],int(c1[1]),int(c1[2]),shui1,a1)\n",
    "person2=Wages(c2[0],int(c2[1]),int(c2[2]),shui2,a2)\n",
    "person3=Wages(c3[0],int(c3[1]),int(c3[2]),shui3,a3)\n",
    "person1.printInfo()\n",
    "person2.printInfo()\n",
    "person3.printInfo()\n",
    "Wages.printOutfo()\n",
    "f.close()\n",
    "        "
   ]
  },
  {
   "cell_type": "code",
   "execution_count": null,
   "metadata": {},
   "outputs": [],
   "source": []
  }
 ],
 "metadata": {
  "kernelspec": {
   "display_name": "Python 3",
   "language": "python",
   "name": "python3"
  },
  "language_info": {
   "codemirror_mode": {
    "name": "ipython",
    "version": 3
   },
   "file_extension": ".py",
   "mimetype": "text/x-python",
   "name": "python",
   "nbconvert_exporter": "python",
   "pygments_lexer": "ipython3",
   "version": "3.6.5"
  }
 },
 "nbformat": 4,
 "nbformat_minor": 2
}
