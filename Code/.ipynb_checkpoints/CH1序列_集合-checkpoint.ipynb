{
 "cells": [
  {
   "cell_type": "markdown",
   "metadata": {},
   "source": [
    "## 创建集合、删除"
   ]
  },
  {
   "cell_type": "code",
   "execution_count": 6,
   "metadata": {},
   "outputs": [
    {
     "name": "stdout",
     "output_type": "stream",
     "text": [
      "set()\n"
     ]
    }
   ],
   "source": [
    "# 注意，集合中的元素必须是不可变的，如数字、字符串、元组\n",
    "aSet={'a','b','c','d','a'}   # 创建集合时自动去除掉重复的元素，显示时顺序可能和创建时不一致\n",
    "bSet={}                      # 创建空集合，{}也可能代表字典\n",
    "\n",
    "cSet=set(range(8,14))\n",
    "dSet=set([1,2,3,0,1,2,3,7,8,9])   # 自动去除重复元素\n",
    "eSet=set()                        # 空集合\n",
    "print(eSet)\n",
    "\n",
    "del aSet                         # 删除集合"
   ]
  },
  {
   "cell_type": "markdown",
   "metadata": {},
   "source": [
    "## 添加元素"
   ]
  },
  {
   "cell_type": "code",
   "execution_count": 14,
   "metadata": {},
   "outputs": [
    {
     "name": "stdout",
     "output_type": "stream",
     "text": [
      "{8, 9, 10, 11, 12, 13, 'a'}\n"
     ]
    }
   ],
   "source": [
    "aSet=set(range(8,14))\n",
    "aSet.add('a')               # 向集合里面添加元素,只能添加一个元素\n",
    "print(aSet)"
   ]
  },
  {
   "cell_type": "markdown",
   "metadata": {},
   "source": [
    "## 删除元素"
   ]
  },
  {
   "cell_type": "code",
   "execution_count": 21,
   "metadata": {},
   "outputs": [
    {
     "name": "stdout",
     "output_type": "stream",
     "text": [
      "{9, 10, 11, 12, 13, 'a'} 8\n",
      "{9, 10, 11, 12, 13}\n",
      "set()\n"
     ]
    }
   ],
   "source": [
    "\n",
    "# pop()\n",
    "aSet={8, 9, 10, 11, 12, 13, 'a'}\n",
    "b=aSet.pop()      # pop()无法指定位置，因为集合是无序的，随机的删掉一个元素,返回删除的元素值\n",
    "print(aSet,b)\n",
    "\n",
    "# remove\n",
    "aSet.remove('a')   # remove删除值等于参数的元素,若删除的元素不存在，抛异常\n",
    "print(aSet)\n",
    "\n",
    "# clear()清空集合\n",
    "aSet.clear()\n",
    "print(aSet)"
   ]
  },
  {
   "cell_type": "markdown",
   "metadata": {},
   "source": [
    "## 集合操作"
   ]
  },
  {
   "cell_type": "code",
   "execution_count": 28,
   "metadata": {},
   "outputs": [
    {
     "name": "stdout",
     "output_type": "stream",
     "text": [
      "{8, 9, 10, 11, 12}\n",
      "{0, 1, 2, 3, 4, 8, 9, 10, 11, 12}\n",
      "{8, 9, 10, 11, 12} {0, 1, 2, 3, 4, 8} {0, 1, 2, 3, 4, 8, 9, 10, 11, 12}\n",
      "{8}\n",
      "{8}\n",
      "{9, 10, 11, 12}\n",
      "{9, 10, 11, 12}\n",
      "{0, 1, 2, 3, 4, 9, 10, 11, 12}\n",
      "{0, 1, 2, 3, 4, 9, 10, 11, 12}\n"
     ]
    }
   ],
   "source": [
    "#######################并集####################\n",
    "a_Set={8,9,10,11,12}\n",
    "b_Set={0,1,2,3,4,8}\n",
    "c_Set=a_Set | b_Set               # 并集，创建了一个新集合\n",
    "print(a_Set)\n",
    "print(c_Set)\n",
    "c_Set=a_Set.union(b_Set)          # 通过函数求并集，返回的是新创建的集合\n",
    "print(a_Set,b_Set,c_Set)\n",
    "\n",
    "#######################交集###################\n",
    "d_Set=a_Set & b_Set\n",
    "print(d_Set)\n",
    "d_Set=a_Set.intersection(b_Set)\n",
    "print(d_Set)\n",
    "\n",
    "#######################差集###################\n",
    "e_Set=a_Set - b_Set\n",
    "print(e_Set)\n",
    "e_Set=a_Set.difference(b_Set)\n",
    "print(e_Set)\n",
    "\n",
    "######################对称差集###############\n",
    "f_Set=a_Set ^ b_Set                     # a_Set、b_Set中所有不重复元素的集合\n",
    "print(f_Set)\n",
    "f_Set=a_Set.symmetric_difference(b_Set)\n",
    "print(f_Set)\n",
    "\n",
    "# a_Set.issubset(b_Set)                 #a_Set是否是b_Set的子集\n",
    "# a_Set.isdisjoint(b_Set)               #a_Set和b_Set的交集是否为空\n",
    "# 包含关系的判断可以用> < >= <= == !=进行判断"
   ]
  },
  {
   "cell_type": "code",
   "execution_count": null,
   "metadata": {},
   "outputs": [],
   "source": []
  }
 ],
 "metadata": {
  "kernelspec": {
   "display_name": "Python 3",
   "language": "python",
   "name": "python3"
  },
  "language_info": {
   "codemirror_mode": {
    "name": "ipython",
    "version": 3
   },
   "file_extension": ".py",
   "mimetype": "text/x-python",
   "name": "python",
   "nbconvert_exporter": "python",
   "pygments_lexer": "ipython3",
   "version": "3.6.5"
  }
 },
 "nbformat": 4,
 "nbformat_minor": 2
}
