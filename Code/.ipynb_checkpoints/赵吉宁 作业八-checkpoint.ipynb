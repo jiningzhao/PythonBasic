{
 "cells": [
  {
   "cell_type": "code",
   "execution_count": 5,
   "metadata": {},
   "outputs": [
    {
     "name": "stdout",
     "output_type": "stream",
     "text": [
      "[32, 50, 51, 6, 45, 59, 8, 44, 67, 47, 74, 35, 68, 90, 86, 29, 27, 89, 11, 73]\n",
      "最大值为90下标是13,最小值为6下标是3,\n"
     ]
    }
   ],
   "source": [
    "#1.随机生成一个含有20个整数的列表，找到其中的最大值、最小值、以及最大值和最小值所在的下标，利用max、min函数\n",
    "import random\n",
    "aList=[random.randint(0,100) for i in range(20)]\n",
    "print(aList)\n",
    "print('最大值为{}下标是{},最小值为{}下标是{},'.format(max(aList),aList.index(max(aList)),min(aList),aList.index(min(aList))))"
   ]
  },
  {
   "cell_type": "code",
   "execution_count": 7,
   "metadata": {},
   "outputs": [
    {
     "name": "stdout",
     "output_type": "stream",
     "text": [
      "请输入一个年份：1996\n",
      "1996年是闰年!\n"
     ]
    }
   ],
   "source": [
    "#2.定义一个函数，输入一个年份，判断该年是否是闰年。闰年满足以下两个条件之一即可\n",
    "#   （1）能被4整除但不能被100整除  （2）能被400整除\n",
    "a=int(input('请输入一个年份：'))\n",
    "def run(n):\n",
    "    if (n%4==0 and n%100!=0) or (n%400==0):\n",
    "        print('{}年是闰年!'.format(n))\n",
    "    else:\n",
    "        print('{}年不是闰年！'.format(n))\n",
    "run(a)"
   ]
  },
  {
   "cell_type": "code",
   "execution_count": 21,
   "metadata": {},
   "outputs": [
    {
     "name": "stdout",
     "output_type": "stream",
     "text": [
      "请输入年：1996\n",
      "1996年是闰年!\n",
      "请输入月：13\n",
      "输入月份错误\n"
     ]
    }
   ],
   "source": [
    "#3.定义一个函数，输入年，月，日，计算该日期是这一年的第几天，判断是否是闰年用上一题的函数即可，要求用tuple保存每个月有多少天\n",
    "def year(n):\n",
    "    if (n%4==0 and n%100!=0) or (n%400==0):\n",
    "        print('{}年是闰年!'.format(n))\n",
    "        b_tuple=(31,29,31,30,31,30,31,31,30,31,30,31)\n",
    "    else:\n",
    "        print('{}年不是闰年！'.format(n))\n",
    "        b_tuple=(31,28,31,30,31,30,31,31,30,31,30,31)\n",
    "    return b_tuple\n",
    "def month(m):\n",
    "    sum=0\n",
    "    for i in range(m-1):\n",
    "        sum+=a_tuple[i]\n",
    "    return sum\n",
    "a=int(input('请输入年：'))\n",
    "a_tuple=year(a)\n",
    "b=int(input('请输入月：'))\n",
    "if b>12:\n",
    "    print('输入月份错误!')\n",
    "else:\n",
    "    b1=month(b)\n",
    "    c=int(input('请输入日：'))\n",
    "    if c<0 or c>a_tuple[b-1]:\n",
    "        print('输入日期错误！')\n",
    "    else:\n",
    "        print('该日期是这一年的第{}天'.format(b1+c))"
   ]
  },
  {
   "cell_type": "code",
   "execution_count": null,
   "metadata": {},
   "outputs": [],
   "source": []
  }
 ],
 "metadata": {
  "kernelspec": {
   "display_name": "Python 3",
   "language": "python",
   "name": "python3"
  },
  "language_info": {
   "codemirror_mode": {
    "name": "ipython",
    "version": 3
   },
   "file_extension": ".py",
   "mimetype": "text/x-python",
   "name": "python",
   "nbconvert_exporter": "python",
   "pygments_lexer": "ipython3",
   "version": "3.6.5"
  }
 },
 "nbformat": 4,
 "nbformat_minor": 2
}
