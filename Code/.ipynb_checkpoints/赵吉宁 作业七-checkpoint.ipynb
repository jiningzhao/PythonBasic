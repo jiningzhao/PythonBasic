{
 "cells": [
  {
   "cell_type": "code",
   "execution_count": 5,
   "metadata": {},
   "outputs": [
    {
     "name": "stdout",
     "output_type": "stream",
     "text": [
      "请输入年龄：69\n",
      "我今年69岁,我能说会道,我健步如飞\n"
     ]
    }
   ],
   "source": [
    "# 1.定义一个抽象类Person,包括两个抽象方法talk,walk\n",
    "#   三个子类：婴儿，talk中打印“我不会说话只会哭”，walk中打印“我用四条腿爬”\n",
    "#             青年人，talk中打印“我能说会道”，walk中打印“我健步如飞”\n",
    "#             老年人，talk中打印“我吐字不清”，walk中打印“我需要拄拐”\n",
    "# 输入年龄，<2岁，创建婴儿对象，打印以上信息，>70岁，创建老人对象，打印以上信息，其他创建青年人对象\n",
    "import abc\n",
    "class Person(metaclass=abc.ABCMeta):\n",
    "    @abc.abstractmethod\n",
    "    def talk(self):\n",
    "        pass\n",
    "    @abc.abstractmethod\n",
    "    def walk(self):\n",
    "        pass\n",
    "class Baby(Person):\n",
    "    def __init__(self,n):\n",
    "        self.__n=n\n",
    "        print('我今年{}岁'.format(self.__n),end=',')\n",
    "    def talk(self):\n",
    "        print(\"我不会说话我只会哭\",end=',')\n",
    "    def walk(self):\n",
    "        print(\"我用四条腿爬\")\n",
    "class Man(Person):\n",
    "    def __init__(self,n):\n",
    "        self.__n=n\n",
    "        print('我今年{}岁'.format(self.__n),end=',')\n",
    "    def talk(self):\n",
    "        print(\"我能说会道\",end=',')\n",
    "    def walk(self):\n",
    "        print(\"我健步如飞\")\n",
    "class Old(Person):\n",
    "    def __init__(self,n):\n",
    "        self.__n=n\n",
    "        print('我今年{}岁'.format(self.__n),end=',')\n",
    "    def talk(self):\n",
    "        print(\"我吐字不清\",end=',')\n",
    "    def walk(self):\n",
    "        print(\"我需要拄拐\")\n",
    "\n",
    "a=int(input('请输入年龄：'))\n",
    "if a<2:\n",
    "    b=Baby(a)\n",
    "elif a<70:\n",
    "    b=Man(a)\n",
    "else:\n",
    "    b=Old(a)\n",
    "def printInfo(nianling):\n",
    "    nianling.talk()\n",
    "    nianling.walk()\n",
    "printInfo(b)\n",
    "        "
   ]
  },
  {
   "cell_type": "code",
   "execution_count": 16,
   "metadata": {},
   "outputs": [
    {
     "name": "stdout",
     "output_type": "stream",
     "text": [
      "请输入5个字符串：\n",
      "1：z\n",
      "2：a\n",
      "3：d\n",
      "4：f\n",
      "5：g\n",
      "x= ['z', 'a', 'd', 'f', 'g']\n",
      "加入4个数字后x= ['z', 6, 'a', 7, 'd', 8, 'f', 9, 'g']\n",
      "数字所在的下标: [1, 3, 5, 7]\n"
     ]
    }
   ],
   "source": [
    "# 2.创建列表，内容为5个字符串，字符串的内容为用户输入的信息\n",
    "# 然后在5个字符串中间，插入4个数字，值依次为6,7,8,9\n",
    "# 然后遍历序列中的所有元素，得到数字所在的下标（用type判断类型），保存在另一个列表中\n",
    "print('请输入5个字符串：')\n",
    "a1=str(input('1：'))\n",
    "a2=str(input('2：'))\n",
    "a3=str(input('3：'))\n",
    "a4=str(input('4：'))\n",
    "a5=str(input('5：'))\n",
    "x=[a1,a2,a3,a4,a5]\n",
    "print('x=',x)\n",
    "# for j in range(6,10):\n",
    "#     x.insert(j-5,j)\n",
    "x.insert(1,6)\n",
    "x.insert(3,7)\n",
    "x.insert(5,8)\n",
    "x.insert(7,9)\n",
    "print('加入4个数字后x=',x)\n",
    "y=[]\n",
    "for i in range(len(x)):\n",
    "    if type(x[i])==int:\n",
    "        y.append(i)\n",
    "print('数字所在的下标:',y)"
   ]
  },
  {
   "cell_type": "code",
   "execution_count": null,
   "metadata": {},
   "outputs": [],
   "source": []
  }
 ],
 "metadata": {
  "kernelspec": {
   "display_name": "Python 3",
   "language": "python",
   "name": "python3"
  },
  "language_info": {
   "codemirror_mode": {
    "name": "ipython",
    "version": 3
   },
   "file_extension": ".py",
   "mimetype": "text/x-python",
   "name": "python",
   "nbconvert_exporter": "python",
   "pygments_lexer": "ipython3",
   "version": "3.6.5"
  }
 },
 "nbformat": 4,
 "nbformat_minor": 2
}
