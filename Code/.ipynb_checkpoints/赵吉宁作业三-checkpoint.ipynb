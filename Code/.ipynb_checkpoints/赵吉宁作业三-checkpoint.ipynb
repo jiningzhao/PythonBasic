{
 "cells": [
  {
   "cell_type": "code",
   "execution_count": 3,
   "metadata": {},
   "outputs": [
    {
     "name": "stdout",
     "output_type": "stream",
     "text": [
      "1、1、2、3、5、8、13、21、34、55、89、144、233、377、610、987、1597、2584、4181、6765、"
     ]
    }
   ],
   "source": [
    "#1.打印斐波那契数列的前20项，斐波那契数列的值为1,1,2,3,5,8,13······\n",
    "a=1\n",
    "b=1\n",
    "i=2\n",
    "print(a,end='、')\n",
    "print(b,end='、')\n",
    "while True:\n",
    "    c=a+b\n",
    "    a=b\n",
    "    b=c\n",
    "    i+=1\n",
    "    print(c,end='、')\n",
    "    if i==20:\n",
    "        break\n",
    "    \n",
    "    \n",
    "    "
   ]
  },
  {
   "cell_type": "code",
   "execution_count": 7,
   "metadata": {},
   "outputs": [
    {
     "name": "stdout",
     "output_type": "stream",
     "text": [
      "32.66026079864164\n"
     ]
    }
   ],
   "source": [
    "#2.有一分数序列，2/1,3/2,5/3,8/5,13/8,21/3······，求这个数列的前20项之和\n",
    "a=1\n",
    "b=1\n",
    "sum=0\n",
    "i=0\n",
    "while True:\n",
    "    c=a+b\n",
    "    sum+=c/b\n",
    "    i+=1\n",
    "    a=b\n",
    "    b=c\n",
    "    if i==20:\n",
    "        break\n",
    "print(sum)\n",
    "\n",
    "\n",
    "   \n",
    "    \n",
    "    \n",
    "    "
   ]
  },
  {
   "cell_type": "code",
   "execution_count": 8,
   "metadata": {},
   "outputs": [
    {
     "name": "stdout",
     "output_type": "stream",
     "text": [
      "请输入一个数n：3\n",
      "1~n的和为：6\n"
     ]
    }
   ],
   "source": [
    "#3.定义一个函数，求1~n的和，在主程序中由用户输入n的值\n",
    "num=int(input('请输入一个数n：'))\n",
    "sum=0\n",
    "for i in range(1,num+1):\n",
    "    sum+=i\n",
    "print('1~n的和为：%d'%sum)\n",
    "    "
   ]
  },
  {
   "cell_type": "code",
   "execution_count": null,
   "metadata": {},
   "outputs": [],
   "source": [
    "#4.定义一个函数，求一个数的阶乘，在主程序中计算1！+2！+3！+.....20！的值\n",
    "def mum():\n",
    "    sum=1\n",
    "    for i in range(1,n+1):\n",
    "        sum*=i\n",
    "    return sum\n",
    "q=0\n",
    "for x in range(21):\n",
    "    q+=x.mum()\n",
    "    \n",
    "        "
   ]
  },
  {
   "cell_type": "code",
   "execution_count": null,
   "metadata": {},
   "outputs": [],
   "source": [
    "#5.定义一个函数，计算身高（单位m）和体重（单位kg）BMI指数。BMI=体重/身高的平方\n",
    "#再定义一个函数，根据BMI值判断体重是否正常，原则如下：\n",
    "#低于18.5：过轻\n",
    "#18.5-25：正常\n",
    "#25-28：过重\n",
    "#28-32：肥胖\n",
    "#高于32：严重肥胖\n",
    "#在主函数中输入用户的身高和体重，调用以上两个函数，打印出用户的BMI值和体重标准"
   ]
  }
 ],
 "metadata": {
  "kernelspec": {
   "display_name": "Python 3",
   "language": "python",
   "name": "python3"
  },
  "language_info": {
   "codemirror_mode": {
    "name": "ipython",
    "version": 3
   },
   "file_extension": ".py",
   "mimetype": "text/x-python",
   "name": "python",
   "nbconvert_exporter": "python",
   "pygments_lexer": "ipython3",
   "version": "3.6.5"
  }
 },
 "nbformat": 4,
 "nbformat_minor": 2
}
