{
 "cells": [
  {
   "cell_type": "markdown",
   "metadata": {},
   "source": [
    "## 创建数组"
   ]
  },
  {
   "cell_type": "code",
   "execution_count": 6,
   "metadata": {},
   "outputs": [
    {
     "name": "stdout",
     "output_type": "stream",
     "text": [
      "[1 2 3 4] <class 'numpy.ndarray'>\n",
      "维度： 1\n",
      "形状： (4,)\n",
      "元素个数： 4\n",
      "元素类型： int32\n",
      "每个元素占的字节数： 4\n"
     ]
    }
   ],
   "source": [
    "import numpy as np      # 导入numpy库\n",
    "\n",
    "arr1=np.array([1,2,3,4])   # 创建一个一维的行向量 [1 2 3 4]\n",
    "print(arr1,type(arr1))\n",
    "\n",
    "print('维度：',arr1.ndim)\n",
    "print('形状：',arr1.shape)     # 得到的形状是用元组来保存的\n",
    "print('元素个数：',arr1.size)\n",
    "print('元素类型：',arr1.dtype)  # int32表示整数，占32个bit，即32/8=4个字节\n",
    "print('每个元素占的字节数：',arr1.itemsize)"
   ]
  },
  {
   "cell_type": "code",
   "execution_count": 10,
   "metadata": {},
   "outputs": [
    {
     "name": "stdout",
     "output_type": "stream",
     "text": [
      "[[ 1  2  3]\n",
      " [ 4  5  6]\n",
      " [ 7  8  9]\n",
      " [10 11 12]] <class 'numpy.ndarray'>\n",
      "维度： 2\n",
      "形状： (4, 3)\n",
      "元素个数： 12\n",
      "元素类型： int32\n",
      "每个元素占的字节数： 4\n"
     ]
    }
   ],
   "source": [
    "arr2=np.array([[1,2,3],[4,5,6],[7,8,9],[10,11,12]])     # 创建一个二维向量\n",
    "print(arr2,type(arr2))\n",
    "print('维度：',arr2.ndim)\n",
    "print('形状：',arr2.shape)     # 得到的形状是用元组来保存的\n",
    "print('元素个数：',arr2.size)\n",
    "print('元素类型：',arr2.dtype)  # int32表示整数，占32个bit，即32/8=4个字节\n",
    "print('每个元素占的字节数：',arr2.itemsize)"
   ]
  },
  {
   "cell_type": "code",
   "execution_count": 11,
   "metadata": {},
   "outputs": [
    {
     "name": "stdout",
     "output_type": "stream",
     "text": [
      "[[ 1  2  3  4]\n",
      " [ 5  6  7  8]\n",
      " [ 9 10 11 12]]\n"
     ]
    }
   ],
   "source": [
    "# 改变矩阵的形状\n",
    "arr2.shape=(3,4)       # 改变矩阵形状，注意形状改变前后，矩阵里元素的个数即size不变\n",
    "print(arr2)"
   ]
  },
  {
   "cell_type": "code",
   "execution_count": 19,
   "metadata": {},
   "outputs": [
    {
     "name": "stdout",
     "output_type": "stream",
     "text": [
      "[0.  0.1 0.2 0.3 0.4 0.5 0.6 0.7 0.8 0.9 1. ]\n"
     ]
    }
   ],
   "source": [
    "arr3=np.arange(0,1.1,0.1)      # 从0到1，步长是0.1\n",
    "print(arr3)\n"
   ]
  },
  {
   "cell_type": "code",
   "execution_count": 21,
   "metadata": {},
   "outputs": [
    {
     "name": "stdout",
     "output_type": "stream",
     "text": [
      "[0.         0.09090909 0.18181818 0.27272727 0.36363636 0.45454545\n",
      " 0.54545455 0.63636364 0.72727273 0.81818182 0.90909091 1.        ]\n",
      "[  1.           1.27427499   1.62377674   2.06913808   2.6366509\n",
      "   3.35981829   4.2813324    5.45559478   6.95192796   8.8586679\n",
      "  11.28837892  14.38449888  18.32980711  23.35721469  29.76351442\n",
      "  37.92690191  48.32930239  61.58482111  78.47599704 100.        ]\n"
     ]
    }
   ],
   "source": [
    "# 创建等差数列，（后一个元素-前一个元素）的值相同\n",
    "arr4=np.linspace(0,1,12)          # [0,1],12表示的是数组元素的个数\n",
    "print(arr4)\n",
    "\n",
    "#　创建等比数列，（后一个元素／前一个元素）的值相同\n",
    "arr5=np.logspace(0,2,20)     # 创建从10**0到10**2之间，含有20个元素的等比数列\n",
    "print(arr5)"
   ]
  },
  {
   "cell_type": "code",
   "execution_count": 22,
   "metadata": {},
   "outputs": [
    {
     "name": "stdout",
     "output_type": "stream",
     "text": [
      "[[0. 0. 0. 0. 0.]\n",
      " [0. 0. 0. 0. 0.]\n",
      " [0. 0. 0. 0. 0.]]\n"
     ]
    }
   ],
   "source": [
    "# 创建一个全0的数组\n",
    "arr6=np.zeros((3,5))   #　３＊５的全０矩阵，shape必须要写成元组\n",
    "print(arr6)"
   ]
  },
  {
   "cell_type": "code",
   "execution_count": 23,
   "metadata": {},
   "outputs": [
    {
     "name": "stdout",
     "output_type": "stream",
     "text": [
      "[[1. 0. 0.]\n",
      " [0. 1. 0.]\n",
      " [0. 0. 1.]]\n"
     ]
    }
   ],
   "source": [
    "# 创建对角线为1的方阵，行和列数相同\n",
    "arr7=np.eye(3)        # 参数3表示方阵是3*3的\n",
    "print(arr7)"
   ]
  },
  {
   "cell_type": "code",
   "execution_count": 24,
   "metadata": {},
   "outputs": [
    {
     "name": "stdout",
     "output_type": "stream",
     "text": [
      "[[1 0 0 0]\n",
      " [0 2 0 0]\n",
      " [0 0 3 0]\n",
      " [0 0 0 4]]\n"
     ]
    }
   ],
   "source": [
    "# 创建对角阵，即对角线元素指定，其他元素为0，方阵\n",
    "arr8=np.diag([1,2,3,4])\n",
    "print(arr8)"
   ]
  },
  {
   "cell_type": "code",
   "execution_count": 25,
   "metadata": {},
   "outputs": [
    {
     "name": "stdout",
     "output_type": "stream",
     "text": [
      "[[1. 1. 1. 1. 1.]\n",
      " [1. 1. 1. 1. 1.]\n",
      " [1. 1. 1. 1. 1.]]\n"
     ]
    }
   ],
   "source": [
    "# 创建全1矩阵\n",
    "arr9=np.ones((3,5))       # (3,5)是形状\n",
    "print(arr9)"
   ]
  },
  {
   "cell_type": "markdown",
   "metadata": {},
   "source": [
    "## 元素的访问"
   ]
  },
  {
   "cell_type": "code",
   "execution_count": 37,
   "metadata": {},
   "outputs": [
    {
     "name": "stdout",
     "output_type": "stream",
     "text": [
      "[[ 1  2  3]\n",
      " [ 4  5  6]\n",
      " [ 7  8  9]\n",
      " [10 11 12]]\n",
      "[1 2 3]\n",
      "4\n",
      "4\n",
      "[[  1   2   3]\n",
      " [  4   5   6]\n",
      " [  7   8 200]\n",
      " [ 10  11  12]]\n"
     ]
    }
   ],
   "source": [
    "arr2=np.array([[1,2,3],[4,5,6],[7,8,9],[10,11,12]])\n",
    "print(arr2)\n",
    "\n",
    "print(arr2[0])           # 访问二维矩阵的第0行\n",
    "print(arr2[1][0])        # 访问矩阵里的4，行下标是1，列下标是0\n",
    "print(arr2[1,0])\n",
    "\n",
    "arr2[2][2]=200           # 将矩阵中的9改为200\n",
    "print(arr2)\n",
    "\n",
    "\n"
   ]
  },
  {
   "cell_type": "markdown",
   "metadata": {},
   "source": [
    "## 元素类型dtype"
   ]
  },
  {
   "cell_type": "code",
   "execution_count": 36,
   "metadata": {},
   "outputs": [
    {
     "name": "stdout",
     "output_type": "stream",
     "text": [
      "[('tomato', 500, 1.2) ('cabbage', 100, 0.5)]\n",
      "tomato\n",
      "tomato\n"
     ]
    }
   ],
   "source": [
    "df = np.dtype([('name',np.str_,40),('kucun',np.int64),('prict',np.float64)]) #自定义数据类型，使用np.dtype函数\n",
    "\n",
    "goods=np.array([('tomato',500,1.2),('cabbage',100,0.5)],dtype=df)  # 使用自定义类型创建数组\n",
    "print(goods)\n",
    "\n",
    "print(goods[0]['name'])\n",
    "print(goods[0][0])             # 和上一行等价\n"
   ]
  },
  {
   "cell_type": "markdown",
   "metadata": {},
   "source": [
    "# 练习："
   ]
  },
  {
   "cell_type": "code",
   "execution_count": 102,
   "metadata": {},
   "outputs": [
    {
     "name": "stdout",
     "output_type": "stream",
     "text": [
      "[0 0 0 0 1 0 0 0 0 0]\n",
      "------------------------------\n",
      "[[10 11 12 13]\n",
      " [14 15 16 17]\n",
      " [18 19 20 21]]\n",
      "------------------------------\n",
      "[78 28 14 29 34 16 57 28 41 25]\n",
      "[25 41 28 57 16 34 29 14 28 78]\n",
      "------------------------------\n",
      "[[[0.30021392 0.82401373]\n",
      "  [0.73284919 0.76788119]]\n",
      "\n",
      " [[0.14407317 0.02330131]\n",
      "  [0.58736661 0.43219103]]]\n",
      "------------------------------\n",
      "[[1. 1. 1. 1.]\n",
      " [1. 0. 0. 1.]\n",
      " [1. 0. 0. 1.]\n",
      " [1. 1. 1. 1.]]\n",
      "------------------------------\n",
      "[ 1  2  3 -4 -5 -6 -7 -8 -9 10]\n",
      "------------------------------\n",
      "[[ True  True  True]\n",
      " [ True  True  True]\n",
      " [ True  True  True]]\n",
      "------------------------------\n",
      "[1 3 5 7 9]\n",
      "------------------------------\n",
      "[-1 46 -1 38 84 26  4 56 -1 -1]\n",
      "------------------------------\n",
      "[10 12 14 16 18 20]\n",
      "[  3.16227766   5.17947468   8.48342898  13.89495494  22.75845926\n",
      "  37.2759372   61.05402297 100.        ]\n"
     ]
    }
   ],
   "source": [
    "\n",
    "#１.创建一个大小为10，第5个值为1，其他值为0的向量\n",
    "arr1=np.zeros(10,dtype=np.int32)\n",
    "arr1[4]=1\n",
    "print(arr1)\n",
    "print('-'*30)\n",
    "\n",
    "#2.创建一个值为10~21的向量，并将其形状改为3行4列\n",
    "arr2=np.arange(10,22,1).reshape(3,4)\n",
    "# arr2.shape=(3,4)\n",
    "print(arr2)\n",
    "print('-'*30)\n",
    "\n",
    "#3.随机生成一个含有10个整数的向量，并将其所有元素顺序变为倒序（最后一个变到第一个，倒数第二个变到第二个），用切片\n",
    "import random\n",
    "# arr3=np.array([np.random.randint(10) for i in range(10)])\n",
    "arr3=np.random.randint(0,100,size=[10])\n",
    "print(arr3)\n",
    "print(arr3[::-1])\n",
    "print('-'*30)\n",
    "\n",
    "#4.创建一个2*2*2的随机数组，元素范围0~1\n",
    "import random\n",
    "# arr4=np.array([[[np.random.random(2)] for i in range(2)] for i in range(2)])\n",
    "arr4=np.random.random(8).reshape(2,2,2)\n",
    "print(arr4)\n",
    "print('-'*30)\n",
    "\n",
    "#5.创建一个4*4的数组，其边框元素为一，里面元素为0\n",
    "arr5=np.zeros((4,4))\n",
    "arr5[(0,-1),:]=1     # 等价于 arr6[0,:]=1     arr6[3,:]=1,第一行和最后一行改为1\n",
    "arr5[:,0]=1          # 第一列改为1\n",
    "arr5[:,-1]=1         # 最后一列改为1\n",
    "print(arr5)\n",
    "print('-'*30)\n",
    "\n",
    "\n",
    "#6.创建一个有10个元素的数组，将其中下标为3~8范围内的元素取反，即5变-5\n",
    "arr6=np.arange(1,11)\n",
    "# for i in range(3,9):\n",
    "#     arr6[i]*=-1\n",
    "arr6[3:9]=arr6[3:9]*(-1)\n",
    "print(arr6)\n",
    "print('-'*30)\n",
    "\n",
    "#7.创建一个3*3的数组，所有的元素类型都是np.bool类型，初值都是True\n",
    "arr7=np.ones((3,3),dtype=np.bool)\n",
    "print(arr7)\n",
    "print('-'*30)\n",
    "\n",
    "#8.创建一个值为0~10的向量，提取其中下标为奇数的元素，构成新数组\n",
    "arr8=np.arange(0,11)\n",
    "arr8_1=arr8[1::2]\n",
    "print(arr8_1)\n",
    "print('-'*30)\n",
    "\n",
    "# 9.创建一个含有10个随机整数的向量，用-1代替其中的奇数\n",
    "import random\n",
    "# arr9=np.array([np.random.randint(10) for i in range(10)])\n",
    "arr9=np.random.randint(0,100,size=[10])\n",
    "for i in range(len(arr9)):\n",
    "    if arr9[i]%2!=0:\n",
    "        arr9[i]=-1\n",
    "print(arr9)\n",
    "print('-'*30)\n",
    "\n",
    "#10.创建一个范围在10~20之间，含有6个元素的等差数列\n",
    "#   创建一个等比数列，值在10**0.5到10**2之间，含有8个元素\n",
    "arr10=np.linspace(10,20,6,dtype=np.int32)\n",
    "print(arr10)\n",
    "arr10_1=np.logspace(0.5,2,8)\n",
    "print(arr10_1)\n"
   ]
  },
  {
   "cell_type": "markdown",
   "metadata": {},
   "source": [
    "## 元素的访问"
   ]
  },
  {
   "cell_type": "code",
   "execution_count": 6,
   "metadata": {},
   "outputs": [
    {
     "name": "stdout",
     "output_type": "stream",
     "text": [
      "1\n",
      "[1 2 3 4]\n",
      "------------------------------\n",
      "[[ 0  1  2  3]\n",
      " [ 4  5  6  7]\n",
      " [ 8  9 10 11]]\n",
      "6\n",
      "[[ 5  6]\n",
      " [ 9 10]]\n",
      "4 6 11\n",
      "[ 4  6 11]\n",
      "[ True False  True]\n"
     ]
    }
   ],
   "source": [
    "# 一维的数组 \n",
    "import numpy as np\n",
    "arr=np.arange(10)\n",
    "print(arr[1])             # 访问一个元素\n",
    "print(arr[1:5])          # 访问多个元素\n",
    "\n",
    "# 多维的数组，以二维为例\n",
    "print('-'*30)\n",
    "arr1=np.arange(12).reshape((3,4))        # 创建3行4列的矩阵\n",
    "print(arr1)\n",
    "print(arr1[1,2])            # 访问一个元素\n",
    "print(arr1[1:,1:3])         # 访问连续的一块\n",
    "print(arr1[1,0],arr1[1,2],arr1[-1,-1])\n",
    "print(arr1[(1,1,-1),(0,2,-1)])           # 等价于上一行，上一行得到的是列表，本行得到的是ndarray\n"
   ]
  },
  {
   "cell_type": "code",
   "execution_count": 9,
   "metadata": {},
   "outputs": [
    {
     "name": "stdout",
     "output_type": "stream",
     "text": [
      "[[ 0  1  2]\n",
      " [ 3  4  5]\n",
      " [ 6  7  8]\n",
      " [ 9 10 11]]\n",
      "[ True False  True]\n",
      "[3 5]\n"
     ]
    }
   ],
   "source": [
    "# 借助于布尔值索引访问多个元素\n",
    "arr2=np.arange(12).reshape((4,3))        #4*3的数组\n",
    "print(arr2)\n",
    "\n",
    "# mask\n",
    "mask=np.array([1,0,1],dtype=np.bool)       # 创建bool类型的数组，0的位置是False，1的位置是True\n",
    "print(mask)\n",
    "\n",
    "print(arr2[1,mask])        # mask中为False的元素去掉，True的元素保留"
   ]
  },
  {
   "cell_type": "markdown",
   "metadata": {},
   "source": [
    "## 改变数组的形状"
   ]
  },
  {
   "cell_type": "code",
   "execution_count": 10,
   "metadata": {},
   "outputs": [
    {
     "name": "stdout",
     "output_type": "stream",
     "text": [
      "[ 0  1  2  3  4  5  6  7  8  9 10 11] <class 'numpy.ndarray'>\n",
      "[[ 0  1  2  3]\n",
      " [ 4  5  6  7]\n",
      " [ 8  9 10 11]]\n"
     ]
    }
   ],
   "source": [
    "# np.ndarry.reshape()  ，要有ndarray的数组对象，才能调用\n",
    "arr=np.arange(12)\n",
    "print(arr,type(arr))\n",
    "arr1=arr.reshape(3,4)        #1. reshape返回一个新的数组，3行4列\n",
    "print(arr1) \n",
    "arr1.shape=(4,3)             #2. 直接修改shape属性完成修改形状，在原数组的基础上操作\n",
    "print(arr1)"
   ]
  },
  {
   "cell_type": "code",
   "execution_count": 16,
   "metadata": {},
   "outputs": [
    {
     "name": "stdout",
     "output_type": "stream",
     "text": [
      "[[ 0  1  2  3]\n",
      " [ 4  5  6  7]\n",
      " [ 8  9 10 11]]\n",
      "[ 0  1  2  3  4  5  6  7  8  9 10 11]\n",
      "[ 0  1  2  3  4  5  6  7  8  9 10 11]\n",
      "[ 0  4  8  1  5  9  2  6 10  3  7 11]\n"
     ]
    }
   ],
   "source": [
    "arr=np.arange(12).reshape(3,4)\n",
    "print(arr)\n",
    "\n",
    "# 展平，将二维数组变成一维数组 ，得到新数组，原来数组不变\n",
    "arr1=arr.ravel()          #1.ravel函数，先展第一行，再展第二行\n",
    "print(arr1)\n",
    "arr2=arr.flatten()        #2.flatten函数，默认和ravel相同\n",
    "print(arr2)\n",
    "arr3=arr.flatten('F')    # 'F'按列展开，先展第一列，再展第二列\n",
    "print(arr3)"
   ]
  },
  {
   "cell_type": "code",
   "execution_count": 21,
   "metadata": {},
   "outputs": [
    {
     "name": "stdout",
     "output_type": "stream",
     "text": [
      "arr1:\n",
      " [[ 0  1  2  3]\n",
      " [ 4  5  6  7]\n",
      " [ 8  9 10 11]]\n",
      "arr2:\n",
      " [[12 13 14]\n",
      " [15 16 17]\n",
      " [18 19 20]]\n",
      "arr3:\n",
      " [[ 0  1  2  3 12 13 14  0  1  2  3]\n",
      " [ 4  5  6  7 15 16 17  4  5  6  7]\n",
      " [ 8  9 10 11 18 19 20  8  9 10 11]]\n",
      "arr4:\n",
      " [[ 0  1  2  3 12 13 14]\n",
      " [ 4  5  6  7 15 16 17]\n",
      " [ 8  9 10 11 18 19 20]]\n",
      "arr5:\n",
      " [[ 0  4  8]\n",
      " [ 1  5  9]\n",
      " [ 2  6 10]\n",
      " [ 3  7 11]\n",
      " [12 13 14]\n",
      " [15 16 17]\n",
      " [18 19 20]]\n",
      "arr6:\n",
      " [[ 0  4  8]\n",
      " [ 1  5  9]\n",
      " [ 2  6 10]\n",
      " [ 3  7 11]\n",
      " [12 13 14]\n",
      " [15 16 17]\n",
      " [18 19 20]]\n"
     ]
    }
   ],
   "source": [
    "# 组合数组：横向组合要求行数相同，纵向组合要求列数相同\n",
    "import numpy as np\n",
    "arr1=np.arange(12).reshape(3,4)\n",
    "print(\"arr1:\\n\",arr1)\n",
    "arr2=np.arange(12,21).reshape(3,3)\n",
    "print(\"arr2:\\n\",arr2)\n",
    "\n",
    "# 横向组合\n",
    "arr3=np.hstack((arr1,arr2,arr1))       # arr1,arr2,arr1横向组合，可以是多个数组的组合\n",
    "print(\"arr3:\\n\",arr3)\n",
    "arr4=np.concatenate((arr1,arr2),axis=1)     # 效果同hstack\n",
    "print(\"arr4:\\n\",arr4)\n",
    "\n",
    "# 纵向组合，要求列相同，把arr1做转置，arr1.T\n",
    "arr5=np.vstack((arr1.T,arr2))\n",
    "print(\"arr5:\\n\",arr5)\n",
    "arr6=np.concatenate((arr1.T,arr2),axis=0)     # 效果同vstack\n",
    "print(\"arr6:\\n\",arr6)"
   ]
  },
  {
   "cell_type": "code",
   "execution_count": 28,
   "metadata": {},
   "outputs": [
    {
     "name": "stdout",
     "output_type": "stream",
     "text": [
      "arr:\n",
      " [[ 0  1  2  3  4  5]\n",
      " [ 6  7  8  9 10 11]\n",
      " [12 13 14 15 16 17]\n",
      " [18 19 20 21 22 23]\n",
      " [24 25 26 27 28 29]\n",
      " [30 31 32 33 34 35]]\n",
      "arr1:\n",
      " <class 'list'> \n",
      " [array([[ 0,  1],\n",
      "       [ 6,  7],\n",
      "       [12, 13],\n",
      "       [18, 19],\n",
      "       [24, 25],\n",
      "       [30, 31]]), array([[ 2,  3],\n",
      "       [ 8,  9],\n",
      "       [14, 15],\n",
      "       [20, 21],\n",
      "       [26, 27],\n",
      "       [32, 33]]), array([[ 4,  5],\n",
      "       [10, 11],\n",
      "       [16, 17],\n",
      "       [22, 23],\n",
      "       [28, 29],\n",
      "       [34, 35]])]\n",
      "arr2:\n",
      " [array([[ 0,  1],\n",
      "       [ 6,  7],\n",
      "       [12, 13],\n",
      "       [18, 19],\n",
      "       [24, 25],\n",
      "       [30, 31]]), array([[ 2,  3],\n",
      "       [ 8,  9],\n",
      "       [14, 15],\n",
      "       [20, 21],\n",
      "       [26, 27],\n",
      "       [32, 33]]), array([[ 4,  5],\n",
      "       [10, 11],\n",
      "       [16, 17],\n",
      "       [22, 23],\n",
      "       [28, 29],\n",
      "       [34, 35]])]\n",
      "arr3:\n",
      " [array([[ 0,  1,  2,  3,  4,  5],\n",
      "       [ 6,  7,  8,  9, 10, 11],\n",
      "       [12, 13, 14, 15, 16, 17]]), array([[18, 19, 20, 21, 22, 23],\n",
      "       [24, 25, 26, 27, 28, 29],\n",
      "       [30, 31, 32, 33, 34, 35]])]\n",
      "arr4:\n",
      " [array([[ 0,  1,  2,  3,  4,  5],\n",
      "       [ 6,  7,  8,  9, 10, 11],\n",
      "       [12, 13, 14, 15, 16, 17]]), array([[18, 19, 20, 21, 22, 23],\n",
      "       [24, 25, 26, 27, 28, 29],\n",
      "       [30, 31, 32, 33, 34, 35]])]\n"
     ]
    }
   ],
   "source": [
    "# 数组切割\n",
    "arr=np.arange(36).reshape(6,6)\n",
    "print(\"arr:\\n\",arr)\n",
    "\n",
    "# 横向拆分成三个矩阵 \n",
    "arr1=np.hsplit(arr,3)            # 将arr横向分割成3个数组，放在一个列表中\n",
    "print(\"arr1:\\n\",type(arr1),'\\n',arr1)\n",
    "arr2=np.split(arr,3,axis=1)      # 同hsplit\n",
    "print(\"arr2:\\n\",arr2)\n",
    "\n",
    "# 纵向分割\n",
    "arr3=np.vsplit(arr,2)            #纵向拆成2个\n",
    "print(\"arr3:\\n\",arr3)\n",
    "arr4=np.split(arr,2,axis=0)\n",
    "print(\"arr4:\\n\",arr4)"
   ]
  },
  {
   "cell_type": "markdown",
   "metadata": {},
   "source": [
    "## 创建矩阵matix"
   ]
  },
  {
   "cell_type": "code",
   "execution_count": 41,
   "metadata": {},
   "outputs": [
    {
     "name": "stdout",
     "output_type": "stream",
     "text": [
      "<class 'numpy.matrixlib.defmatrix.matrix'> \n",
      " [[1 2 3]\n",
      " [4 5 6]\n",
      " [7 8 9]]\n",
      "<class 'numpy.matrixlib.defmatrix.matrix'> \n",
      " [[1 2 3]\n",
      " [4 5 6]\n",
      " [7 8 9]]\n",
      "2 (3, 3)\n"
     ]
    }
   ],
   "source": [
    "matr1=np.mat(\"1 2 3;4 5 6;7 8 9\")    # 用分号表示换行，将字符串的数组提取出来创建矩阵，方便文件操作\n",
    "print(type(matr1),'\\n',matr1)\n",
    "# matr2=matr1.flatten()\n",
    "# print(matr2)\n",
    "\n",
    "matr2=np.matrix([[1,2,3],[4,5,6],[7,8,9]]) # 参数了可以是列表\n",
    "print(type(matr2),'\\n',matr2)\n",
    "print(matr2.ndim,matr2.shape) # 维度和形状\n",
    "\n"
   ]
  },
  {
   "cell_type": "code",
   "execution_count": 37,
   "metadata": {},
   "outputs": [
    {
     "name": "stdout",
     "output_type": "stream",
     "text": [
      "[[1 2 3 1 2 3]\n",
      " [4 5 6 4 5 6]\n",
      " [7 8 9 7 8 9]\n",
      " [1 2 3 1 2 3]\n",
      " [4 5 6 4 5 6]\n",
      " [7 8 9 7 8 9]]\n",
      "3 [[1 2 3 1 2 3]]\n"
     ]
    }
   ],
   "source": [
    "matr3=np.bmat(\"matr1 matr2;matr1 matr2\")  # 矩阵组合，同样用分号表示换行\n",
    "print(matr3)\n",
    "print(matr3[0,2],matr3[0,:])                # 元素的访问和数组相同"
   ]
  },
  {
   "cell_type": "markdown",
   "metadata": {},
   "source": [
    "# 矩阵运算"
   ]
  },
  {
   "cell_type": "code",
   "execution_count": 62,
   "metadata": {},
   "outputs": [
    {
     "name": "stdout",
     "output_type": "stream",
     "text": [
      "[1, 2, 3, 1, 2, 3, 1, 2, 3]\n",
      "<class 'numpy.matrixlib.defmatrix.matrix'> <class 'numpy.ndarray'>\n",
      "[[ 1.+2.j  2.+3.j  3.+4.j]\n",
      " [-1.-2.j -2.-3.j -3.-4.j]]\n",
      "[[ True  True  True]\n",
      " [ True  True  True]\n",
      " [ True  True  True]]\n",
      "True\n",
      "True\n"
     ]
    }
   ],
   "source": [
    "# 列表运算，*是针对整个列表重复n次\n",
    "a=[1,2,3]*3\n",
    "print(a)\n",
    "\n",
    "# 矩阵运算，是针对矩阵内的每个元素参与运算\n",
    "matr1=np.matrix([[1,2,3],[4,5,6],[7,8,9]])\n",
    "matr2=np.matrix([[11,12,13],[14,15,16],[17,18,19]])\n",
    "# print(matr*3)                 # 矩阵每个元素*3\n",
    "# print(matr1+matr2)            # 矩阵对应元素相加\n",
    "# print(matr1-matr2)            # 矩阵对应元素相减\n",
    "# print(matr1*matr2)            # 两个矩阵相乘\n",
    "# print(np.multiply(matr1,matr2))   # 矩阵对应元素相乘\n",
    "# print(matr1/3)                  # 矩阵每个元素除以3\n",
    "# print(matr2/matr1)              # 两个矩阵对应元素相除\n",
    "# print(matr1**2)                 # 相当于两个矩阵相乘，等价于matr1*matr1\n",
    "# print(matr1//2)                  # 每个元素对2取整\n",
    "# print(matr1%2)                   # 每个元素对2取余\n",
    "\n",
    "matr3=np.matrix([[1+2j,2+3j,3+4j],[-1-2j,-2-3j,-3-4j]])\n",
    "# print(matr3)\n",
    "# print(matr3.H)           # 共轭转置，共轭是实部不变，虚部取反\n",
    "\n",
    "print(type(matr1),type(matr1.A))  # A将矩阵matrix转换成了数组Nnarray \n",
    "print(matr3.A)\n",
    "\n",
    "print(matr1<matr2)                 # 每个元素去比较，结果放在一个矩阵里\n",
    "# 判断matr1是否所有元素都比matr2小,所有都用all（）\n",
    "print((matr1<matr2).all())\n",
    "# 有一个为True，结果就为True,用any()\n",
    "print((matr1<matr2).any())"
   ]
  },
  {
   "cell_type": "markdown",
   "metadata": {},
   "source": [
    "## 文件操作"
   ]
  },
  {
   "cell_type": "code",
   "execution_count": 81,
   "metadata": {},
   "outputs": [
    {
     "name": "stdout",
     "output_type": "stream",
     "text": [
      "[[1 2 3]\n",
      " [4 5 6]\n",
      " [7 8 9]]\n",
      "[[1. 2. 3.]\n",
      " [4. 5. 6.]\n",
      " [7. 8. 9.]]\n"
     ]
    }
   ],
   "source": [
    "matr1=np.matrix([[1,2,3],[4,5,6],[7,8,9]])\n",
    "matr2=np.matrix([[11,12,13],[14,15,16],[17,18,19]])\n",
    "\n",
    "# 保存、加载二进制文件，save、load、savez、，保存时可以不写文件后缀，加载时不行\n",
    "np.save(r'C:\\Users\\Administrator\\Desktop\\矩阵',matr1)  # 保存一个数组数据，二进制文件，格式是*.npy\n",
    "matr3=np.load(r'C:\\Users\\Administrator\\Desktop\\矩阵.npy')\n",
    "print(matr3)\n",
    "\n",
    "# 文本文件 savetxt、loadtxt\n",
    "np.savetxt(r'C:\\Users\\Administrator\\Desktop\\arr.txt',matr1,fmt=\"%d\",delimiter=',')    #delimiter是分隔符\n",
    "matr4=np.loadtxt(r'C:\\Users\\Administrator\\Desktop\\arr.txt',delimiter=',')\n",
    "print(matr4)"
   ]
  },
  {
   "cell_type": "markdown",
   "metadata": {},
   "source": [
    "## 排序"
   ]
  },
  {
   "cell_type": "code",
   "execution_count": 66,
   "metadata": {},
   "outputs": [
    {
     "name": "stdout",
     "output_type": "stream",
     "text": [
      "[[1 3 5]\n",
      " [5 6 9]\n",
      " [3 4 9]]\n",
      "[[1 3 5]\n",
      " [3 4 9]\n",
      " [5 6 9]]\n",
      "[[0 2 1]\n",
      " [1 2 0]\n",
      " [1 0 2]]\n"
     ]
    }
   ],
   "source": [
    "## sort函数，axis=1为沿横轴排序；axis=0为沿纵轴排序\n",
    "matr1=np.matrix([[1,5,3],[9,5,6],[4,3,9]])\n",
    "matr1.sort(axis=1)          # 排序是修改矩阵本身，没有返回新的矩阵\n",
    "print(matr1)\n",
    "matr1.sort(axis=0)\n",
    "print(matr1)\n",
    "\n",
    "matr1=np.matrix([[1,5,3],[9,5,6],[4,3,9]])\n",
    "print(np.argsort(matr1))          # 返回值为重新排序值得下标，不改变原矩阵\n",
    "print(np.lexsort(matr1))          # 返回值是最后一行数据排列值得下标"
   ]
  },
  {
   "cell_type": "markdown",
   "metadata": {},
   "source": [
    "## 去重复和重复"
   ]
  },
  {
   "cell_type": "code",
   "execution_count": 77,
   "metadata": {},
   "outputs": [
    {
     "name": "stdout",
     "output_type": "stream",
     "text": [
      "[1 2 3 5 6 8]\n",
      "[1 2 3 5 6 8 1 2 3 5 6 8]\n",
      "[2 2 2 3 3 3]\n"
     ]
    }
   ],
   "source": [
    "arr1=np.array([1,3,2,3,5,6,5,8])\n",
    "arr2=np.unique(arr1)         # 去重复且排序\n",
    "print(arr2)\n",
    "\n",
    "# 重复数组\n",
    "arr3=np.tile(arr2,2)        # 类似于列表的乘法运算，让arr2数组重复两次\n",
    "print(arr3)\n",
    "\n",
    "# 重复数组中的元素\n",
    "arr4=np.repeat(arr2[1:3],3,axis=0)      # 按行重复，重复的元素是arr2[1:3]，重复3次\n",
    "print(arr4)\n"
   ]
  },
  {
   "cell_type": "code",
   "execution_count": 79,
   "metadata": {},
   "outputs": [
    {
     "name": "stdout",
     "output_type": "stream",
     "text": [
      "[[12 15 18]]\n",
      "[[2.]\n",
      " [5.]\n",
      " [8.]]\n"
     ]
    }
   ],
   "source": [
    "matr1=np.matrix([[1,2,3],[4,5,6],[7,8,9]])\n",
    "print(np.sum(matr1,axis=0))      # sum求和，axis=0时，表示沿着纵轴计算\n",
    "print(np.mean(matr1,axis=1))     #mean求均值，axis=1，表示沿着横轴计算"
   ]
  },
  {
   "cell_type": "code",
   "execution_count": null,
   "metadata": {},
   "outputs": [],
   "source": []
  }
 ],
 "metadata": {
  "kernelspec": {
   "display_name": "Python 3",
   "language": "python",
   "name": "python3"
  },
  "language_info": {
   "codemirror_mode": {
    "name": "ipython",
    "version": 3
   },
   "file_extension": ".py",
   "mimetype": "text/x-python",
   "name": "python",
   "nbconvert_exporter": "python",
   "pygments_lexer": "ipython3",
   "version": "3.6.5"
  }
 },
 "nbformat": 4,
 "nbformat_minor": 2
}
