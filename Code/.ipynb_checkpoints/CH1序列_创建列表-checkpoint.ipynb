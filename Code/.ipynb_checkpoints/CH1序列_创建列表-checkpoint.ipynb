{
 "cells": [
  {
   "cell_type": "markdown",
   "metadata": {},
   "source": [
    "## 创建列表"
   ]
  },
  {
   "cell_type": "code",
   "execution_count": 7,
   "metadata": {},
   "outputs": [
    {
     "name": "stdout",
     "output_type": "stream",
     "text": [
      "[5]\n"
     ]
    }
   ],
   "source": [
    "a_list=['a','b','math',5.0,7]   # 通过等号为列表赋值\n",
    "b_list=[]                       #创建空列表\n",
    "h_list=[5]                      #列表里只有一个元素\n",
    "# 通过list()函数创建列表\n",
    "c_list=list(['a','b','math',5.0,7])#与等号作用相似\n",
    "d_list=list((1,3,5,7))         # 元组转换成列表\n",
    "e_list=list(range(10,20,3))     #将range()的内容转换成列表\n",
    "f_list=list('Hello')           #将字符串转换成列表\n",
    "g_list=list()                   #用list()创建空列表\n",
    "\n",
    "print(h_list)"
   ]
  },
  {
   "cell_type": "markdown",
   "metadata": {},
   "source": [
    "## 列表的删除"
   ]
  },
  {
   "cell_type": "code",
   "execution_count": 8,
   "metadata": {},
   "outputs": [
    {
     "name": "stdout",
     "output_type": "stream",
     "text": [
      "['a', 'math', 5.0, 7]\n"
     ]
    }
   ],
   "source": [
    "del a_list    #删除列表a_list\n",
    "del c_list[1] #删掉列表里的一个元素，删除下标为1的元素 \n",
    "print(c_list)"
   ]
  },
  {
   "cell_type": "markdown",
   "metadata": {},
   "source": [
    "## 在列表的末尾添加元素"
   ]
  },
  {
   "cell_type": "code",
   "execution_count": 11,
   "metadata": {},
   "outputs": [
    {
     "name": "stdout",
     "output_type": "stream",
     "text": [
      "修改a之前 101440200\n",
      "[1, 2, 3, '1', '2', '3']\n",
      "修改a之后 101525896\n",
      "修改c之前 101525384\n",
      "[3, 4, 5, 9]\n",
      "修改c之后 101525384\n",
      "[1, 2, 3, [4, 5]] [1, 2, 3, 4, 5]\n",
      "[1, 2, 3, [4, 5], '1234'] [1, 2, 3, 4, 5, '1', '2', '3', '4']\n",
      "[1, 2, 3, 4, 5, 6]\n"
     ]
    }
   ],
   "source": [
    "# +，改变列表位置\n",
    "a=[1,2,3]\n",
    "print('修改a之前',id(a))\n",
    "b=['1','2','3']\n",
    "a=a+b\n",
    "print(a)\n",
    "print('修改a之后',id(b))\n",
    "\n",
    "# append，在列表的末尾追加一个元素，只能是一个，不会改变列表的首地址\n",
    "c=[3,4,5]\n",
    "print('修改c之前',id(c))\n",
    "c.append(9)                 # 在列表末尾追加一个元素\n",
    "print(c)\n",
    "print('修改c之后',id(c))\n",
    "\n",
    "# +=,和append比较像，不会改变列表的首地址\n",
    "d=[1,2,3]\n",
    "e=[1,2,3]\n",
    "d.append([4,5])\n",
    "e+=[4,5]\n",
    "print(d,e)\n",
    "\n",
    "d.append('1234')\n",
    "e+='1234'               #将+=右边的内容变成列表，列表中每个元素都将成为e的元素，加在末尾\n",
    "print(d,e)\n",
    "\n",
    "# extend(),将参数转化成列表，每个元素都作为原列表的元素添加到末尾,不改变列表的首地址\n",
    "f=[1,2,3,4]\n",
    "f.extend([5,6])\n",
    "print(f)\n"
   ]
  },
  {
   "cell_type": "markdown",
   "metadata": {},
   "source": [
    "## 在列表的指定位置添加元素"
   ]
  },
  {
   "cell_type": "code",
   "execution_count": 12,
   "metadata": {},
   "outputs": [
    {
     "name": "stdout",
     "output_type": "stream",
     "text": [
      "[1, 2, 'x', 3, 4]\n"
     ]
    }
   ],
   "source": [
    "# insert(index,value)   # 将元素value添加到index的位置，后面的元素向后移位\n",
    "a=[1,2,3,4]\n",
    "a.insert(2,'x')\n",
    "print(a)"
   ]
  },
  {
   "cell_type": "code",
   "execution_count": 15,
   "metadata": {},
   "outputs": [
    {
     "name": "stdout",
     "output_type": "stream",
     "text": [
      "[99, 98, 97, 96, 95, 94, 93, 92, 91, 90, 89, 88, 87, 86, 85, 84, 83, 82, 81, 80, 79, 78, 77, 76, 75, 74, 73, 72, 71, 70, 69, 68, 67, 66, 65, 64, 63, 62, 61, 60, 59, 58, 57, 56, 55, 54, 53, 52, 51, 50, 49, 48, 47, 46, 45, 44, 43, 42, 41, 40, 39, 38, 37, 36, 35, 34, 33, 32, 31, 30, 29, 28, 27, 26, 25, 24, 23, 22, 21, 20, 19, 18, 17, 16, 15, 14, 13, 12, 11, 10, 9, 8, 7, 6, 5, 4, 3, 2, 1, 0]\n"
     ]
    }
   ],
   "source": [
    "a=[]\n",
    "for i in range(100):\n",
    "    a.insert(0,i)\n",
    "print(a)"
   ]
  },
  {
   "cell_type": "code",
   "execution_count": 22,
   "metadata": {},
   "outputs": [
    {
     "name": "stdout",
     "output_type": "stream",
     "text": [
      "[[3, 4, 5], [3, 4, 5], [3, 4, 5]]\n",
      "[[2, 4, 5], [2, 4, 5], [2, 4, 5]]\n",
      "\n",
      "[3, 4, 5, 3, 4, 5, 3, 4, 5]\n",
      "[2, 4, 5, 3, 4, 5, 3, 4, 5]\n"
     ]
    }
   ],
   "source": [
    "b=[3,4,5]*3    # 新列表是源列表中元素的重复\n",
    "print(b)\n",
    "b[0]=2\n",
    "print(b)\n",
    "\n",
    "# 以下这部分大家尽量理解\n",
    "a=[[3,4,5]]*3\n",
    "print(a)\n",
    "a[0][0]=2\n",
    "print(a)\n",
    "print()"
   ]
  },
  {
   "cell_type": "markdown",
   "metadata": {},
   "source": [
    "## 删除元素"
   ]
  },
  {
   "cell_type": "code",
   "execution_count": 27,
   "metadata": {},
   "outputs": [
    {
     "name": "stdout",
     "output_type": "stream",
     "text": [
      "[3, 5, 7, 9, 11]\n",
      "[3, 7, 9, 11]\n",
      "[3, 7, 11]\n",
      "[3, 5, 7, 9]\n",
      "[3, 7, 9]\n"
     ]
    }
   ],
   "source": [
    "# del\n",
    "a=list(range(3,12,2))\n",
    "print(a)\n",
    "del a[1]    # 删除下标为1的元素\n",
    "print(a)\n",
    "\n",
    "# remove  \n",
    "a.remove(9)  #将序列中等于9的元素删除，若元素多次出现，删第一个\n",
    "print(a)\n",
    "\n",
    "# pop\n",
    "a=list(range(3,12,2))\n",
    "a.pop()     # 删除最末尾的元素，pop返回值是被删除的元素值\n",
    "print(a)\n",
    "a.pop(1)    # pop也可删除指定位置的元素，这里删除下标为1的元素\n",
    "print(a)"
   ]
  },
  {
   "cell_type": "markdown",
   "metadata": {},
   "source": [
    "## 元素访问"
   ]
  },
  {
   "cell_type": "code",
   "execution_count": 29,
   "metadata": {},
   "outputs": [
    {
     "name": "stdout",
     "output_type": "stream",
     "text": [
      "l\n",
      "4\n"
     ]
    }
   ],
   "source": [
    "# 通过下标访问，下标超出合法范围，抛异常\n",
    "a=list('Hello')\n",
    "print(a[2])\n",
    "\n",
    "#index()获取指定值的下标，重复时返回第一个,不存在抛异常\n",
    "print(a.index('o'))"
   ]
  },
  {
   "cell_type": "markdown",
   "metadata": {},
   "source": [
    "## zip用法"
   ]
  },
  {
   "cell_type": "code",
   "execution_count": 5,
   "metadata": {},
   "outputs": [
    {
     "name": "stdout",
     "output_type": "stream",
     "text": [
      "[(1, 'a'), (2, 'b'), (3, 'c'), (4, 'd')]\n",
      "\n",
      "1 a\n",
      "2 b\n",
      "3 c\n",
      "4 d\n",
      "\n",
      "(1, 2, 3, 4)\n",
      "('a', 'b', 'c', 'd')\n"
     ]
    }
   ],
   "source": [
    "#zip把两个列表压缩成一个，对应位置的元组组合在一起（要求两个列表的长度相同），构成一个元组，成为新列表的元素\n",
    "a=[1,2,3,4]\n",
    "b=['a','b','c','d']\n",
    "c=list(zip(a,b))\n",
    "print(c)\n",
    "print()\n",
    "for x,y in zip(a,b):    # x是a里面的元素，y是b里面的元素，通过zip把两个列表绑定在一起\n",
    "    print(x,y)\n",
    "print()\n",
    "# 解压缩，加一个*\n",
    "d,e=zip(*c)\n",
    "print(d)\n",
    "print(e)"
   ]
  },
  {
   "cell_type": "markdown",
   "metadata": {},
   "source": [
    "## 排序"
   ]
  },
  {
   "cell_type": "code",
   "execution_count": 7,
   "metadata": {},
   "outputs": [
    {
     "name": "stdout",
     "output_type": "stream",
     "text": [
      "排序列表： [(4, 1), (2, 2), (1, 3), (3, 4)]\n"
     ]
    }
   ],
   "source": [
    "# lst.sort(key=None,reverse=False)   #recerse默认升序排序即从小到大，key表示排序的规则，可以自己指定一个函数作为他的规则\n",
    "\n",
    "\n",
    "# 获取列表的第二个元素\n",
    "def takeSecond(elem):\n",
    "    return elem[1]\n",
    "\n",
    "# 列表\n",
    "random=[(2,2),(3,4),(4,1),(1,3)]\n",
    "\n",
    "# 指定第二个元素排序\n",
    "random.sort(key=takeSecond)  # takeSecond输入时列表中的一个元素，如(2,2)，takeSecond的返回值作为排序的依据\n",
    " \n",
    "# 输出类别\n",
    "print('排序列表：',random)"
   ]
  },
  {
   "cell_type": "code",
   "execution_count": 8,
   "metadata": {},
   "outputs": [
    {
     "name": "stdout",
     "output_type": "stream",
     "text": [
      "[9, 7, 6, 5, 4, 3, 17, 15, 13, 11]\n"
     ]
    }
   ],
   "source": [
    "aList=[17,15,13,11,9,7,6,5,4,3]\n",
    "aList.sort(key=lambda x:len(str(x)))  # lambda引导一个没有名称的临时函数，冒号前面的是函数的参数，即输入，冒号后面的是函数的返回值\n",
    "                                      # 这里先将列表元素转成字符串，再求转成字符串后的长度，以此为依据进行排序\n",
    "print(aList)"
   ]
  },
  {
   "cell_type": "code",
   "execution_count": 12,
   "metadata": {},
   "outputs": [
    {
     "name": "stdout",
     "output_type": "stream",
     "text": [
      "[-8, -6, 5, 1, 0.87, -0.05]\n"
     ]
    }
   ],
   "source": [
    "# 练习:按照元素平方后，由大到小的顺序排序\n",
    "a=[-8,5,-6,1,0.87,-0.05]\n",
    "a.sort(key=lambda x:x**2,reverse=True)\n",
    "print(a)"
   ]
  },
  {
   "cell_type": "code",
   "execution_count": 14,
   "metadata": {},
   "outputs": [
    {
     "name": "stdout",
     "output_type": "stream",
     "text": [
      "[9, 7, 6, 5, 4, 3, 17, 15, 13, 11]\n",
      "[17, 15, 13, 11, 9, 7, 6, 5, 4, 3]\n"
     ]
    }
   ],
   "source": [
    "# sorted(）函数，系统内置的函数，不是lst下的\n",
    "aList=[9,7,6,5,4,3,17,15,13,11]\n",
    "bList=sorted(aList,reverse=True)     #sorted()不是原地排序，返回新的列表\n",
    "print(aList)\n",
    "print(bList)"
   ]
  },
  {
   "cell_type": "code",
   "execution_count": 16,
   "metadata": {},
   "outputs": [
    {
     "name": "stdout",
     "output_type": "stream",
     "text": [
      "[11, 13, 15, 17, 3, 4, 5, 6, 7, 9]\n",
      "[11, 13, 15, 17, 3, 4, 5, 6, 7, 9]\n",
      "[9, 7, 6, 5, 4, 3, 17, 15, 13, 11]\n"
     ]
    }
   ],
   "source": [
    "#　reverse()原地操作、reversed()生成新的列表，倒序\n",
    "aList=[9,7,6,5,4,3,17,15,13,11]\n",
    "aList.reverse()         # 将aList原地改变顺序\n",
    "print(aList)\n",
    "bList=reversed(aList)   # 新生成一个对象，需要用list转换才能变成列表\n",
    "print(aList)\n",
    "print(list(bList))\n"
   ]
  },
  {
   "cell_type": "markdown",
   "metadata": {},
   "source": [
    "## 列表推导式"
   ]
  },
  {
   "cell_type": "code",
   "execution_count": 18,
   "metadata": {},
   "outputs": [
    {
     "name": "stdout",
     "output_type": "stream",
     "text": [
      "[0, 1, 2, 3, 4, 5, 6, 7, 8, 9]\n",
      "[0, 1, 2, 3, 4, 5, 6, 7, 8, 9]\n"
     ]
    }
   ],
   "source": [
    "aList=[i for i in range(10)]      # 相当于把for前面的内容，变成XX.append()追加到列表中\n",
    "print(aList)\n",
    "\n",
    "# 以上代码等价于\n",
    "aList=[]\n",
    "for i in range(10):\n",
    "    aList.append(i)\n",
    "print(aList)"
   ]
  },
  {
   "cell_type": "code",
   "execution_count": 21,
   "metadata": {},
   "outputs": [
    {
     "name": "stdout",
     "output_type": "stream",
     "text": [
      "[5, 5, 5, 5, 5, 5, 5, 5, 5, 5]\n"
     ]
    }
   ],
   "source": [
    "aList=[5 for i in range(10)]\n",
    "print(aList)"
   ]
  },
  {
   "cell_type": "code",
   "execution_count": 33,
   "metadata": {},
   "outputs": [
    {
     "name": "stdout",
     "output_type": "stream",
     "text": [
      "[0, 13, 26, 39, 52, 65, 78, 91]\n",
      "[0, 13, 26, 39, 52, 65, 78, 91]\n",
      "[1, 2]\n",
      "[0, 0]\n",
      "[0, 2]\n",
      "[0, 2]\n"
     ]
    }
   ],
   "source": [
    "# 1\n",
    "aList=[i for i in range(100) if i%13==0]\n",
    "print(aList)\n",
    "\n",
    "aList=[]\n",
    "for i in range(100):\n",
    "    if i%13==0:\n",
    "        aList.append(i)\n",
    "print(aList)\n",
    "\n",
    "# 2\n",
    "bList=[x for x in [1,2,3,4,5] if x<3]\n",
    "#[1,2]\n",
    "print(bList)\n",
    "\n",
    "x=[3,5,3,7]\n",
    "cList=[x.index(i) for i in x if i==3]\n",
    "#[0,0]\n",
    "print(cList)\n",
    "\n",
    "dList=[]\n",
    "for i in range(len(x)):                  # i 是下标\n",
    "    if x[i]==3:\n",
    "        dList.append(i)\n",
    "print(dList)\n",
    "\n",
    "# 推导式\n",
    "dList=[i for i in range(len(x)) if x[i]==3]\n",
    "print(dList)"
   ]
  },
  {
   "cell_type": "code",
   "execution_count": 53,
   "metadata": {},
   "outputs": [
    {
     "name": "stdout",
     "output_type": "stream",
     "text": [
      "[23, 51, 81, 39, 70, 7, 3, 63, 25, 4, 21, 9, 43, 39, 91, 2, 7, 81, 33, 97]\n",
      "[91, 81, 70, 43, 33, 25, 23, 21, 7, 3]\n",
      "[91, 51, 81, 39, 70, 7, 43, 63, 33, 4, 25, 9, 23, 39, 21, 2, 7, 81, 3, 97]\n"
     ]
    }
   ],
   "source": [
    "# 练习：生成一个包含20个随机整数的列表，对其中偶数下标的元素降序排列，奇数下标的元素不变，提示用切片\n",
    "#         random.randint(0,100)   #生成一个100以内的随机整数\n",
    "# 使用a.sort（）时，a里所有的元素参与排序，所以要将偶数下标的元素提取出来\n",
    "import random\n",
    "# aList=[]\n",
    "#  for i in range(20):\n",
    "#     aList.append(random.randint(0,100))\n",
    "aList=[random.randint(0,100) for i in range(20)]   # 生成20个随机整数的列表，将上面的代码改成推导式\n",
    "print(aList)\n",
    "\n",
    "bList=aList[::2]                  # 提取出偶数坐标的元素\n",
    "bList.sort(reverse=True)          # 降序排序\n",
    "print(bList)\n",
    "\n",
    "aList[::2]=bList                  # 排序之后放回去\n",
    "print(aList)"
   ]
  },
  {
   "cell_type": "code",
   "execution_count": 56,
   "metadata": {},
   "outputs": [
    {
     "name": "stdout",
     "output_type": "stream",
     "text": [
      "[4, 92, 100, 54, 73, 51, 16, 78, 0, 69, 18, 7, 32, 75, 79, 47, 17, 99, 87, 10]\n",
      "[4, 100, 73, 16, 0, 18, 32, 79, 17, 87]\n",
      "[100, 87, 79, 73, 32, 18, 17, 16, 4, 0]\n",
      "[100, 92, 87, 54, 79, 51, 73, 78, 32, 69, 18, 7, 17, 75, 16, 47, 4, 99, 0, 10]\n"
     ]
    }
   ],
   "source": [
    "\n",
    "import random\n",
    "\n",
    "aList=[random.randint(0,100) for i in range(20)]\n",
    "print(aList)\n",
    "\n",
    "bList=[]\n",
    "for i in range(0,len(aList),2):\n",
    "    bList.append(aList[i])\n",
    "print(bList)\n",
    "\n",
    "bList.sort(reverse=True)\n",
    "print(bList)\n",
    "for i in range(0,len(bList)):\n",
    "    aList[i*2]=bList[i]\n",
    "print(aList)"
   ]
  },
  {
   "cell_type": "markdown",
   "metadata": {},
   "source": [
    "## 遍历"
   ]
  },
  {
   "cell_type": "code",
   "execution_count": 49,
   "metadata": {},
   "outputs": [
    {
     "name": "stdout",
     "output_type": "stream",
     "text": [
      "0 1 2 3 4 5 6 7 8 9 \n",
      "0 1 2 3 4 5 6 7 8 9 "
     ]
    }
   ],
   "source": [
    "# 遍历：从一个列表的头找到尾\n",
    "aList=list(range(10))\n",
    "\n",
    "# 遍历元素\n",
    "for x in aList:   # x是aList里的元素，每次循环指向列表的下一个元素\n",
    "    print(x,end=' ')\n",
    "aList[:]\n",
    "print()\n",
    "# 遍历下标\n",
    "for i in range(len(aList)):    # i是列表的下标\n",
    "    print(aList[i],end=' ')"
   ]
  },
  {
   "cell_type": "markdown",
   "metadata": {},
   "source": [
    "## 查找"
   ]
  },
  {
   "cell_type": "code",
   "execution_count": 57,
   "metadata": {},
   "outputs": [
    {
     "name": "stdout",
     "output_type": "stream",
     "text": [
      "b在列表a中\n",
      "b在列表中出现的次数是 1\n",
      "元素b第一次出现的位置是 3\n",
      "3,"
     ]
    }
   ],
   "source": [
    "# 找一个元素是否在列表中 in \n",
    "a=[0,1,2,3,4,5]\n",
    "b=3\n",
    "if b in a:\n",
    "    print('b在列表a中')\n",
    "else:\n",
    "    print('b不在列表a中')\n",
    "\n",
    "# count()统计一个元素在列表中出现的次数，找不到的话抛出异常\n",
    "num=aList.count(b)\n",
    "print('b在列表中出现的次数是',num)\n",
    "\n",
    "# index()找到元素第一次出现的位置\n",
    "id=aList.index(b)\n",
    "print('元素b第一次出现的位置是',id)\n",
    "# id=aList.index(10)\n",
    "\n",
    "# 找到3出现的所有位置\n",
    "for i in range(len(aList)):\n",
    "    if aList[i]==3:\n",
    "        print(i,end=',')\n",
    "        "
   ]
  },
  {
   "cell_type": "markdown",
   "metadata": {},
   "source": [
    "## 练习"
   ]
  },
  {
   "cell_type": "code",
   "execution_count": 1,
   "metadata": {},
   "outputs": [
    {
     "name": "stdout",
     "output_type": "stream",
     "text": [
      "请输入一个字符串：fgh123990 ,,,,,   \n",
      "数字的个数为： 6\n",
      "空格的个数为： 4\n",
      "字母的个数为： 3\n",
      "其他字符的个数为： 5\n"
     ]
    }
   ],
   "source": [
    "# 输入一个字符串，统计里面空格、数字、字母、和其他字符的个数\n",
    "str1=str(input('请输入一个字符串：'))\n",
    "sum1=0\n",
    "sum2=0\n",
    "sum3=0\n",
    "sum4=0\n",
    "for i in str1:\n",
    "    if i.isdigit():\n",
    "        sum1+=1\n",
    "    elif i.isspace():\n",
    "        sum2+=1\n",
    "    elif i.isalpha():\n",
    "        sum3+=1\n",
    "    else:\n",
    "        sum4+=1\n",
    "#     if i>='0' and i<='9':\n",
    "#         sum1+=1\n",
    "#     elif i==' ':\n",
    "#         sum2+=1\n",
    "#     elif (i>='a' and i<='z') or (i>='A' and i<='Z'):\n",
    "#         sum3+=1\n",
    "#     else:\n",
    "#         sum4+=1\n",
    "print('数字的个数为：',sum1)\n",
    "print('空格的个数为：',sum2)\n",
    "print('字母的个数为：',sum3)\n",
    "print('其他字符的个数为：',sum4)"
   ]
  },
  {
   "cell_type": "code",
   "execution_count": 2,
   "metadata": {},
   "outputs": [
    {
     "name": "stdout",
     "output_type": "stream",
     "text": [
      "[2, 3, 4, 5]\n",
      "[1, 2, 3, 4, 5, 6]\n"
     ]
    }
   ],
   "source": [
    "# 定义一个函数，删除一个序列中重复的元素\n",
    "def delect(a):                  # a是列表是可变的，所以函数内部a的变化在离开函数后保留了下来\n",
    "    for i in a[:]:              # 列表里面值改变时，通过切片方式才能保证遍历到列表的每个元素\n",
    "        if a.count(i)>1:\n",
    "            a.remove(i)\n",
    "a1=[3,4,4,4,4,4,5,2,3,5,4,5]\n",
    "delect(a1)\n",
    "print(a1)\n",
    "\n",
    "\n",
    "\n",
    "b=[]\n",
    "a=[1,2,1,2,3,4,1,3,2,4,5,3,5,6]\n",
    "for i in a:\n",
    "    if i not in b:\n",
    "        b.append(i)\n",
    "print(b)"
   ]
  },
  {
   "cell_type": "code",
   "execution_count": 45,
   "metadata": {},
   "outputs": [
    {
     "name": "stdout",
     "output_type": "stream",
     "text": [
      "[62, 56, 21, 41, 24, 100, 94, 68, 21, 10, 98, 35, 28, 14, 18, 46, 96, 79, 35, 53]\n",
      "999\n"
     ]
    }
   ],
   "source": [
    "# 随机生成一个含有20个整数的序列，计算该序列所有元素的和\n",
    "import random\n",
    "\n",
    "aList=[random.randint(0,100) for i in range(20)]\n",
    "print(aList)\n",
    "\n",
    "sum1=0\n",
    "for i in aList:\n",
    "    sum1+=i\n",
    "print(sum1)"
   ]
  },
  {
   "cell_type": "code",
   "execution_count": null,
   "metadata": {},
   "outputs": [],
   "source": []
  },
  {
   "cell_type": "code",
   "execution_count": null,
   "metadata": {},
   "outputs": [],
   "source": []
  }
 ],
 "metadata": {
  "kernelspec": {
   "display_name": "Python 3",
   "language": "python",
   "name": "python3"
  },
  "language_info": {
   "codemirror_mode": {
    "name": "ipython",
    "version": 3
   },
   "file_extension": ".py",
   "mimetype": "text/x-python",
   "name": "python",
   "nbconvert_exporter": "python",
   "pygments_lexer": "ipython3",
   "version": "3.6.5"
  }
 },
 "nbformat": 4,
 "nbformat_minor": 2
}
