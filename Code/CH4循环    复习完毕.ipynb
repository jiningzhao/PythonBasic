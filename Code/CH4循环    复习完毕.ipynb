{
 "cells": [
  {
   "cell_type": "markdown",
   "metadata": {},
   "source": [
    "# while循环"
   ]
  },
  {
   "cell_type": "code",
   "execution_count": 3,
   "metadata": {},
   "outputs": [
    {
     "name": "stdout",
     "output_type": "stream",
     "text": [
      "1\n",
      "2\n",
      "3\n",
      "4\n",
      "5\n",
      "End\n"
     ]
    }
   ],
   "source": [
    "#普通的while循环\n",
    "#打印数字1~5\n",
    "num=1\n",
    "while num<6:\n",
    "    print(num)\n",
    "    num+=1\n",
    "print('End')   #退出循环"
   ]
  },
  {
   "cell_type": "markdown",
   "metadata": {},
   "source": [
    "# 无限循环、死循环：一直待在循环里面不退出来"
   ]
  },
  {
   "cell_type": "code",
   "execution_count": 1,
   "metadata": {},
   "outputs": [
    {
     "name": "stdout",
     "output_type": "stream",
     "text": [
      "输入任何信息，若输入“E”退出q\n",
      "q\n",
      "输入任何信息，若输入“E”退出w\n",
      "w\n",
      "输入任何信息，若输入“E”退出t\n",
      "t\n",
      "输入任何信息，若输入“E”退出a\n",
      "a\n",
      "输入任何信息，若输入“E”退出g\n",
      "g\n",
      "输入任何信息，若输入“E”退出z\n",
      "z\n",
      "输入任何信息，若输入“E”退出c\n",
      "c\n",
      "输入任何信息，若输入“E”退出x\n",
      "x\n",
      "输入任何信息，若输入“E”退出b\n",
      "b\n",
      "输入任何信息，若输入“E”退出e\n"
     ]
    }
   ],
   "source": [
    "while True:   #条件一直为True，无限循环\n",
    "    a=input('输入任何信息，若输入“E”退出')\n",
    "    if a.upper()=='E':\n",
    "        break     #退出循环  "
   ]
  },
  {
   "cell_type": "code",
   "execution_count": 12,
   "metadata": {},
   "outputs": [
    {
     "name": "stdout",
     "output_type": "stream",
     "text": [
      "1 小于或等于5\n",
      "2 小于或等于5\n"
     ]
    }
   ],
   "source": [
    "#3.while...else...,当循环条件为false时执行代码段\n",
    "num=1\n",
    "while num<=5:\n",
    "    print(num,\"小于或等于5\")\n",
    "    num+=1\n",
    "    if num==3:\n",
    "        break\n",
    "else:\n",
    "    print(num,\"大于5\")"
   ]
  },
  {
   "cell_type": "code",
   "execution_count": 17,
   "metadata": {},
   "outputs": [
    {
     "name": "stdout",
     "output_type": "stream",
     "text": [
      "和为：55\n"
     ]
    }
   ],
   "source": [
    "#例：计算1~10的和，1+2+3......+10\n",
    "# x+i  # x:前面几个数的和，i是下一个数\n",
    "#1.找规律，提取模型   x=x+i\n",
    "#2.找到规律变化的量，即循环便变量  i,每次都加一\n",
    "#3.明确循环变量的范围  i的范围是1~10\n",
    "sum=0\n",
    "a=1\n",
    "while a<=10:\n",
    "    sum+=a\n",
    "    a+=1\n",
    "print('和为：%d'%sum)"
   ]
  },
  {
   "cell_type": "code",
   "execution_count": 21,
   "metadata": {},
   "outputs": [
    {
     "name": "stdout",
     "output_type": "stream",
     "text": [
      "计算1-2+3-4+5-6+7-8......+99-100的结果为：-50\n"
     ]
    }
   ],
   "source": [
    "#练习：计算1-2+3-4+5-6+7-8......+99-100的结果\n",
    "sum=0\n",
    "a=1\n",
    "while a<=100:\n",
    "    if a%2==0:\n",
    "        sum-=a    #是偶数的话就减\n",
    "    else:\n",
    "        sum+=a    #是奇数就加\n",
    "    a+=1\n",
    "print('计算1-2+3-4+5-6+7-8......+99-100的结果为：%d'%sum)"
   ]
  },
  {
   "cell_type": "code",
   "execution_count": 28,
   "metadata": {},
   "outputs": [
    {
     "name": "stdout",
     "output_type": "stream",
     "text": [
      "计算10的阶乘,结果为：3628800\n"
     ]
    }
   ],
   "source": [
    "#计算10的阶乘\n",
    "sum=1\n",
    "a=10\n",
    "while a>0:\n",
    "    sum*=a\n",
    "    a-=1\n",
    "print('计算10的阶乘,结果为：%d'%sum)"
   ]
  },
  {
   "cell_type": "code",
   "execution_count": 43,
   "metadata": {},
   "outputs": [
    {
     "name": "stdout",
     "output_type": "stream",
     "text": [
      "第十次落地后，共经过了299.609375米，第十次反弹高度是0.097656米\n"
     ]
    }
   ],
   "source": [
    "#练习：一个球从100米高度自由落下，每次落地后反弹的高度是原来的一般；再落下······\n",
    "#问第十次落地后，共经过了多少米，第十次反弹高度是多少？\n",
    "high=100\n",
    "sum=0\n",
    "i=0\n",
    "while True:\n",
    "    i+=1\n",
    "    sum+=high\n",
    "    high/=2\n",
    "    sum+=high\n",
    "    if i==10:\n",
    "        break\n",
    "print('第十次落地后，共经过了%f米，第十次反弹高度是%f米'%(sum-high,high))\n"
   ]
  },
  {
   "cell_type": "code",
   "execution_count": 47,
   "metadata": {},
   "outputs": [
    {
     "name": "stdout",
     "output_type": "stream",
     "text": [
      "第十次落地后，共经过了299.609375米，第十次反弹高度是0.097656米\n"
     ]
    }
   ],
   "source": [
    "high=50\n",
    "sum=100\n",
    "count=2\n",
    "while count<=10:\n",
    "    sum+=high*2\n",
    "    high/=2\n",
    "    count+=1\n",
    "print('第十次落地后，共经过了%f米，第十次反弹高度是%f米'%(sum,high))"
   ]
  },
  {
   "cell_type": "markdown",
   "metadata": {},
   "source": [
    "# 遍历"
   ]
  },
  {
   "cell_type": "code",
   "execution_count": 51,
   "metadata": {},
   "outputs": [
    {
     "name": "stdout",
     "output_type": "stream",
     "text": [
      "153、370、371、407、"
     ]
    }
   ],
   "source": [
    "#找到100~999以内所有的水仙花数，水仙花数的条件：各位数立方和等于该数本身\n",
    "i=100  #遍历i，找到满足条件的数\n",
    "while i<1000:\n",
    "    bai =i//100     #百位\n",
    "    shi =i%100//10  #十位\n",
    "    ge  =i%10       #个位\n",
    "    sum=bai**3+shi**3+ge**3\n",
    "    if sum==i:\n",
    "        print(i,end='、')\n",
    "    i+=1"
   ]
  },
  {
   "cell_type": "code",
   "execution_count": 63,
   "metadata": {},
   "outputs": [
    {
     "name": "stdout",
     "output_type": "stream",
     "text": [
      "请输入用户名：123456123\n",
      "请输入密码：123456\n",
      "用户名或密码错误\n",
      "请输入用户名：123123456\n",
      "请输入密码：123132\n",
      "用户名或密码错误\n",
      "请输入用户名：user1\n",
      "请输入密码：123456\n",
      "登录成功\n"
     ]
    }
   ],
   "source": [
    "#登录输入密码问题：若用户名和输入密码正确，登录成功；若连续三次输入失败，登录失败\n",
    "username='user1'   #系统里保存的用户名、密码\n",
    "password='123456'\n",
    "a=3    #允许出错的次数，3次输入错误就登录失败\n",
    "while a>0:\n",
    "    input_name=input('请输入用户名：')#请输入用户名、密码\n",
    "    input_pswd=input('请输入密码：')\n",
    "    if input_name==username and input_pswd==password:\n",
    "        print('登录成功')\n",
    "        break         #登录成功即可跳出循环\n",
    "    else:\n",
    "        print('用户名或密码错误')\n",
    "        a-=1          #用户名或密码错误一次就少一次机会\n",
    "else:\n",
    "    print('登录失败')\n"
   ]
  },
  {
   "cell_type": "code",
   "execution_count": 69,
   "metadata": {},
   "outputs": [
    {
     "name": "stdout",
     "output_type": "stream",
     "text": [
      "50 <class 'str'>\n",
      "20000 <class 'int'>\n",
      "20.0 <class 'float'>\n",
      "10 <class 'int'>\n"
     ]
    }
   ],
   "source": [
    "#1.完成一些常见的数据类型转换：\n",
    "#数字->字符串\n",
    "# 整数数字字符串-->int整数\n",
    "# 整数-->浮点数\n",
    "# 浮点数-->转整数\n",
    "a=50\n",
    "b=str(a)\n",
    "print(b,type(b))\n",
    "##############\n",
    "a='20000'\n",
    "b=int(a,base=10)\n",
    "print(b,type(b))\n",
    "##############\n",
    "a=20\n",
    "b=float(a)\n",
    "print(b,type(b))\n",
    "##############\n",
    "a=10.0\n",
    "b=int(a)\n",
    "print(b,type(b))"
   ]
  },
  {
   "cell_type": "code",
   "execution_count": 71,
   "metadata": {},
   "outputs": [
    {
     "name": "stdout",
     "output_type": "stream",
     "text": [
      "这是一个数字16，一个字符串\"abc\"，一个浮点数3.14\n"
     ]
    }
   ],
   "source": [
    "# 2.利用format打印下面的句子，其中16，“abc”，3.14通过format站为实现\n",
    "# 这是一个数字16，一个字符串“abc”，一个浮点数3.14\n",
    "a=16\n",
    "b='\"abc\"'\n",
    "c=3.14\n",
    "print('这是一个数字{0}，一个字符串{1}，一个浮点数{2}'.format(a,b,c))"
   ]
  },
  {
   "cell_type": "code",
   "execution_count": 77,
   "metadata": {},
   "outputs": [
    {
     "name": "stdout",
     "output_type": "stream",
     "text": [
      "Hello phthon\n"
     ]
    }
   ],
   "source": [
    "# 3、 str1 = 'hello'\n",
    "#     str2 = 'python'\n",
    "#     将上述两个字符串变量进行连接，输出‘hello python’(注意中间有空格)\n",
    "str1='Hello '\n",
    "str2='phthon'\n",
    "str3=str1+str2\n",
    "print(str3)"
   ]
  },
  {
   "cell_type": "code",
   "execution_count": 79,
   "metadata": {},
   "outputs": [
    {
     "name": "stdout",
     "output_type": "stream",
     "text": [
      "HELLO PYTHON!\n",
      "hello python!\n"
     ]
    }
   ],
   "source": [
    "# 4、字符串大小写转换\n",
    "#     str1 = 'hello python!'\n",
    "#     使用Python字符串内置函数将上述字符串str1转换为大写结果‘HELLO PYTHON!’并输出。\n",
    "#     str2 = 'HELLO PTYHON!'\n",
    "#     使用Python字符串内置函数将上述字符串str2转换为小写结果‘hello python!\n",
    "str1='hello python!'\n",
    "str=str1.upper()\n",
    "print(str)\n",
    "str2='HELLO PYTHON!'\n",
    "str=str2.lower()\n",
    "print(str)\n"
   ]
  },
  {
   "cell_type": "code",
   "execution_count": 82,
   "metadata": {},
   "outputs": [
    {
     "name": "stdout",
     "output_type": "stream",
     "text": [
      "1683\n"
     ]
    }
   ],
   "source": [
    "# 5、计算1~100所有3的倍数的和\n",
    "a=1\n",
    "sum=0\n",
    "while a<=100:\n",
    "    if a%3==0:\n",
    "        sum+=a\n",
    "    else:\n",
    "        pass\n",
    "    a+=1\n",
    "print(sum)\n"
   ]
  },
  {
   "cell_type": "code",
   "execution_count": 83,
   "metadata": {},
   "outputs": [
    {
     "name": "stdout",
     "output_type": "stream",
     "text": [
      "7\n",
      "14\n",
      "21\n",
      "28\n",
      "35\n",
      "42\n",
      "49\n",
      "56\n",
      "63\n",
      "70\n",
      "77\n",
      "84\n",
      "91\n",
      "98\n"
     ]
    }
   ],
   "source": [
    "# 6、找出1~100中所有7的倍数（两种思路:遍历，7,7*2,7*3,7*4）\n",
    "a=1\n",
    "while a<=100:\n",
    "    if a%7==0:\n",
    "        print(a)\n",
    "    else:\n",
    "        pass\n",
    "    a+=1\n",
    "    "
   ]
  },
  {
   "cell_type": "code",
   "execution_count": 89,
   "metadata": {},
   "outputs": [
    {
     "name": "stdout",
     "output_type": "stream",
     "text": [
      "请输入数字：1\n",
      "请输入数字：2\n",
      "请输入数字：5\n",
      "请输入数字：2\n",
      "请输入数字：E\n",
      "10\n"
     ]
    }
   ],
   "source": [
    "# 7、计算用户输入的所有数字的和，当用户输入字母E时，停止输入，并打印输入数字的和。\n",
    "sum=0\n",
    "while True:\n",
    "    b=input('请输入数字：')\n",
    "    if b=='E':\n",
    "        print(sum)\n",
    "        break\n",
    "    else:\n",
    "        c=int(b)\n",
    "        sum+=c\n",
    "    \n"
   ]
  },
  {
   "cell_type": "markdown",
   "metadata": {},
   "source": [
    "# 作业二----------------------------------------------------------"
   ]
  },
  {
   "cell_type": "markdown",
   "metadata": {},
   "source": [
    "# for 循环"
   ]
  },
  {
   "cell_type": "code",
   "execution_count": 1,
   "metadata": {},
   "outputs": [
    {
     "name": "stdout",
     "output_type": "stream",
     "text": [
      "0\n",
      "1\n",
      "2\n",
      "3\n",
      "4\n"
     ]
    }
   ],
   "source": [
    "for a in range(5):\n",
    "    print(a)"
   ]
  },
  {
   "cell_type": "code",
   "execution_count": 2,
   "metadata": {},
   "outputs": [
    {
     "name": "stdout",
     "output_type": "stream",
     "text": [
      "0\n",
      "1\n",
      "2\n",
      "3\n"
     ]
    }
   ],
   "source": [
    "for a in range(5):      #range()提供了一个从0开始的序列，[0,5)。遍历数字\n",
    "    if a==4:\n",
    "        break\n",
    "    print(a)\n",
    "# 换成C语言的形式如下：\n",
    "# int(a)\n",
    "# for(a=0;a<5;a++){\n",
    "#     print(a)\n",
    "# }"
   ]
  },
  {
   "cell_type": "code",
   "execution_count": 3,
   "metadata": {},
   "outputs": [
    {
     "name": "stdout",
     "output_type": "stream",
     "text": [
      "5\n",
      "6\n",
      "7\n",
      "8\n",
      "9\n"
     ]
    }
   ],
   "source": [
    "for a in range(5,10):    #范围是[5,10)。遍历数字\n",
    "    print(a)\n"
   ]
  },
  {
   "cell_type": "code",
   "execution_count": 4,
   "metadata": {},
   "outputs": [
    {
     "name": "stdout",
     "output_type": "stream",
     "text": [
      "5\n",
      "7\n",
      "9\n"
     ]
    }
   ],
   "source": [
    "for a in range(5,10,2):   #范围[5,10),步长为2。遍历数字\n",
    "    print(a)"
   ]
  },
  {
   "cell_type": "code",
   "execution_count": 7,
   "metadata": {},
   "outputs": [
    {
     "name": "stdout",
     "output_type": "stream",
     "text": [
      "10\n",
      "8\n",
      "6\n"
     ]
    }
   ],
   "source": [
    "for a in range(10,5,-2):   #范围[10,5),步长为-2。遍历数字\n",
    "    print(a)"
   ]
  },
  {
   "cell_type": "code",
   "execution_count": 9,
   "metadata": {},
   "outputs": [
    {
     "name": "stdout",
     "output_type": "stream",
     "text": [
      "C、C++、Java、Python、"
     ]
    }
   ],
   "source": [
    "languages=['C','C++','Java','Python']\n",
    "for x in languages:     #遍历列表\n",
    "    print(x,end='、')"
   ]
  },
  {
   "cell_type": "code",
   "execution_count": 25,
   "metadata": {},
   "outputs": [
    {
     "name": "stdout",
     "output_type": "stream",
     "text": [
      "2、3、5、7、"
     ]
    }
   ],
   "source": [
    "#循环嵌套，例：查找10以内的质数，质数：一个数除了1和它本身，无法被任何数字整除\n",
    "for a in range(2,11):\n",
    "    for b in range(2,a):\n",
    "        if a%b!=0:\n",
    "            pass\n",
    "        else:\n",
    "#             print('%d不是质数'%a)\n",
    "            break\n",
    "    else:\n",
    "        print(a,end='、')\n",
    "            \n",
    "        "
   ]
  },
  {
   "cell_type": "code",
   "execution_count": 31,
   "metadata": {},
   "outputs": [
    {
     "name": "stdout",
     "output_type": "stream",
     "text": [
      "753不是质数\n"
     ]
    }
   ],
   "source": [
    "#判断x是否为质数\n",
    "x=753\n",
    "#判断x%i的值，i的范围[2,x-1],若针对所有的i结果都不为0，说明x是质数\n",
    "for i in range(2,x):\n",
    "    if x%i!=0:\n",
    "        pass\n",
    "    else:\n",
    "        print('%d不是质数'%x)\n",
    "        break\n",
    "else:\n",
    "    print('%d是质数'%x)"
   ]
  },
  {
   "cell_type": "markdown",
   "metadata": {},
   "source": [
    "#  break是跳出循环体\n",
    "#  continue是跳出当前循环，continue后面的语句不执行，进入下一轮循环\n",
    "#  pass是不执行"
   ]
  },
  {
   "cell_type": "code",
   "execution_count": 32,
   "metadata": {},
   "outputs": [
    {
     "name": "stdout",
     "output_type": "stream",
     "text": [
      "55\n"
     ]
    }
   ],
   "source": [
    "#for循环实现1~10的和\n",
    "sum=0\n",
    "for i in range(1,11):\n",
    "    sum+=i\n",
    "print(sum)"
   ]
  },
  {
   "cell_type": "code",
   "execution_count": 51,
   "metadata": {},
   "outputs": [
    {
     "name": "stdout",
     "output_type": "stream",
     "text": [
      "1683\n"
     ]
    }
   ],
   "source": [
    "#求100以内，所有3的倍数的和\n",
    "sum=0\n",
    "for i in range(0,101,3):\n",
    "    if i%3==0:\n",
    "        sum+=i\n",
    "    else:\n",
    "        pass\n",
    "print(sum)"
   ]
  },
  {
   "cell_type": "code",
   "execution_count": 34,
   "metadata": {},
   "outputs": [
    {
     "name": "stdout",
     "output_type": "stream",
     "text": [
      "153\n",
      "370\n",
      "371\n",
      "407\n"
     ]
    }
   ],
   "source": [
    "#找到100~999以内所有的水仙花数，水仙花数的条件：各位数立方和等于该数本身\n",
    "for i in range(100,1000):#x的范围是[100,999)\n",
    "    s=i//100\n",
    "    d=i%100//10\n",
    "    f=i%10\n",
    "    g=s**3+d**3+f**3\n",
    "    if g==i:\n",
    "        print(i)\n",
    "    else:\n",
    "        pass"
   ]
  },
  {
   "cell_type": "code",
   "execution_count": 45,
   "metadata": {},
   "outputs": [
    {
     "name": "stdout",
     "output_type": "stream",
     "text": [
      "请输入n：4\n",
      "n的阶乘为:24\n"
     ]
    }
   ],
   "source": [
    "#求n！，n！=1*2*3*...*n，n由键盘输入\n",
    "sum=1\n",
    "q=int(input('请输入n：'))\n",
    "for i in range(1,q+1):\n",
    "    sum*=i\n",
    "print('n的阶乘为:%d'%sum)\n",
    "    "
   ]
  },
  {
   "cell_type": "code",
   "execution_count": 60,
   "metadata": {},
   "outputs": [
    {
     "name": "stdout",
     "output_type": "stream",
     "text": [
      "1*1=1\t\n",
      "\n",
      "1*2=2\t2*2=4\t\n",
      "\n",
      "1*3=3\t2*3=6\t3*3=9\t\n",
      "\n",
      "1*4=4\t2*4=8\t3*4=12\t4*4=16\t\n",
      "\n",
      "1*5=5\t2*5=10\t3*5=15\t4*5=20\t5*5=25\t\n",
      "\n",
      "1*6=6\t2*6=12\t3*6=18\t4*6=24\t5*6=30\t6*6=36\t\n",
      "\n",
      "1*7=7\t2*7=14\t3*7=21\t4*7=28\t5*7=35\t6*7=42\t7*7=49\t\n",
      "\n",
      "1*8=8\t2*8=16\t3*8=24\t4*8=32\t5*8=40\t6*8=48\t7*8=56\t8*8=64\t\n",
      "\n",
      "1*9=9\t2*9=18\t3*9=27\t4*9=36\t5*9=45\t6*9=54\t7*9=63\t8*9=72\t9*9=81\t\n",
      "\n"
     ]
    }
   ],
   "source": [
    "#打印99乘法口诀\n",
    "#i*j 每一行打印时，i+=1，j不变，i>j时本行结束\n",
    "#下一行j+=1\n",
    "for i in range(1,10):\n",
    "    for j in range(1,i+1):\n",
    "        print('{1}*{0}={2}'.format(i,j,i*j),end='\\t')\n",
    "    print('\\n')\n"
   ]
  },
  {
   "cell_type": "code",
   "execution_count": 67,
   "metadata": {},
   "outputs": [
    {
     "name": "stdout",
     "output_type": "stream",
     "text": [
      "1、2、3、4、5、6、敲！、8、9、10、11、12、13、敲！、15、16、敲！、18、19、20、敲！、22、23、24、25、26、敲！、敲！、29、30、31、32、33、34、敲！、36、敲！、38、39、40、41、敲！、43、44、45、46、敲！、48、敲！、50、51、52、53、54、55、敲！、敲！、58、59、60、61、62、敲！、64、65、66、敲！、68、69、敲！、敲！、敲！、敲！、敲！、敲！、敲！、敲！、敲！、敲！、80、81、82、83、敲！、85、86、敲！、88、89、90、敲！、92、93、94、95、96、敲！、敲！、99、100、"
     ]
    }
   ],
   "source": [
    "# 打印数字序列，其中7或7的倍数，不打印跳过，要求用到continue或break\n",
    "for i in range(1,101):\n",
    "    a=i%10\n",
    "    b=i//10\n",
    "    if i%7==0 or a==7 or b==7:\n",
    "        print('敲！',end='、')\n",
    "        continue\n",
    "    else:\n",
    "        print(i,end='、')"
   ]
  },
  {
   "cell_type": "code",
   "execution_count": null,
   "metadata": {},
   "outputs": [],
   "source": []
  }
 ],
 "metadata": {
  "kernelspec": {
   "display_name": "Python 3",
   "language": "python",
   "name": "python3"
  },
  "language_info": {
   "codemirror_mode": {
    "name": "ipython",
    "version": 3
   },
   "file_extension": ".py",
   "mimetype": "text/x-python",
   "name": "python",
   "nbconvert_exporter": "python",
   "pygments_lexer": "ipython3",
   "version": "3.6.5"
  }
 },
 "nbformat": 4,
 "nbformat_minor": 2
}
