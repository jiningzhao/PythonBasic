{
 "cells": [
  {
   "cell_type": "code",
   "execution_count": 7,
   "metadata": {
    "scrolled": true
   },
   "outputs": [
    {
     "name": "stdout",
     "output_type": "stream",
     "text": [
      "请输入第一个数字a:4\n",
      "4\n",
      "<class 'int'>\n",
      "请输入第二个数字b:7\n",
      "7\n",
      "<class 'int'>\n",
      "交换后a的值是: 7 b的值是 4\n"
     ]
    }
   ],
   "source": [
    "#输入两个数，用变量a和b存放，交换两个变量里的数值\n",
    "a=int(input('请输入第一个数字a:'))\n",
    "print(a)\n",
    "print(type(a))\n",
    "b=int(input('请输入第二个数字b:'))\n",
    "print(b)\n",
    "print(type(b))\n",
    "c=a\n",
    "a=b\n",
    "b=c\n",
    "str1='交换后a的值是:'\n",
    "print(str1,a,'b的值是',b)"
   ]
  }
 ],
 "metadata": {
  "kernelspec": {
   "display_name": "Python 3",
   "language": "python",
   "name": "python3"
  },
  "language_info": {
   "codemirror_mode": {
    "name": "ipython",
    "version": 3
   },
   "file_extension": ".py",
   "mimetype": "text/x-python",
   "name": "python",
   "nbconvert_exporter": "python",
   "pygments_lexer": "ipython3",
   "version": "3.6.5"
  }
 },
 "nbformat": 4,
 "nbformat_minor": 2
}
