{
 "cells": [
  {
   "cell_type": "code",
   "execution_count": null,
   "metadata": {},
   "outputs": [],
   "source": [
    "第一步：打开文件\n",
    "第二部：操作文件\n",
    "第三部：关闭文件\n",
    "\n",
    "\n",
    "f1=open('file.txt','r')\n",
    "f2=open('file2.txt','w')\n",
    "open()函数返回了一个文件对象，该对象可以对文件进行各种操作\n",
    "\n",
    "\n",
    "读文件\n",
    "f.read()#读取一个文件的所有内容\n",
    "f.readline()#从文件中读取单独的一行\n",
    "f.readlines()#返回文件中包含的所有行\n",
    "\n",
    "关闭文件\n",
    "f1.close()\n",
    "f2.close()\n",
    "\n",
    "\n"
   ]
  },
  {
   "cell_type": "code",
   "execution_count": 12,
   "metadata": {},
   "outputs": [],
   "source": [
    "#向一个文本文件中写入内容\n",
    "f=open(r'C:\\Users\\Administrator\\Desktop\\变量1.txt','a+') #打开文件，向文件中追加内容，文件指针自动指到文件末尾\n",
    "                                                         #若文件不存在，自动创建新文件\n",
    "                                                         #r的作用，遇到\\不需要进行性转译\n",
    "                                                         #如果不加r，每个\\都要改成\\\\\n",
    "s='文本文件的读取方法\\n文本文件的写入方法\\n' \n",
    "f.write(s)            #将字符串s的内容写入文件\n",
    "f.close()"
   ]
  },
  {
   "cell_type": "code",
   "execution_count": 14,
   "metadata": {},
   "outputs": [],
   "source": [
    "s='文本文件的读取方法\\n文本文件的写入方法\\n' \n",
    "with open(r'C:\\Users\\Administrator\\Desktop\\变量.txt','a+') as f:  #通过with进行资源管理，离开with代码块后自动关闭文件\n",
    "    f.write(s)"
   ]
  },
  {
   "cell_type": "code",
   "execution_count": 23,
   "metadata": {},
   "outputs": [
    {
     "name": "stdout",
     "output_type": "stream",
     "text": [
      "s= 文本文件的读取方法\n",
      "文本文件的写入方法\n",
      "\n",
      "s1= 文本文件的读取方法\n",
      "\n",
      "s2= ['文本文件的读取方法\\n', '文本文件的写入方法\\n']\n",
      "s3= 文本文件的\n",
      "s3的长度为 5\n",
      "文件指针位置 10\n"
     ]
    }
   ],
   "source": [
    "f=open(r'C:\\Users\\Administrator\\Desktop\\变量.txt','r')    #读文件\n",
    "s=f.read()   #读取文件所有内容\n",
    "print('s=',s)\n",
    "f.seek(0,0)    #文件指针移到开头\n",
    "s1=f.readline()  #读取文件一行的内容\n",
    "print('s1=',s1)\n",
    "f.seek(0,0)\n",
    "s2=f.readlines()  #按行读取文件\n",
    "print('s2=',s2)\n",
    "\n",
    "f.seek(0,0)       #文件指针移到开头\n",
    "s3=f.read(5)      #读取五个字节\n",
    "print('s3=',s3)\n",
    "print('s3的长度为',len(s3))\n",
    "print('文件指针位置',f.tell())   \n",
    "f.close()"
   ]
  },
  {
   "cell_type": "code",
   "execution_count": 24,
   "metadata": {},
   "outputs": [
    {
     "name": "stdout",
     "output_type": "stream",
     "text": [
      "文本文件的读取方法\n",
      "\n",
      "文本文件的写入方法\n",
      "\n"
     ]
    }
   ],
   "source": [
    "f=open(r'C:\\Users\\Administrator\\Desktop\\.txt','r')\n",
    "while True:\n",
    "    line=f.readline()\n",
    "    if line=='':\n",
    "        break\n",
    "    print(line)\n",
    "f.close()"
   ]
  },
  {
   "cell_type": "code",
   "execution_count": null,
   "metadata": {},
   "outputs": [],
   "source": []
  },
  {
   "cell_type": "code",
   "execution_count": null,
   "metadata": {},
   "outputs": [],
   "source": []
  },
  {
   "cell_type": "code",
   "execution_count": null,
   "metadata": {},
   "outputs": [],
   "source": []
  },
  {
   "cell_type": "code",
   "execution_count": 27,
   "metadata": {},
   "outputs": [
    {
     "name": "stdout",
     "output_type": "stream",
     "text": [
      "姓名：asd\n",
      "年龄：52\n",
      "学校：456\n",
      "是否继续录入（输入字母E时，停止录入）：E\n"
     ]
    }
   ],
   "source": [
    "#1.用户通过键盘输入学生的信息，包括姓名，年龄，学校\n",
    "#将输入的学生信息保存到info.txt中，格式为：\n",
    "#第一行显示：序号    姓名    年龄      学校\n",
    "#从第二行开始显示每个学生的信息，每个学生的信息占一行\n",
    "#当用户输入字母E时，停止录入，并关闭文件\n",
    "#没输入完一个学生信息后，问用户是否停止录入，若停止，关闭文件\n",
    "def write1():\n",
    "    user1=input('姓名：')\n",
    "    user2=input('年龄：')\n",
    "    user3=input('学校：')\n",
    "    return user1,user2,user3\n",
    "import os\n",
    "t=os.path.exists(r'C:\\Users\\Administrator\\Desktop\\into.txt')\n",
    "if t==False:\n",
    "    f=open(r'C:\\Users\\Administrator\\Desktop\\into.txt','a+')\n",
    "    s='序号\\t姓名\\t年龄\\t学校\\n'\n",
    "    f.write(s)\n",
    "    f.close()\n",
    "while True:\n",
    "    a,b,c=write1()\n",
    "    f1=open(r'C:\\Users\\Administrator\\Desktop\\into.txt','a+')\n",
    "    a1=a+'\\t'\n",
    "    b1=b+'\\t'\n",
    "    c1=c+'\\n'\n",
    "    f1.seek(0,0)\n",
    "    s2=f1.readlines()\n",
    "    i1=str(len(s2))+'\\t'\n",
    "    f1.write(i1)\n",
    "    f1.write(a1)\n",
    "    f1.write(b1)\n",
    "    f1.write(c1)\n",
    "    w=input('是否继续录入（输入字母E时，停止录入）：')\n",
    "    if w=='E':\n",
    "        break\n",
    "f1.close()\n",
    "        "
   ]
  },
  {
   "cell_type": "code",
   "execution_count": 33,
   "metadata": {},
   "outputs": [
    {
     "name": "stdout",
     "output_type": "stream",
     "text": [
      "姓名：bb\n",
      "年龄：22\\\n",
      "学校：BB\n",
      "是否继续录入学生的信息（Y/N）：x\n"
     ]
    }
   ],
   "source": [
    "def inputStudent():\n",
    "    name=input('姓名：')\n",
    "    age=input('年龄：')\n",
    "    school=input('学校：') \n",
    "    return name,age,school\n",
    "def writeFile(f,index,name,age,school):\n",
    "    s='{}\\t{}\\t{}\\t{}\\n'.format(index,name,age,school)\n",
    "    f.write(s)                                                 #向文件中写入学生信息      \n",
    "import os\n",
    "t=os.path.exists(r'C:\\Users\\Administrator\\Desktop\\into1.txt')  #判断into1.txt文件是否存在\n",
    "file=open(r'C:\\Users\\Administrator\\Desktop\\into1.txt','a+')\n",
    "if t==False:                                                  #文件是新创建的\n",
    "    file.write('序号\\t姓名\\t年龄\\t学校\\n')                    #写入第一行\n",
    "    index=0\n",
    "else:\n",
    "    file.seek(0,0)                                            #回到文件开头\n",
    "    lines=file.readlines()                                    #若文件已存在，序号是行数-1\n",
    "    index=len(lines)-1\n",
    "# file.seek(0,2)                                                #回到文件末尾\n",
    "operater='Y'\n",
    "while operater.upper()=='Y':\n",
    "    a,b,c=inputStudent()                                      #输入学生信息\n",
    "    index+=1                                                  #序号+1\n",
    "    writeFile(file,index,a,b,c)                               #将学生信息写入文件\n",
    "    operater=input(\"是否继续录入学生的信息（Y/N）：\")         #提示用户是否继续输入\n",
    "else:\n",
    "    file.close()"
   ]
  },
  {
   "cell_type": "code",
   "execution_count": null,
   "metadata": {},
   "outputs": [],
   "source": []
  }
 ],
 "metadata": {
  "kernelspec": {
   "display_name": "Python 3",
   "language": "python",
   "name": "python3"
  },
  "language_info": {
   "codemirror_mode": {
    "name": "ipython",
    "version": 3
   },
   "file_extension": ".py",
   "mimetype": "text/x-python",
   "name": "python",
   "nbconvert_exporter": "python",
   "pygments_lexer": "ipython3",
   "version": "3.6.5"
  }
 },
 "nbformat": 4,
 "nbformat_minor": 2
}
