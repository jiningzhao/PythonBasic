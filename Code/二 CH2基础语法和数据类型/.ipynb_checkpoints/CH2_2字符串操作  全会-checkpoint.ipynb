{
 "cells": [
  {
   "cell_type": "markdown",
   "metadata": {},
   "source": [
    "# 格式化输出"
   ]
  },
  {
   "cell_type": "code",
   "execution_count": 17,
   "metadata": {},
   "outputs": [
    {
     "name": "stdout",
     "output_type": "stream",
     "text": [
      "Hello,Python\n"
     ]
    }
   ],
   "source": [
    "print('Hello,%s'%'Python')  #字符串内的%表示要占位\n",
    "                            #字符串外的%后面跟着需要填充的内容"
   ]
  },
  {
   "cell_type": "code",
   "execution_count": 18,
   "metadata": {},
   "outputs": [
    {
     "name": "stdout",
     "output_type": "stream",
     "text": [
      "10+15=25\n"
     ]
    }
   ],
   "source": [
    "a,b=10,15\n",
    "print('%d+%d=%d'%(a,b,a+b))"
   ]
  },
  {
   "cell_type": "code",
   "execution_count": 19,
   "metadata": {},
   "outputs": [
    {
     "name": "stdout",
     "output_type": "stream",
     "text": [
      "pi=3.14\n"
     ]
    }
   ],
   "source": [
    "pi=3.1415926\n",
    "print('pi=%.2f'%pi)"
   ]
  },
  {
   "cell_type": "markdown",
   "metadata": {},
   "source": [
    "# format做格式化输出"
   ]
  },
  {
   "cell_type": "code",
   "execution_count": 20,
   "metadata": {},
   "outputs": [
    {
     "name": "stdout",
     "output_type": "stream",
     "text": [
      "Please print Hello World!\n"
     ]
    }
   ],
   "source": [
    "print('Please print {} {}'.format('Hello','World!'))#{}出现的位置为占位，替代前面介绍的%"
   ]
  },
  {
   "cell_type": "code",
   "execution_count": 21,
   "metadata": {},
   "outputs": [
    {
     "name": "stdout",
     "output_type": "stream",
     "text": [
      "Please print Hello World! Hello\n"
     ]
    }
   ],
   "source": [
    "print('Please print {0} {1} {0}'.format('Hello','World!'))#{}内带数字编号，编号从0开始"
   ]
  },
  {
   "cell_type": "code",
   "execution_count": 22,
   "metadata": {},
   "outputs": [
    {
     "name": "stdout",
     "output_type": "stream",
     "text": [
      "Please print World! Hello World!\n"
     ]
    }
   ],
   "source": [
    "print('Please print {a} {tom} {a}'.format(tom='Hello',a='World!'))"
   ]
  },
  {
   "cell_type": "code",
   "execution_count": 23,
   "metadata": {},
   "outputs": [
    {
     "name": "stdout",
     "output_type": "stream",
     "text": [
      "10+15=25\n"
     ]
    }
   ],
   "source": [
    "#希望得到10+15=25\n",
    "a,b=10,15\n",
    "print('{}+{}={}'.format(a,b,a+b))"
   ]
  },
  {
   "cell_type": "markdown",
   "metadata": {},
   "source": [
    "# 字符串不可变"
   ]
  },
  {
   "cell_type": "code",
   "execution_count": 24,
   "metadata": {},
   "outputs": [
    {
     "name": "stdout",
     "output_type": "stream",
     "text": [
      "a的地址=82955432,b的地址=82955432\n",
      "~~ True\n",
      "c的地址=1864002912,d的地址=1864002912\n",
      "c=15,d=10\n",
      "c的地址=1864003072,d的地址=1864002912\n"
     ]
    }
   ],
   "source": [
    "#id()查看变量存放的内存地址\n",
    "a='Hello'    \n",
    "b='Hello'\n",
    "print('a的地址={},b的地址={}'.format(id(a),id(b)))\n",
    "print('~~',a is b)\n",
    "c=10\n",
    "d=10\n",
    "print('c的地址={},d的地址={}'.format(id(c),id(d)))\n",
    "c=15\n",
    "print('c={},d={}'.format(c,d))\n",
    "print('c的地址={},d的地址={}'.format(id(c),id(d)))"
   ]
  },
  {
   "cell_type": "markdown",
   "metadata": {},
   "source": [
    "### 身份运算符is与==区别"
   ]
  },
  {
   "cell_type": "code",
   "execution_count": 25,
   "metadata": {},
   "outputs": [
    {
     "name": "stdout",
     "output_type": "stream",
     "text": [
      "a的地址=85490440,b的地址=85490440\n",
      "\"a is b\" = True\n",
      "\"a == b\" = True\n",
      "a的地址=85490440,b的地址=83250376\n",
      "\"a is b\" = False\n",
      "\"a == b\" = True\n"
     ]
    }
   ],
   "source": [
    "# is用于判断两个变量引用的对象是否是同一个，即两个变量是否存放在一个内存地址上\n",
    "# ==用于判断变量的值是否相等\n",
    "\n",
    "a = [1,2,3]     #a 是一个列表，里面有三个数字1,2,3\n",
    "b = a\n",
    "print('a的地址={},b的地址={}'.format(id(a),id(b)))\n",
    "print('\"a is b\" = {}'.format(a is b))\n",
    "print('\"a == b\" = {}'.format(a==b))\n",
    "b = a[:]       #b是新定义的一个列表，将a里面的数值全部复制过来\n",
    "print('a的地址={},b的地址={}'.format(id(a),id(b)))\n",
    "print('\"a is b\" = {}'.format(a is b))\n",
    "print('\"a == b\" = {}'.format(a==b))"
   ]
  },
  {
   "cell_type": "markdown",
   "metadata": {},
   "source": [
    "# 转义字符"
   ]
  },
  {
   "cell_type": "code",
   "execution_count": 15,
   "metadata": {},
   "outputs": [
    {
     "name": "stdout",
     "output_type": "stream",
     "text": [
      "Hello\tWorld!\n"
     ]
    }
   ],
   "source": [
    "print('Hello\\tWorld!')"
   ]
  },
  {
   "cell_type": "code",
   "execution_count": 16,
   "metadata": {},
   "outputs": [
    {
     "name": "stdout",
     "output_type": "stream",
     "text": [
      "D:\n",
      "Code\n"
     ]
    }
   ],
   "source": [
    "print('D:\\nCode')"
   ]
  },
  {
   "cell_type": "markdown",
   "metadata": {},
   "source": [
    "# 成员运算符in"
   ]
  },
  {
   "cell_type": "code",
   "execution_count": 1,
   "metadata": {},
   "outputs": [
    {
     "name": "stdout",
     "output_type": "stream",
     "text": [
      "True\n"
     ]
    }
   ],
   "source": [
    "str1 ='Good morning'\n",
    "str2 ='Good'\n",
    "print(str2 in str1)"
   ]
  },
  {
   "cell_type": "code",
   "execution_count": 2,
   "metadata": {},
   "outputs": [
    {
     "name": "stdout",
     "output_type": "stream",
     "text": [
      "True\n"
     ]
    }
   ],
   "source": [
    "a=[1,2,3]\n",
    "b=2\n",
    "print(b in a )"
   ]
  },
  {
   "cell_type": "markdown",
   "metadata": {},
   "source": [
    "### 类型转换"
   ]
  },
  {
   "cell_type": "code",
   "execution_count": 1,
   "metadata": {},
   "outputs": [
    {
     "name": "stdout",
     "output_type": "stream",
     "text": [
      "50 <class 'int'>\n"
     ]
    }
   ],
   "source": [
    "a='50'\n",
    "b=int(a)   #按十进制将a变成整数\n",
    "print(b,type(b))"
   ]
  },
  {
   "cell_type": "code",
   "execution_count": 6,
   "metadata": {},
   "outputs": [
    {
     "name": "stdout",
     "output_type": "stream",
     "text": [
      "3.14 <class 'float'>\n",
      "560.0\n"
     ]
    }
   ],
   "source": [
    "a='3.14'\n",
    "b=float(a)   #将a转换为浮点数\n",
    "print(b,type(b))\n",
    "c='5.6e2'\n",
    "print(float(c))"
   ]
  },
  {
   "cell_type": "code",
   "execution_count": 7,
   "metadata": {},
   "outputs": [
    {
     "name": "stdout",
     "output_type": "stream",
     "text": [
      "(3+4j)\n"
     ]
    }
   ],
   "source": [
    "a=complex(3,4)　#创建一个复数，实部3，虚部4\n",
    "print(a)"
   ]
  },
  {
   "cell_type": "code",
   "execution_count": 9,
   "metadata": {},
   "outputs": [
    {
     "name": "stdout",
     "output_type": "stream",
     "text": [
      "(3+4j) <class 'str'>\n"
     ]
    }
   ],
   "source": [
    "b=str(a)       #将a转换成字符串\n",
    "print(b,type(b))"
   ]
  },
  {
   "cell_type": "code",
   "execution_count": 10,
   "metadata": {},
   "outputs": [
    {
     "name": "stdout",
     "output_type": "stream",
     "text": [
      "13\n"
     ]
    }
   ],
   "source": [
    "num1=5\n",
    "num2=8\n",
    "str1='num1+num2'\n",
    "print(eval(str1))  #将字符串转换成运算表达式，并运算"
   ]
  },
  {
   "cell_type": "markdown",
   "metadata": {},
   "source": [
    "# 课堂练习"
   ]
  },
  {
   "cell_type": "code",
   "execution_count": 26,
   "metadata": {},
   "outputs": [
    {
     "name": "stdout",
     "output_type": "stream",
     "text": [
      "这是一个数字10,一个字符串\"abc\",一个浮点数3.14，一个十六进制数0x10\n"
     ]
    }
   ],
   "source": [
    "#利用%d数字，%s字符串，%f浮点数占位符，%x十六进制，使用print命令输出下面这句话：\n",
    "#这是一个数字10，一个字符串“abc”，一个浮点数3.14，一个十六进制数0x10\n",
    "a=10\n",
    "b='\"abc\"'\n",
    "c=3.14\n",
    "d=0x10\n",
    "print('这是一个数字%d,一个字符串%s,一个浮点数%.2f，一个十六进制数0x%x'%(a,b,c,d))"
   ]
  },
  {
   "cell_type": "code",
   "execution_count": 7,
   "metadata": {},
   "outputs": [
    {
     "name": "stdout",
     "output_type": "stream",
     "text": [
      "hello\n",
      "hello world···\\表示换行\n"
     ]
    }
   ],
   "source": [
    "a='hello'\n",
    "b='hell\\\n",
    "o world'          '''···\\表示换行'''\n",
    "print(a)\n",
    "print(b)"
   ]
  },
  {
   "cell_type": "code",
   "execution_count": null,
   "metadata": {},
   "outputs": [],
   "source": [
    "+ 字符串连接\n",
    "* 重复输出字符串\n",
    "[]通过索引获取字符串当中的字符\n",
    "[:]截取字符串中的一部分。切片\n",
    "in 成员运算符-->如果字符串中包含给定的字符返回True\n",
    "not in 成员运算符-->如果字符串中不包含给定的字符返回True\n",
    "r/R 原始字符串 不转译\n"
   ]
  },
  {
   "cell_type": "markdown",
   "metadata": {},
   "source": [
    "##### 字符串的切片"
   ]
  },
  {
   "cell_type": "code",
   "execution_count": 10,
   "metadata": {},
   "outputs": [
    {
     "name": "stdout",
     "output_type": "stream",
     "text": [
      "a\n",
      "h\n",
      "e\n",
      "abc\n",
      "abc\n",
      "cde\n",
      "fgh\n",
      "abcdefgh\n",
      "aceg\n",
      "hfdb\n"
     ]
    }
   ],
   "source": [
    "# 字符串的切片\n",
    "a='abcdefgh'\n",
    "print(a[0])  #字符串的第一个字符\n",
    "print(a[-1])#字符串的最后一个字符\n",
    "print(a[4])  #字符串的第五个字符\n",
    "print(a[0:3])#字符串0~n-1的字符\n",
    "print(a[:3]) #字符串0~n-1的字符\n",
    "print(a[2:5])#截取字符串的一部分\n",
    "print(a[-3:])#截取字符串的后三个，最末尾的字符下标是-1\n",
    "print(a[:])  #完整的字符串\n",
    "print(a[::2])#第二个冒号后面表示步长\n",
    "print(a[::-2])#若步长为负数，表示从右向左显示"
   ]
  },
  {
   "cell_type": "markdown",
   "metadata": {},
   "source": [
    "# 练习"
   ]
  },
  {
   "cell_type": "code",
   "execution_count": 16,
   "metadata": {},
   "outputs": [
    {
     "name": "stdout",
     "output_type": "stream",
     "text": [
      "hello python\n"
     ]
    }
   ],
   "source": [
    "#1.字符串连接\n",
    "#str1='hello'\n",
    "#str2='python'\n",
    "#将上述两个字符串变量进行连接，输出'hello python'（注意中间有空格）\n",
    "str1='hello'\n",
    "str2='python'\n",
    "str3=str1+' '+str2\n",
    "print(str3)"
   ]
  },
  {
   "cell_type": "code",
   "execution_count": 17,
   "metadata": {},
   "outputs": [
    {
     "name": "stdout",
     "output_type": "stream",
     "text": [
      "hello python!\n"
     ]
    }
   ],
   "source": [
    "#2.字符串置换\n",
    "#str='hello world!'\n",
    "#将上述str中的'world'替换成'python'并输出\n",
    "str='hello world!'\n",
    "a=str.replace('world','python')\n",
    "print(a)"
   ]
  },
  {
   "cell_type": "code",
   "execution_count": 18,
   "metadata": {},
   "outputs": [
    {
     "name": "stdout",
     "output_type": "stream",
     "text": [
      "6\n"
     ]
    }
   ],
   "source": [
    "#3.字符串查找\n",
    "#str='hello python!'\n",
    "#使用Python字符串内置函数，查找出str中'python'的位置并输出\n",
    "str='hello python!'\n",
    "a=str.find('python')      #找到字符串并返回字符串所在位置\n",
    "print(a)"
   ]
  },
  {
   "cell_type": "code",
   "execution_count": 24,
   "metadata": {},
   "outputs": [
    {
     "name": "stdout",
     "output_type": "stream",
     "text": [
      "python\n"
     ]
    }
   ],
   "source": [
    "#4.字符串截取\n",
    "#str='hello python !'\n",
    "#截取出上述str中的'python'并输出\n",
    "str='hello python!'\n",
    "print(str[-7:-1])"
   ]
  },
  {
   "cell_type": "code",
   "execution_count": 21,
   "metadata": {},
   "outputs": [
    {
     "name": "stdout",
     "output_type": "stream",
     "text": [
      "tr1转换为大写为： HELLO PYTHON!\n",
      "tr2转换为小写为： hello python!\n"
     ]
    }
   ],
   "source": [
    "#5.字符串大小写转换\n",
    "# str1='hello python!'\n",
    "# 使用python字符串内置函数将上述字符串str1转换为大写的结果并输出。\n",
    "# str2='HELLO PYTHON!'\n",
    "# 使用python字符串内置函数将上述字符串str2转换为小写的结果并输出。\n",
    "str1='hello python!'\n",
    "str2='HELLO PYTHON!'\n",
    "a=str1.upper()\n",
    "b=str2.lower()\n",
    "print('tr1转换为大写为：',a)\n",
    "print('tr2转换为小写为：',b)"
   ]
  },
  {
   "cell_type": "code",
   "execution_count": null,
   "metadata": {},
   "outputs": [],
   "source": []
  }
 ],
 "metadata": {
  "kernelspec": {
   "display_name": "Python 3",
   "language": "python",
   "name": "python3"
  },
  "language_info": {
   "codemirror_mode": {
    "name": "ipython",
    "version": 3
   },
   "file_extension": ".py",
   "mimetype": "text/x-python",
   "name": "python",
   "nbconvert_exporter": "python",
   "pygments_lexer": "ipython3",
   "version": "3.6.5"
  }
 },
 "nbformat": 4,
 "nbformat_minor": 2
}
