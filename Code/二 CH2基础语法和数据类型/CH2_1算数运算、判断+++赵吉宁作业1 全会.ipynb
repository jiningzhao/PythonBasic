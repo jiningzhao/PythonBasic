{
 "cells": [
  {
   "cell_type": "code",
   "execution_count": 2,
   "metadata": {},
   "outputs": [
    {
     "name": "stdout",
     "output_type": "stream",
     "text": [
      "请输入第一个数字a:12\n",
      "请输入第二个数字b:423\n",
      "两数和为： 435 \n",
      " 两数差为： -411 \n",
      " 两数乘积为： 5076 \n",
      " 两数商为： 0.028368794326241134 \n",
      " 两数相除余数为： 12 \n",
      " 两数相除取整为： 0 \n",
      " 两数幂结果为： 3116499619078116407615401457262483201282069194560910359231474401389246267650588468745166260062937184643809280199524700706529646688053370184131374159550083663462613662037507441139689058503280222345240641228445991046995997511446649692205849547750965873607749200615018268083884540638431510581118874192694553767555002236888265316309984999260440613386474148386493815741569449753038133750154627257716049236625274485525708947046044601978430498184269392553472688128\n"
     ]
    }
   ],
   "source": [
    "#输入两个数字，计算他们的和、差、乘积、商、余数、取整除、幂，并将结果打印出来\n",
    "a=int(input('请输入第一个数字a:'))\n",
    "b=int(input('请输入第二个数字b:'))\n",
    "str1='两数和为：'\n",
    "str2='两数差为：'\n",
    "str3='两数乘积为：'\n",
    "str4='两数商为：'\n",
    "str5='两数相除余数为：'\n",
    "str6='两数相除取整为：'\n",
    "str7='两数幂结果为：'\n",
    "print(str1,a+b,'\\n',str2,a-b,'\\n',str3,a*b,'\\n',str4,a/b,'\\n',str5,a%b,'\\n',str6,a//b,'\\n',str7,a**b)"
   ]
  },
  {
   "cell_type": "code",
   "execution_count": 3,
   "metadata": {},
   "outputs": [
    {
     "name": "stdout",
     "output_type": "stream",
     "text": [
      "请输入一个三位数：456\n",
      "456 --> 4 + 5 + 6 = 15\n"
     ]
    }
   ],
   "source": [
    "#求一个三位数个位数字的和，如345-->3+4+5=12\n",
    "a=int(input('请输入一个三位数：'))\n",
    "b=a//100\n",
    "c=a//10-b*10\n",
    "d=a-b*100-c*10\n",
    "print(a,'-->',b,'+',c,'+',d,'=',b+c+d)"
   ]
  },
  {
   "cell_type": "code",
   "execution_count": 4,
   "metadata": {},
   "outputs": [
    {
     "name": "stdout",
     "output_type": "stream",
     "text": [
      "请输入商品的钱数:21\n",
      "找50元的张数为： 1 找20元的张数为： 1 找10元的张数为： 0 找1元的张数为： 9 总张数为： 11\n"
     ]
    }
   ],
   "source": [
    "'''某人用100元去买不超过100元的东西，问卖家如何找钱使得找的钱张数最少。\n",
    "   已知钱币的种类包括50元、20元、10元、1元。\n",
    "   请输入商品的钱数，打印出找钱的方案，及总共需要找几张钱。'''\n",
    "a=int(input('请输入商品的钱数:'))\n",
    "b=100-a\n",
    "m1=b//1      #需要找的钱数\n",
    "# m50=m1//50   #能找50元的张数\n",
    "# m20=(m1-m50*50)//20  #排除找50的情况下，能找20的张数\n",
    "# m10=(m1-m50*50)//10-m20*2 #剩下的能找10元的张数\n",
    "# e=m1-m20*20-m10*10-m50*50  #剩下的小于10元的，找的1元的张数\n",
    "m50=m1//50\n",
    "m20=m1%50//20\n",
    "m10=m1%50%20//10\n",
    "e=m1%50%20%10\n",
    "print('找50元的张数为：',m50,'找20元的张数为：',m20,'找10元的张数为：',m10,'找1元的张数为：',e,'总张数为：',m50+m20+m10+e)"
   ]
  },
  {
   "cell_type": "code",
   "execution_count": 5,
   "metadata": {},
   "outputs": [
    {
     "name": "stdout",
     "output_type": "stream",
     "text": [
      "代码4\n"
     ]
    }
   ],
   "source": [
    "a=10\n",
    "if a>20:\n",
    "    print('代码1')\n",
    "    print('代码2')\n",
    "elif a>15:\n",
    "    print('代码3')\n",
    "else:\n",
    "    print('代码4')\n"
   ]
  },
  {
   "cell_type": "code",
   "execution_count": 6,
   "metadata": {},
   "outputs": [
    {
     "name": "stdout",
     "output_type": "stream",
     "text": [
      "请输入学生的分数:98\n",
      "成绩为A等\n"
     ]
    }
   ],
   "source": [
    "#输入学生的分数，90分以上A等，80~89的B等，70~79的C等，60~69的D等，60分以下的为E等\n",
    "score = int(input('请输入学生的分数:'))\n",
    "if score>=90:\n",
    "    print('成绩为A等')\n",
    "elif score>=80:\n",
    "    print('成绩为B等')\n",
    "elif score>=70:\n",
    "    print('成绩为C等')\n",
    "elif score>=60:\n",
    "    print('成绩为D等')\n",
    "else:\n",
    "    print('成绩为E等')\n"
   ]
  },
  {
   "cell_type": "code",
   "execution_count": 7,
   "metadata": {},
   "outputs": [
    {
     "name": "stdout",
     "output_type": "stream",
     "text": [
      "请输入一个数字：5\n",
      "正奇数\n"
     ]
    }
   ],
   "source": [
    "#if嵌套\n",
    "#输入一个数字，判断正偶数、正奇数、0、负偶数、负奇数\n",
    "number = int(input('请输入一个数字：'))\n",
    "if number>0:   #正数\n",
    "    if number%2==0:\n",
    "        print('正偶数')\n",
    "    else:\n",
    "        print('正奇数')    \n",
    "elif number==0:\n",
    "    pass  #什么都不做  \n",
    "else:      #负数\n",
    "    if number%2==0:\n",
    "        print('负偶数')\n",
    "    else:\n",
    "        print('负奇数')\n",
    "    "
   ]
  },
  {
   "cell_type": "markdown",
   "metadata": {},
   "source": [
    "# 作业一------------------------------------------"
   ]
  },
  {
   "cell_type": "code",
   "execution_count": 1,
   "metadata": {},
   "outputs": [
    {
     "name": "stdout",
     "output_type": "stream",
     "text": [
      "请输入一个星期（1~7）3\n",
      "工作日\n"
     ]
    }
   ],
   "source": [
    "#输入一个星期，打印是工作日还是休息日\n",
    "day=int(input('请输入一个星期（1~7）'))\n",
    "if day>7 or day<1:\n",
    "    print('错误！')\n",
    "elif day>5 :\n",
    "    print('休息日')\n",
    "else:\n",
    "    print('工作日')"
   ]
  },
  {
   "cell_type": "code",
   "execution_count": 2,
   "metadata": {},
   "outputs": [
    {
     "name": "stdout",
     "output_type": "stream",
     "text": [
      "请输入一个数：564\n",
      "564不是水仙花数\n"
     ]
    }
   ],
   "source": [
    "#判断一个数是否是水仙花数\n",
    "#水仙花数是指一个三位数，其各位数字立方和等于该数本身，\n",
    "#如153是一个水仙花数，因为153=1的立方+5的立方+3的立方\n",
    "number=int(input('请输入一个数：'))\n",
    "# a=number//100\n",
    "# b=number//10-a*10\n",
    "# c=number-a*100-b*10\n",
    "a=number//100\n",
    "b=number//10%10\n",
    "c=number%10\n",
    "d=a**3+b**3+c**3\n",
    "if number==d:\n",
    "    print('{}是水仙花数'.format(number))\n",
    "else:\n",
    "    print('{}不是水仙花数'.format(number))"
   ]
  },
  {
   "cell_type": "code",
   "execution_count": 3,
   "metadata": {},
   "outputs": [
    {
     "name": "stdout",
     "output_type": "stream",
     "text": [
      "请输入一个数a：4\n",
      "请输入一个数b：5\n",
      "请输入一个数c：6\n",
      "6\n"
     ]
    }
   ],
   "source": [
    "#输入三个整数，找到其中最大的数字\n",
    "a=int(input('请输入一个数a：'))\n",
    "b=int(input('请输入一个数b：'))\n",
    "c=int(input('请输入一个数c：'))\n",
    "if a>=b:\n",
    "    if a>=c:\n",
    "        print(a)\n",
    "    else:\n",
    "        print(c)\n",
    "else:\n",
    "    if b>=c:\n",
    "        print(b)\n",
    "    else:\n",
    "        print(c)"
   ]
  },
  {
   "cell_type": "code",
   "execution_count": 4,
   "metadata": {},
   "outputs": [
    {
     "name": "stdout",
     "output_type": "stream",
     "text": [
      "请输入一个数a：4\n",
      "请输入一个数b：5\n",
      "请输入一个数c：6\n",
      "6\n"
     ]
    }
   ],
   "source": [
    "#输入三个整数，找到其中最大的数字\n",
    "a=int(input('请输入一个数a：'))\n",
    "b=int(input('请输入一个数b：'))\n",
    "c=int(input('请输入一个数c：'))\n",
    "maxNum=a      #以第一个数为比较\n",
    "if maxNum <= b:\n",
    "    maxNum=b\n",
    "if maxNum<=c:\n",
    "    maxNum=c\n",
    "print(maxNum)\n"
   ]
  },
  {
   "cell_type": "code",
   "execution_count": 5,
   "metadata": {},
   "outputs": [
    {
     "name": "stdout",
     "output_type": "stream",
     "text": [
      "请输入一个字母：w\n",
      "星期三\n"
     ]
    }
   ],
   "source": [
    "#请输入星期几的第一个字母来判断是星期几，\n",
    "#如果第一个字母一样，要求输入第二个字母判断是星期几\n",
    "letter=input('请输入一个字母：')\n",
    "if letter.upper()=='M':        #.upper()转换成大写字母，.lower()转换成小写字母\n",
    "    print('星期一')\n",
    "elif letter.upper()=='T':\n",
    "    letter1=input('请输入第二个字母:')\n",
    "    if letter1.upper()=='U':\n",
    "        print('星期二')\n",
    "    else:\n",
    "        print('星期四')\n",
    "elif letter.upper()=='W':\n",
    "    print('星期三')\n",
    "elif letter.upper()=='F':\n",
    "    print('星期五')\n",
    "elif letter.upper()=='S':\n",
    "    letter2=input('请输入第二个字母：')\n",
    "    if letter2.upper()=='A':\n",
    "        print('星期六')\n",
    "    else:\n",
    "        print('星期日')"
   ]
  },
  {
   "cell_type": "code",
   "execution_count": 6,
   "metadata": {},
   "outputs": [
    {
     "name": "stdout",
     "output_type": "stream",
     "text": [
      "请输入姓李的重量:55\n",
      "运费需要7.50元\n"
     ]
    }
   ],
   "source": [
    "#计算铁路路费已知从甲地到乙地，每张票托运行李不超过50公斤时，按每公斤0.13元计算。\n",
    "#超过50公斤时，超过部分按每公斤0.2元计算\n",
    "#请输入行李的重量，打印运费\n",
    "bag=float(input('请输入姓李的重量:'))\n",
    "if bag<=50:\n",
    "    count=bag*0.13\n",
    "else:\n",
    "    m=bag-50\n",
    "    count=0.13*50+m*0.2\n",
    "print('运费需要%.2f元'%count)"
   ]
  },
  {
   "cell_type": "code",
   "execution_count": 7,
   "metadata": {},
   "outputs": [
    {
     "name": "stdout",
     "output_type": "stream",
     "text": [
      "请输入你的收入：5000\n",
      "45.0\n"
     ]
    }
   ],
   "source": [
    "#计算个人所得税\n",
    "income=float(input('请输入你的收入：'))\n",
    "tax=income-3500\n",
    "if tax<=0:\n",
    "    sr=0\n",
    "elif tax<=1500 :\n",
    "    sr=tax*0.03-0\n",
    "elif tax<=4500:\n",
    "    sr=tax*0.1-105\n",
    "elif tax<=9000:\n",
    "    sr=tax*0.2-555\n",
    "elif tax<=35000:\n",
    "    sr=tax*0.25-1005\n",
    "elif tax<=55000:\n",
    "    sr=tax*0.3-2755\n",
    "elif tax<=80000:\n",
    "    sr=tax*0.35-5505\n",
    "else:\n",
    "    sr=tax*0.45-13505\n",
    "print(sr)"
   ]
  },
  {
   "cell_type": "code",
   "execution_count": null,
   "metadata": {},
   "outputs": [],
   "source": []
  }
 ],
 "metadata": {
  "kernelspec": {
   "display_name": "Python 3",
   "language": "python",
   "name": "python3"
  },
  "language_info": {
   "codemirror_mode": {
    "name": "ipython",
    "version": 3
   },
   "file_extension": ".py",
   "mimetype": "text/x-python",
   "name": "python",
   "nbconvert_exporter": "python",
   "pygments_lexer": "ipython3",
   "version": "3.6.5"
  }
 },
 "nbformat": 4,
 "nbformat_minor": 2
}
