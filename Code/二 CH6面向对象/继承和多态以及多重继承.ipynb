{
 "cells": [
  {
   "cell_type": "code",
   "execution_count": 24,
   "metadata": {},
   "outputs": [
    {
     "name": "stdout",
     "output_type": "stream",
     "text": [
      "张三,21岁,男\n"
     ]
    }
   ],
   "source": [
    "class Person(object):\n",
    "    def __init__(self,name='',age=21,sex='男'):\n",
    "        self.setName(name)\n",
    "        self.setAge(age)\n",
    "        self.setSex(sex)\n",
    "    def setName(self,name):\n",
    "        if type(name)!=str:\n",
    "            print('请输入字符串类型！')\n",
    "            return\n",
    "        self.__name=name\n",
    "    def setAge(self,age):\n",
    "        if type(age)!=int:\n",
    "            print('请输入整数！')\n",
    "            return\n",
    "        self.__age=age\n",
    "    def setSex(self,sex):\n",
    "        if sex!='男' and sex!='女':\n",
    "            print('请输入男/女！')\n",
    "            return\n",
    "        self.__sex=sex\n",
    "    def show(self):\n",
    "        print('{},{}岁,{}'.format(self.__name,self.__age,self.__sex))\n",
    "        \n",
    "        \n",
    "        \n",
    "class Teacher(Person):   #Teacher继承自Person，Person是基类/父类，Teacher是子类/派生类\n",
    "    def __init__(self,name='',age=21,sex='男',department=''):\n",
    "        super(Teacher,self).__init__(name,age,sex)  #调用父类的方法，super(子类的类型名，子类的对象名).函数名（参数）\n",
    "#         Person.__init__(self,name,age,sex) #调用父类的__init__()方法,不推荐\n",
    "#         self.setName(name)          #子类没有实现的方法会自动去父类里面找\n",
    "#         self.setAge(age)\n",
    "#         self.setSex(sex)\n",
    "        self.setDepartment(department)\n",
    "    def setDepartment(self,department):    #设置部门\n",
    "        if type(department)!=str:\n",
    "            print('department必须是字符串类型！')\n",
    "            return\n",
    "        self.__department=department\n",
    "    def show(self):                   #和父类的方法重名，表示将父类的方法覆盖掉\n",
    "        super(Teacher,self).show()   #调用父类的show()方法\n",
    "#         print(self.__name)     #name是父类的私有属性，在子类里面不能使用\n",
    "        print(self.__department)\n",
    "        \n",
    "a=Teacher(name='张三',department='计算机')\n",
    "# a.show()           #子类里实现了show()方法则调用子类的show(),若子类没实现show（）方法，则调用父类的方法\n",
    "super(Teacher,a).show() #a是子类的对象，想访问父类的方法时用super\n",
    "    \n",
    "    \n",
    "    \n",
    "    \n",
    "    \n",
    "    \n",
    "# a=Person('赵吉宁',24,'男')\n",
    "# a.show()"
   ]
  },
  {
   "cell_type": "code",
   "execution_count": 53,
   "metadata": {},
   "outputs": [
    {
     "name": "stdout",
     "output_type": "stream",
     "text": [
      "父类：车轮数4，载客数5，最大速度200km/h\n",
      "父类：车轮数4，载客数4，最大速度420km/h\n",
      "\t子类（Car）：空调(有)\n",
      "父类：车轮数8，载客数2，最大速度300km/h\n",
      "\t子类（Truck）：载重量50吨\n"
     ]
    }
   ],
   "source": [
    "# 练习：定义一个父类叫汽车Auto,属性包括车轮数，载客数，载重量，最大速度，通过show函数打印以上信息\n",
    "#定义一个子类叫小轿车Car，增加属性空调（有或无），通过show函数打印以上信息\n",
    "#再定义一个子类叫货车Truck，增加属性载重量，通过show函数打印以上信息\n",
    "class Auto(object):\n",
    "    def __init__(self,cSum=4,zSum=5,maxV=200):\n",
    "        self.C_Sum(cSum)\n",
    "        self.Z_Sum(zSum)\n",
    "        self.Max_V(maxV)\n",
    "    def C_Sum(self,cSum):\n",
    "        if type(cSum)!=int:\n",
    "            print('cSum必须是整数!')\n",
    "            return\n",
    "        self.__cSum=cSum\n",
    "    def Z_Sum(self,zSum):\n",
    "        if type(zSum)!=int:\n",
    "            print('zSum必须是整数!')\n",
    "            return\n",
    "        self.__zSum=zSum\n",
    "    def Max_V(self,maxV):\n",
    "        if type(maxV)!=int:\n",
    "            print('maxV必须是整数!')\n",
    "            return\n",
    "        self.__maxV=maxV\n",
    "    def show(self):\n",
    "        print('父类：车轮数{}，载客数{}，最大速度{}km/h'.format(self.__cSum,self.__zSum,self.__maxV))      \n",
    "class Car(Auto):\n",
    "    def __init__(self,cSum,zSum,maxV,air):\n",
    "        super(Car,self).__init__(cSum,zSum,maxV)\n",
    "        self.Air(air)\n",
    "    def Air(self,air):\n",
    "        if air!='有' and air!='无':\n",
    "            print('air必须是有/无！')\n",
    "            return\n",
    "        self.__air=air\n",
    "    def show(self):\n",
    "        super(Car,self).show()\n",
    "        print('\\t子类（Car）：空调({})'.format(self.__air)) \n",
    "class Truck(Auto):\n",
    "    def __init__(self,cSum,zSum,maxV,zWeight):\n",
    "        super(Truck,self).__init__(cSum,zSum,maxV)\n",
    "        self.Z_Weight(zWeight)\n",
    "    def Z_Weight(self,zWeight):\n",
    "        if type(zWeight)!=int:\n",
    "            print('zWeight必须是整数!')\n",
    "            return\n",
    "        self.__zWeight=zWeight\n",
    "    def show(self):\n",
    "        super(Truck,self).show()\n",
    "        print('\\t子类（Truck）：载重量{}吨'.format(self.__zWeight))\n",
    "        \n",
    "        \n",
    "        \n",
    "        \n",
    "        \n",
    "a=Auto()\n",
    "a.show()\n",
    "c=Car(4,4,420,'有')\n",
    "c.show()\n",
    "t=Truck(8,2,300,50)\n",
    "t.show()\n",
    "\n"
   ]
  },
  {
   "cell_type": "code",
   "execution_count": 2,
   "metadata": {},
   "outputs": [
    {
     "name": "stdout",
     "output_type": "stream",
     "text": [
      "B:__init__\n",
      "B:show\n"
     ]
    }
   ],
   "source": [
    "#多重继承\n",
    "class A:\n",
    "    def __init__(self):\n",
    "        print('A:__init__')\n",
    "    def show(self):\n",
    "        print('A:show')\n",
    "class B:\n",
    "    def __init__(self):\n",
    "        print('B:__init__')\n",
    "    def show(self):\n",
    "        print('B:show')\n",
    "class C(B,A):\n",
    "    pass            #不写构造方法时，自动调用父类的构造方法，多个都累时选择靠前的那个\n",
    "c=C()      \n",
    "c.show()            #类C自己没有show函数，调用父类的show函数，多个父类时选择靠前的那个"
   ]
  },
  {
   "cell_type": "code",
   "execution_count": 17,
   "metadata": {},
   "outputs": [
    {
     "name": "stdout",
     "output_type": "stream",
     "text": [
      "1\n",
      "2\n",
      "1\n",
      "----------\n",
      "1\n",
      "2\n",
      "3\n",
      "1\n"
     ]
    }
   ],
   "source": [
    "#访问控制，公有、保护、私有\n",
    "class A:\n",
    "    def __init__(self,a,b,c):\n",
    "        self.a=a\n",
    "        self._b=b\n",
    "        self.__c=c\n",
    "class B(A):\n",
    "    def __init__(self,a,b,c):\n",
    "        super(B,self).__init__(a,b,c)\n",
    "        self.__B_a=1\n",
    "    def show(self):\n",
    "        print(self.a)   #a是父类的共有属性，在子类中可以直接访问\n",
    "        print(self._b)  #_b是父类的保护属性，在子类中可以直接访问\n",
    "#         print(self.__c) #子类不能访问父类的私有属性，私有属性只能在类内部使用\n",
    "        print(self.__B_a)  #类内可以访问自己的私有属性\n",
    "b=B(1,2,3)\n",
    "b.show()\n",
    "print('-'*10)           #打印10个'-'\n",
    "print(b.a)\n",
    "print(b._b)\n",
    "print(b._A__c)         #b._B__c也不行\n",
    "print(b._B__B_a)\n",
    "#查找一个对象私有的属性方法时，只在本类范围内找,看不到父类的私有属性方法\n",
    "#查找一个对象公有、保护的属性是，若在本类范围内没找到，则取父类找"
   ]
  },
  {
   "cell_type": "code",
   "execution_count": 24,
   "metadata": {},
   "outputs": [
    {
     "name": "stdout",
     "output_type": "stream",
     "text": [
      "A; 11 12 3\n",
      "B; 11 12 13\n"
     ]
    }
   ],
   "source": [
    "class A:\n",
    "    def __init__(self,a,b,c):\n",
    "        self.a=a\n",
    "        self._b=b\n",
    "        self.__c=c\n",
    "    def show(self):\n",
    "        print('A;',self.a,self._b,self.__c)\n",
    "class B(A):\n",
    "    def __init__(self,a,b,c):\n",
    "        super(B,self).__init__(a,b,c)\n",
    "        self.a=a+10            #父类中已经定义了a,_b，此处直接覆盖父类的变量\n",
    "        self._b=b+10\n",
    "        self.__c=c+10          #私有属性无法看到父类已经定义，会新定义一份\n",
    "    def show(self):\n",
    "        super(B,self).show()\n",
    "        print('B;',self.a,self._b,self.__c)\n",
    "        \n",
    "b=B(1,2,3)           #对象b一共四个属性，a,_b,父类定义的__c,子类定义的__c\n",
    "b.show()             #对象b的方法是两个__init(),show()\n"
   ]
  },
  {
   "cell_type": "code",
   "execution_count": 25,
   "metadata": {},
   "outputs": [
    {
     "name": "stdout",
     "output_type": "stream",
     "text": [
      "A; 1 2 3\n",
      "B; 1 2 13\n"
     ]
    }
   ],
   "source": [
    "class A:\n",
    "    def __init__(self,a,b,c):\n",
    "        self.a=a\n",
    "        self._b=b\n",
    "        self.__c=c\n",
    "    def show(self):\n",
    "        print('A;',self.a,self._b,self.__c)\n",
    "class B(A):\n",
    "    def __init__(self,a,b,c):\n",
    "#         super(B,self).__init__(a,b,c)\n",
    "        self.a=a+10            #父类中已经定义了a,_b，此处直接覆盖父类的变量\n",
    "        self._b=b+10\n",
    "        self.__c=c+10          #私有属性无法看到父类已经定义，会新定义一份\n",
    "        super(B,self).__init__(a,b,c) #后出现属性的覆盖前面的属性\n",
    "    def show(self):\n",
    "        super(B,self).show()\n",
    "        print('B;',self.a,self._b,self.__c)\n",
    "        \n",
    "b=B(1,2,3)           #对象b一共四个属性，a,_b,父类定义的__c,子类定义的__c\n",
    "b.show()             #对象b的方法是两个__init(),show()\n"
   ]
  },
  {
   "cell_type": "code",
   "execution_count": 31,
   "metadata": {},
   "outputs": [
    {
     "name": "stdout",
     "output_type": "stream",
     "text": [
      "周长为14面积为12\n",
      "所有边长48，表面积94,体积60\n"
     ]
    }
   ],
   "source": [
    "#练习：父类是长方形，属性包括长，宽，方法有求周长和面积\n",
    "#子类是长方体，属性多了个高度，方法求所有边长，表面积,体积\n",
    "#在主函数中定义一个长方形4，宽3,一个长方体，长4，宽3，高5，打印以上结果\n",
    "#要求：尽量减少重复代码，充分使用父类定义好的方法\n",
    "class rectangle(object):\n",
    "    def __init__(self,a,b):\n",
    "        self.a=a\n",
    "        self.b=b\n",
    "    def C(self):\n",
    "        return self.a*2+self.b*2\n",
    "    def S(self):\n",
    "        return self.a*self.b\n",
    "    def show(self):\n",
    "        print('周长为{}面积为{}'.format(self.C(),self.S()))\n",
    "        \n",
    "class cuboid(rectangle):\n",
    "    def __init__(self,a,b,c):\n",
    "        super(cuboid,self).__init__(a,b)\n",
    "        self.c=c\n",
    "    def _C(self):\n",
    "        return self.C()*2+self.c*4\n",
    "    def V(self):\n",
    "        return self.S()*self.c\n",
    "    def Biaomianji(self):\n",
    "        return self.a*self.c*2+self.b*self.c*2+self.S()*2\n",
    "    def show(self):\n",
    "        print('所有边长{}，表面积{},体积{}'.format(self._C(),self.Biaomianji(),self.V()))\n",
    "r=rectangle(3,4)\n",
    "r.show()\n",
    "c=cuboid(3,4,5)\n",
    "c.show()"
   ]
  },
  {
   "cell_type": "code",
   "execution_count": 35,
   "metadata": {},
   "outputs": [
    {
     "name": "stdout",
     "output_type": "stream",
     "text": [
      "长方形面积12,周长14\n",
      "长方体的所有边总长48,表面积94,体积60\n"
     ]
    }
   ],
   "source": [
    "class ChangFX(object):\n",
    "    def __init__(self,l,w):\n",
    "        self.__len=l\n",
    "        self.__wid=w\n",
    "    def getCir(self):\n",
    "        return 2*(self.__len+self.__wid)\n",
    "    def getArea(self):\n",
    "        return self.__len*self.__wid\n",
    "class ChangFT(ChangFX):\n",
    "    def __init__(self,l,w,h):\n",
    "        super(ChangFT,self).__init__(l,w)\n",
    "        self.__heigh=h\n",
    "        \n",
    "    def getV(self):    #求体积\n",
    "#         return self.getArea()*self.__heigh #调用父类已经求得的面积*高\n",
    "        return super(ChangFT,self).getArea()*self.__heigh  #调用父类已经求得的面积*高\n",
    "\n",
    "    def getArea(self): #求表面积\n",
    "        partArea=super(ChangFT,self).getArea()   #父类那个面的面积\n",
    "        partCir=super(ChangFT,self).getCir()     #父类那个面的周长\n",
    "        return partArea*2+partCir*self.__heigh\n",
    "    def getCir(self):      #求所有边的边长\n",
    "        partCir=super(ChangFT,self).getCir()\n",
    "        return partCir*2+self.__heigh*4\n",
    "    \n",
    "m=ChangFX(4,3)\n",
    "print('长方形面积{},周长{}'.format(m.getArea(),m.getCir()))\n",
    "v=ChangFT(4,3,5)\n",
    "print('长方体的所有边总长{},表面积{},体积{}'.format(v.getCir(),v.getArea(),v.getV()))"
   ]
  },
  {
   "cell_type": "code",
   "execution_count": 8,
   "metadata": {},
   "outputs": [
    {
     "ename": "AttributeError",
     "evalue": "type object 'class_1' has no attribute 'self'",
     "output_type": "error",
     "traceback": [
      "\u001b[1;31m---------------------------------------------------------------------------\u001b[0m",
      "\u001b[1;31mAttributeError\u001b[0m                            Traceback (most recent call last)",
      "\u001b[1;32m<ipython-input-8-d466a3b04254>\u001b[0m in \u001b[0;36m<module>\u001b[1;34m()\u001b[0m\n\u001b[0;32m      7\u001b[0m \u001b[0mc\u001b[0m\u001b[1;33m,\u001b[0m\u001b[0md\u001b[0m\u001b[1;33m=\u001b[0m\u001b[1;36m3\u001b[0m\u001b[1;33m,\u001b[0m\u001b[1;36m4\u001b[0m\u001b[1;33m\u001b[0m\u001b[0m\n\u001b[0;32m      8\u001b[0m \u001b[0mclass2\u001b[0m\u001b[1;33m=\u001b[0m\u001b[0mclass_1\u001b[0m\u001b[1;33m(\u001b[0m\u001b[0mc\u001b[0m\u001b[1;33m,\u001b[0m\u001b[0md\u001b[0m\u001b[1;33m)\u001b[0m\u001b[1;33m\u001b[0m\u001b[0m\n\u001b[1;32m----> 9\u001b[1;33m \u001b[0mprint\u001b[0m\u001b[1;33m(\u001b[0m\u001b[0mclass_1\u001b[0m\u001b[1;33m.\u001b[0m\u001b[0mself\u001b[0m\u001b[1;33m.\u001b[0m\u001b[0mADD\u001b[0m\u001b[1;33m(\u001b[0m\u001b[1;33m)\u001b[0m\u001b[1;33m)\u001b[0m\u001b[1;33m\u001b[0m\u001b[0m\n\u001b[0m\u001b[0;32m     10\u001b[0m \u001b[0mclass_1\u001b[0m\u001b[1;33m(\u001b[0m\u001b[1;36m5\u001b[0m\u001b[1;33m,\u001b[0m\u001b[1;36m6\u001b[0m\u001b[1;33m)\u001b[0m\u001b[1;33m\u001b[0m\u001b[0m\n\u001b[0;32m     11\u001b[0m \u001b[0mprint\u001b[0m\u001b[1;33m(\u001b[0m\u001b[0mclass_1\u001b[0m\u001b[1;33m.\u001b[0m\u001b[0mself\u001b[0m\u001b[1;33m.\u001b[0m\u001b[0mADD\u001b[0m\u001b[1;33m(\u001b[0m\u001b[1;33m)\u001b[0m\u001b[1;33m)\u001b[0m\u001b[1;33m\u001b[0m\u001b[0m\n",
      "\u001b[1;31mAttributeError\u001b[0m: type object 'class_1' has no attribute 'self'"
     ]
    }
   ],
   "source": [
    "class class_1():\n",
    "    def __init__(self,a,b):\n",
    "        self.a=a\n",
    "        self.b=b\n",
    "    def ADD(self):\n",
    "        return self.a+self.b\n",
    "c,d=3,4\n",
    "class2=class_1(c,d)\n",
    "print(class_1.self.ADD())\n",
    "class_1(5,6)\n",
    "print(class_1.self.ADD())"
   ]
  },
  {
   "cell_type": "code",
   "execution_count": null,
   "metadata": {},
   "outputs": [],
   "source": []
  }
 ],
 "metadata": {
  "kernelspec": {
   "display_name": "Python 3",
   "language": "python",
   "name": "python3"
  },
  "language_info": {
   "codemirror_mode": {
    "name": "ipython",
    "version": 3
   },
   "file_extension": ".py",
   "mimetype": "text/x-python",
   "name": "python",
   "nbconvert_exporter": "python",
   "pygments_lexer": "ipython3",
   "version": "3.6.5"
  }
 },
 "nbformat": 4,
 "nbformat_minor": 2
}
