{
 "cells": [
  {
   "cell_type": "code",
   "execution_count": 3,
   "metadata": {},
   "outputs": [
    {
     "name": "stdout",
     "output_type": "stream",
     "text": [
      "<class 'NoneType'>\n",
      "<class 'str'>\n",
      "<class 'int'>\n"
     ]
    }
   ],
   "source": [
    "print(type(None))\n",
    "print(type('asdasd'))\n",
    "print(type(12312))"
   ]
  },
  {
   "cell_type": "code",
   "execution_count": 5,
   "metadata": {},
   "outputs": [
    {
     "name": "stdout",
     "output_type": "stream",
     "text": [
      "<class 'NoneType'>\n",
      "<class 'function'>\n"
     ]
    }
   ],
   "source": [
    "def test():\n",
    "    pass\n",
    "a=test()\n",
    "print(type(a))\n",
    "print(type(test))"
   ]
  },
  {
   "cell_type": "code",
   "execution_count": 7,
   "metadata": {},
   "outputs": [
    {
     "name": "stdout",
     "output_type": "stream",
     "text": [
      "<class '__main__.A'> <class '__main__.B'>\n"
     ]
    }
   ],
   "source": [
    "class A:\n",
    "    pass\n",
    "class B(A):\n",
    "    pass\n",
    "a=A()\n",
    "b=B()\n",
    "print(type(a),type(b))           #type()直接得到对象的类型，不考虑继承关系"
   ]
  },
  {
   "cell_type": "code",
   "execution_count": 10,
   "metadata": {},
   "outputs": [
    {
     "name": "stdout",
     "output_type": "stream",
     "text": [
      "True\n",
      "True\n",
      "False\n",
      "True\n"
     ]
    }
   ],
   "source": [
    "class A:\n",
    "    pass\n",
    "class B(A):\n",
    "    pass\n",
    "a=A()\n",
    "b=B()\n",
    "print(isinstance(a,A))    #判断a是否是类型A的对象，第一个参数是对象名，第二个参数是类型名\n",
    "print(isinstance(b,B))\n",
    "print(isinstance(a,B))\n",
    "print(isinstance(b,A))    #判断一个对象是否是该类型本身，或者位于该类型的父继承链上"
   ]
  },
  {
   "cell_type": "code",
   "execution_count": 11,
   "metadata": {},
   "outputs": [
    {
     "name": "stdout",
     "output_type": "stream",
     "text": [
      "True\n"
     ]
    }
   ],
   "source": [
    "print(isinstance('a',str))"
   ]
  },
  {
   "cell_type": "markdown",
   "metadata": {},
   "source": [
    "## 多态"
   ]
  },
  {
   "cell_type": "code",
   "execution_count": 40,
   "metadata": {},
   "outputs": [
    {
     "name": "stdout",
     "output_type": "stream",
     "text": [
      "dog is runing\n",
      "动物在走\n",
      "人在走\n"
     ]
    }
   ],
   "source": [
    "# 多态通常用于多个子类从一个父类派生出来，程序中，不必关心每个子类的特点，\n",
    "#封装一个函数统一调用父类的方法globalRun，不同的子类对象都可以调用该函数，但表现的结果不同，体现出了多态\n",
    "class Animal:\n",
    "    def run(self):\n",
    "#         raise AttributeError('子类必须实现这个方法')\n",
    "        print('动物在走')\n",
    "class People(Animal):\n",
    "    def run(self):\n",
    "        print('人在走')\n",
    "class Pig(Animal):\n",
    "    pass\n",
    "#     def run(self):\n",
    "#         print('pig is walking')\n",
    "class Dog(Animal):\n",
    "    def run(self):\n",
    "        print('dog is runing')\n",
    "#People、Pig、Dog都是Animal的子类\n",
    "#p=People（）\n",
    "#p.run()     #通常的用法\n",
    "\n",
    "def globalRun(animal):   #如果在C++里，参数animal前面会有一个类型Animal,更好的体现出多态\n",
    "    animal.run()\n",
    "    \n",
    "dog1=Dog()\n",
    "pig1=Pig()\n",
    "people1=People()\n",
    "\n",
    "\n",
    "if (isinstance(dog1,Animal)):\n",
    "    globalRun(dog1)\n",
    "globalRun(pig1)\n",
    "globalRun(people1)"
   ]
  },
  {
   "cell_type": "markdown",
   "metadata": {},
   "source": [
    "## 抽象方法、抽象类"
   ]
  },
  {
   "cell_type": "code",
   "execution_count": 21,
   "metadata": {},
   "outputs": [
    {
     "name": "stdout",
     "output_type": "stream",
     "text": [
      "say aoao\n"
     ]
    }
   ],
   "source": [
    "# 抽象方法：在基类里，只有声明，没有实现，要求必须在子类实现的方法\n",
    "# 抽象类：含有抽象方法的类，抽象类不能构造出对象\n",
    "# 抽象类只能做基类\n",
    "import abc     #借助abc模块实现抽象方法和抽象类\n",
    "class Animal(metaclass=abc.ABCMeta): #同一类事物：动物，抽象方刚发在基类里面写metaclass=abc.ABCMeta\n",
    "    @abc.abstractmethod   #修饰抽象方法\n",
    "    def talk(self):       #抽象方法，在子类中必须重新覆写该方法\n",
    "        pass\n",
    "class People(Animal):     #动物的形态之一：人\n",
    "    def talk(self):\n",
    "        print('say hello')\n",
    "class Dog(Animal):     #动物的形态之二：狗\n",
    "    def talk(self):\n",
    "        print('say wangwang')\n",
    "class Pig(Animal):     #动物的形态之三：猪\n",
    "    def talk(self):\n",
    "        print('say aoao')\n",
    "\n",
    "p=Pig()\n",
    "p.talk()"
   ]
  },
  {
   "cell_type": "code",
   "execution_count": 34,
   "metadata": {},
   "outputs": [
    {
     "name": "stdout",
     "output_type": "stream",
     "text": [
      "周长14,面积12\n",
      "周长6.28,面积3.14\n"
     ]
    }
   ],
   "source": [
    "# 练习：基类为抽象类，表示形状Shape()，有两个抽象方法:求周长、求面积\n",
    "# 派生出两个子类：长方形Square，和圆Circle\n",
    "# 实现这三个类，并计算长方形、圆的周长、面积\n",
    "import abc\n",
    "class Shape(metaclass=abc.ABCMeta):\n",
    "    @abc.abstractmethod\n",
    "    def C(self):\n",
    "        pass\n",
    "    @abc.abstractmethod\n",
    "    def S(self):\n",
    "        pass\n",
    "    def Print(self):\n",
    "        print('周长{},面积{}'.format(self.C(),self.S()))\n",
    "class Circle(Shape):\n",
    "    def __init__(self,r):\n",
    "        self.__r=r\n",
    "    def C(self):\n",
    "        return 2*3.14*self.__r    \n",
    "    def S(self):\n",
    "        return 3.14*self.__r**2\n",
    "class Square(Shape):\n",
    "    def __init__(self,c,k):\n",
    "        self.__c=c\n",
    "        self.__k=k\n",
    "    def C(self):\n",
    "        return (self.__c+self.__k)*2\n",
    "    def S(self):\n",
    "        return self.__c*self.__k\n",
    "def C_1(shape):\n",
    "    shape.Print()\n",
    "    \n",
    "    \n",
    "s1=Square(3,4)\n",
    "C_1(s1)\n",
    "\n",
    "\n",
    "c1=Circle(1)\n",
    "C_1(c1)\n",
    "\n",
    "    "
   ]
  },
  {
   "cell_type": "code",
   "execution_count": 39,
   "metadata": {},
   "outputs": [
    {
     "name": "stdout",
     "output_type": "stream",
     "text": [
      "周长14,面积12\n",
      "周长18.84,面积28.26\n"
     ]
    }
   ],
   "source": [
    "import abc\n",
    "class Shape(metaclass=abc.ABCMeta):           #抽象类，Shape \n",
    "    @abc.abstractmethod\n",
    "    def CalcZC(self):\n",
    "        pass\n",
    "    @abc.abstractmethod\n",
    "    def CalcArea(self):\n",
    "        pass\n",
    "    def Print(self):\n",
    "        print('周长{},面积{}'.format(self.CalcZC(),self.CalcArea()))\n",
    "class Square(Shape):                #长方形类，从Shape继承而来\n",
    "    def __init__(self,a,b):\n",
    "        self.__length=a\n",
    "        self.__width=b\n",
    "    def CalcZC(self):\n",
    "        return 2*(self.__length+self.__width)\n",
    "    def CalcArea(self):\n",
    "        return self.__length*self.__width\n",
    "class Circle(Shape):\n",
    "    def __init__(self,r):\n",
    "        self.__r=r\n",
    "    def CalcZC(self):\n",
    "        return 2*3.14*self.__r\n",
    "    def CalcArea(self):\n",
    "        return 3.14*self.__r**2\n",
    "changfang=Square(3,4)\n",
    "yuan =Circle(3)\n",
    "changfang.Print()\n",
    "yuan.Print()\n",
    "\n"
   ]
  },
  {
   "cell_type": "markdown",
   "metadata": {},
   "source": [
    "## 其他"
   ]
  },
  {
   "cell_type": "code",
   "execution_count": 45,
   "metadata": {},
   "outputs": [
    {
     "data": {
      "text/plain": [
       "['_Square__length',\n",
       " '_Square__width',\n",
       " '__module__',\n",
       " '__init__',\n",
       " 'CalcZC',\n",
       " 'CalcArea',\n",
       " '__doc__',\n",
       " '__abstractmethods__',\n",
       " '_abc_registry',\n",
       " '_abc_cache',\n",
       " '_abc_negative_cache',\n",
       " '_abc_negative_cache_version',\n",
       " 'Print',\n",
       " '__dict__',\n",
       " '__weakref__',\n",
       " '__repr__',\n",
       " '__hash__',\n",
       " '__str__',\n",
       " '__getattribute__',\n",
       " '__setattr__',\n",
       " '__delattr__',\n",
       " '__lt__',\n",
       " '__le__',\n",
       " '__eq__',\n",
       " '__ne__',\n",
       " '__gt__',\n",
       " '__ge__',\n",
       " '__new__',\n",
       " '__reduce_ex__',\n",
       " '__reduce__',\n",
       " '__subclasshook__',\n",
       " '__init_subclass__',\n",
       " '__format__',\n",
       " '__sizeof__',\n",
       " '__dir__',\n",
       " '__class__']"
      ]
     },
     "execution_count": 45,
     "metadata": {},
     "output_type": "execute_result"
    }
   ],
   "source": [
    "# dir(Square)\n",
    "changfang.__dir__()"
   ]
  },
  {
   "cell_type": "code",
   "execution_count": 48,
   "metadata": {},
   "outputs": [
    {
     "name": "stdout",
     "output_type": "stream",
     "text": [
      "100\n",
      "100\n"
     ]
    }
   ],
   "source": [
    "class MyDog(object):\n",
    "    def __len__(self):           #自己新增的方法，样子和系统特殊功能相同，用法也相同\n",
    "        return 100\n",
    "dog=MyDog()\n",
    "print(len(dog))\n",
    "print(dog.__len__())"
   ]
  },
  {
   "cell_type": "code",
   "execution_count": 60,
   "metadata": {},
   "outputs": [
    {
     "name": "stdout",
     "output_type": "stream",
     "text": [
      "True\n",
      "False\n",
      "False\n",
      "False\n",
      "19\n",
      "19\n",
      "404\n"
     ]
    }
   ],
   "source": [
    "class MyObject(object):\n",
    "    def __init__(self):\n",
    "        self.x=9\n",
    "    def power(self):\n",
    "        return self.x*self.x\n",
    "\n",
    "    \n",
    "    \n",
    "obj=MyObject()\n",
    "obj1=MyObject()\n",
    "\n",
    "print(hasattr(obj,'x'))   #对象obj中是否有属性x\n",
    "print(hasattr(obj,'y'))   #对象obj中是否有属性y\n",
    "obj.y=19                  #给对象新增一个属性y\n",
    "del obj.y                 #删除属性obj.y\n",
    "print(hasattr(obj,'y'))   #对象obj中是否有属性y\n",
    "print(hasattr(obj1,'y'))   #对象obj1中是否有属性y\n",
    "\n",
    "\n",
    "setattr(obj,'y',19)#通过setattr方法给对象obj新设置属性y，值为19\n",
    "print(obj.y)\n",
    "\n",
    "print(getattr(obj,'y'))   #获取属性y的值\n",
    "# print(getattr(obj,'z'))   #获取不存在的属性z时，抛异常\n",
    "print(getattr(obj,'z',404))  #若属性z不存在，返回404"
   ]
  },
  {
   "cell_type": "code",
   "execution_count": 65,
   "metadata": {},
   "outputs": [
    {
     "name": "stdout",
     "output_type": "stream",
     "text": [
      "Bob\n",
      "Python\n"
     ]
    }
   ],
   "source": [
    "class Student():\n",
    "    name='Python'\n",
    "    def __init__(self,name):\n",
    "        self.name=name\n",
    "#         pass\n",
    "s=Student('Bob')\n",
    "print(s.name)     #对象属性没有name时，s.name找到的是类属性\n",
    "                  #对象属性有name时，s.name找到的是对象属性，即对象属性优先级比类属性高\n",
    "print(Student.name) #对象属性和类属性同名时，二者可以同时存在"
   ]
  },
  {
   "cell_type": "code",
   "execution_count": null,
   "metadata": {},
   "outputs": [],
   "source": []
  }
 ],
 "metadata": {
  "kernelspec": {
   "display_name": "Python 3",
   "language": "python",
   "name": "python3"
  },
  "language_info": {
   "codemirror_mode": {
    "name": "ipython",
    "version": 3
   },
   "file_extension": ".py",
   "mimetype": "text/x-python",
   "name": "python",
   "nbconvert_exporter": "python",
   "pygments_lexer": "ipython3",
   "version": "3.6.5"
  }
 },
 "nbformat": 4,
 "nbformat_minor": 2
}
