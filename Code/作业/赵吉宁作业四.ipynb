{
 "cells": [
  {
   "cell_type": "code",
   "execution_count": 22,
   "metadata": {},
   "outputs": [],
   "source": [
    "#将一个文件中#后面的内容都去掉，保存到另外一个文件中\n",
    "f=open(r'C:\\Users\\Administrator\\Desktop\\作业.txt','r+')\n",
    "while True:\n",
    "    line=f.readline()\n",
    "    a=line.find('#')\n",
    "    b=line.find('\\n')\n",
    "    line_1=line[a:b].lstrip()\n",
    "    line_2=line.replace(line_1,'').lstrip()\n",
    "    if line_2=='\\n':\n",
    "        line_2=line_2.replace(line_2,'')\n",
    "    f1=open(r'C:\\Users\\Administrator\\Desktop\\作业1.txt','a+')\n",
    "    f1.write(line_2)\n",
    "    f1.close()\n",
    "    if line=='':\n",
    "        break\n",
    "f.close()"
   ]
  },
  {
   "cell_type": "code",
   "execution_count": null,
   "metadata": {},
   "outputs": [],
   "source": []
  }
 ],
 "metadata": {
  "kernelspec": {
   "display_name": "Python 3",
   "language": "python",
   "name": "python3"
  },
  "language_info": {
   "codemirror_mode": {
    "name": "ipython",
    "version": 3
   },
   "file_extension": ".py",
   "mimetype": "text/x-python",
   "name": "python",
   "nbconvert_exporter": "python",
   "pygments_lexer": "ipython3",
   "version": "3.6.5"
  }
 },
 "nbformat": 4,
 "nbformat_minor": 2
}
