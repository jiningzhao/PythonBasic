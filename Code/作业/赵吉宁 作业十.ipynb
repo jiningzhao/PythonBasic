{
 "cells": [
  {
   "cell_type": "code",
   "execution_count": 16,
   "metadata": {},
   "outputs": [
    {
     "name": "stdout",
     "output_type": "stream",
     "text": [
      "[[ 1  2  3  4]\n",
      " [ 5  6  7  8]\n",
      " [ 9 10 11 12]]\n",
      "[[ 1  2  3  4]\n",
      " [ 9 10 11 12]\n",
      " [ 5  6  7  8]]\n",
      "[[ 0  1  2  3]\n",
      " [ 4  5  6  7]\n",
      " [ 8  9 10 11]]\n",
      "[[ 0  1  2  3]\n",
      " [ 8  9 10 11]\n",
      " [ 4  5  6  7]]\n"
     ]
    }
   ],
   "source": [
    "# 1.交换一个3*4的数组的后两行\n",
    "import numpy as np\n",
    "arr1=np.array([[1,2,3,4],[5,6,7,8],[9,10,11,12]])\n",
    "print(arr1)\n",
    "arr=np.array([[1,1,1,1]])\n",
    "arr[0]=arr1[2]\n",
    "arr1[2]=arr1[1]\n",
    "arr1[1]=arr[0]\n",
    "print(arr1)\n",
    "\n",
    "import numpy as np\n",
    "a1=np.arange(0,12).reshape(3,4)\n",
    "print(a1)\n",
    "a1[[1,2],:]=a1[[2,1],:]\n",
    "print(a1)"
   ]
  },
  {
   "cell_type": "code",
   "execution_count": 20,
   "metadata": {},
   "outputs": [
    {
     "name": "stdout",
     "output_type": "stream",
     "text": [
      "[[ 1  2  3  4]\n",
      " [ 5  6  7  8]\n",
      " [ 9 10 11 12]]\n",
      "[[  0   0  90   0]\n",
      " [  1   1  95   1]\n",
      " [  2   2 100   2]]\n",
      "[[  1   2  90   4]\n",
      " [  5   6  95   8]\n",
      " [  9  10 100  12]]\n",
      "[[ 0  0  3  0]\n",
      " [ 1  1  7  1]\n",
      " [ 2  2 11  2]]\n"
     ]
    }
   ],
   "source": [
    "# 2.交换两个3*4的数组的第[3]列\n",
    "import numpy as np\n",
    "arr1=np.array([[1,2,3,4],[5,6,7,8],[9,10,11,12]])\n",
    "arr2=np.array([[0,0,90,0],[1,1,95,1],[2,2,100,2]])\n",
    "print(arr1)\n",
    "print(arr2)\n",
    "arr=np.array([[1],[1],[1]])\n",
    "arr[:,0]=arr1[:,2]\n",
    "arr1[:,2]=arr2[:,2]\n",
    "arr2[:,2]=arr[:,0]\n",
    "print(arr1)\n",
    "print(arr2)"
   ]
  },
  {
   "cell_type": "code",
   "execution_count": 38,
   "metadata": {},
   "outputs": [
    {
     "name": "stdout",
     "output_type": "stream",
     "text": [
      "[[  1   0   0   0   0   0   0   0   0   0]\n",
      " [  1   1   0   0   0   0   0   0   0   0]\n",
      " [  1   2   1   0   0   0   0   0   0   0]\n",
      " [  1   3   3   1   0   0   0   0   0   0]\n",
      " [  1   4   6   4   1   0   0   0   0   0]\n",
      " [  1   5  10  10   5   1   0   0   0   0]\n",
      " [  1   6  15  20  15   6   1   0   0   0]\n",
      " [  1   7  21  35  35  21   7   1   0   0]\n",
      " [  1   8  28  56  70  56  28   8   1   0]\n",
      " [  1   9  36  84 126 126  84  36   9   1]]\n"
     ]
    }
   ],
   "source": [
    "# 3.打印杨辉三角的前10行\n",
    "# 1\n",
    "# 1  1\n",
    "# 1  2  1\n",
    "# 1  3  3  1\n",
    "# 1  4  6  4  1\n",
    "# 1  5  10 10 5 1\n",
    "arr3=np.eye(10,dtype=np.int32)\n",
    "arr3[:,0]=1\n",
    "for i in range(1,10):\n",
    "    for j in range(1,i):\n",
    "            arr3[i][j]=arr3[i-1][j-1]+arr3[i-1][j]\n",
    "print(arr3)\n"
   ]
  },
  {
   "cell_type": "code",
   "execution_count": null,
   "metadata": {},
   "outputs": [],
   "source": []
  }
 ],
 "metadata": {
  "kernelspec": {
   "display_name": "Python 3",
   "language": "python",
   "name": "python3"
  },
  "language_info": {
   "codemirror_mode": {
    "name": "ipython",
    "version": 3
   },
   "file_extension": ".py",
   "mimetype": "text/x-python",
   "name": "python",
   "nbconvert_exporter": "python",
   "pygments_lexer": "ipython3",
   "version": "3.6.5"
  }
 },
 "nbformat": 4,
 "nbformat_minor": 2
}
