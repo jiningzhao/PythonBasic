{
 "cells": [
  {
   "cell_type": "markdown",
   "metadata": {},
   "source": [
    "## while循环"
   ]
  },
  {
   "cell_type": "code",
   "execution_count": 7,
   "metadata": {},
   "outputs": [
    {
     "name": "stdout",
     "output_type": "stream",
     "text": [
      "1\n",
      "2\n",
      "3\n",
      "4\n",
      "5\n",
      "6 大于5\n"
     ]
    }
   ],
   "source": [
    "# 1. 普通的while循环\n",
    "# 打印数字1~5\n",
    "num = 1\n",
    "while num <= 5 :\n",
    "    print(num)\n",
    "    num += 1\n",
    "### 下面是从循环退出后执行的代码 \n",
    "print(num,\"大于5\")"
   ]
  },
  {
   "cell_type": "code",
   "execution_count": 4,
   "metadata": {},
   "outputs": [
    {
     "name": "stdout",
     "output_type": "stream",
     "text": [
      "输入任意信息，若输入“E”退出a\n",
      "输入任意信息，若输入“E”退出b\n",
      "输入任意信息，若输入“E”退出e\n"
     ]
    }
   ],
   "source": [
    "# 2.无限循环、死循环：一直在循环里不退出\n",
    "while True:     # 条件一直为True，无限循环\n",
    "    a = input('输入任意信息，若输入“E”退出')\n",
    "    if a == 'E' or a == 'e':\n",
    "        break      # 退出当前循环"
   ]
  },
  {
   "cell_type": "code",
   "execution_count": 8,
   "metadata": {},
   "outputs": [
    {
     "name": "stdout",
     "output_type": "stream",
     "text": [
      "1 小于或等于5\n",
      "2 小于或等于5\n"
     ]
    }
   ],
   "source": [
    "# 3. while...else...，当循环条件为false时执行else代码段\n",
    "num = 1\n",
    "while num <= 5 :\n",
    "    print(num,\"小于或等于5\")\n",
    "    num += 1\n",
    "    if num == 3:\n",
    "        break   # 退出当前循环\n",
    "else:\n",
    "    print(num,\"大于5\")\n"
   ]
  },
  {
   "cell_type": "code",
   "execution_count": 9,
   "metadata": {},
   "outputs": [
    {
     "name": "stdout",
     "output_type": "stream",
     "text": [
      "前10个数的和是55\n"
     ]
    }
   ],
   "source": [
    "# 例：计算1~10的和，1+2+3……+10\n",
    "\n",
    "# x + i  # x：前几个数的和，i是下一个数\n",
    "# 1. 找规律，提取模型   x = x + i\n",
    "# 2. 找到规律变化的量，即循环变量   i,每次+1\n",
    "# 3. 明确循环变量的范围   i的范围1~10\n",
    "\n",
    "x = 0\n",
    "i = 1\n",
    "while i<=10:\n",
    "    x += i    # x=x+i\n",
    "    i += 1\n",
    "print(\"前10个数的和是%d\"%x)"
   ]
  },
  {
   "cell_type": "code",
   "execution_count": 15,
   "metadata": {},
   "outputs": [
    {
     "name": "stdout",
     "output_type": "stream",
     "text": [
      "1-2+3-4+5-6+7-8……+99-100的结果是 -50\n",
      "-50\n",
      "-50\n"
     ]
    }
   ],
   "source": [
    "# 练习：计算1-2+3-4+5-6+7-8……+99-100的结果\n",
    "\n",
    "a = 0 # a表示奇数的和\n",
    "i = 1 # i是奇数，每次加2\n",
    "while i<=99:\n",
    "    a = a + i\n",
    "    i +=2\n",
    "\n",
    "b = 0  # b表示负偶数的和\n",
    "j = -2 # j是负偶数，每次减2\n",
    "while j >= -100:\n",
    "    b = b + j\n",
    "    j -= 2\n",
    "\n",
    "print(\"1-2+3-4+5-6+7-8……+99-100的结果是\",a+b)\n",
    "\n",
    "###################################################\n",
    "sum = 0\n",
    "i = 1\n",
    "while i <= 99:\n",
    "    sum = sum + i - (i+1)\n",
    "    i +=2\n",
    "print(sum)\n",
    "\n",
    "#######################################################\n",
    "sum = 0\n",
    "i = 1\n",
    "while i <= 100:\n",
    "    if i%2 == 1:    # i为奇数\n",
    "        sum += i\n",
    "    else:          # i为偶数\n",
    "        sum -= i\n",
    "    i += 1\n",
    "print(sum)\n"
   ]
  },
  {
   "cell_type": "code",
   "execution_count": 16,
   "metadata": {},
   "outputs": [],
   "source": [
    "# 求10的阶乘，即10！=10*9*8*7*……*1"
   ]
  },
  {
   "cell_type": "code",
   "execution_count": 19,
   "metadata": {},
   "outputs": [
    {
     "name": "stdout",
     "output_type": "stream",
     "text": [
      "第10次落地后，共经过了299.609375，第10次反弹高度是0.09765625\n"
     ]
    }
   ],
   "source": [
    "# 练习：一个球从100米高度自由落下，每次落地后反跳回院高度的一半；再落下……\n",
    "# 问第10次落地后，共经过了多少米，第10次反弹高度是多高？\n",
    "sum = 100\n",
    "h = 50   # 反弹高度\n",
    "count = 2\n",
    "while count <= 10:\n",
    "    sum += h*2\n",
    "    h = h/2\n",
    "    count += 1\n",
    "print('第10次落地后，共经过了{}，第10次反弹高度是{}'.format(sum,h))"
   ]
  },
  {
   "cell_type": "code",
   "execution_count": 2,
   "metadata": {},
   "outputs": [
    {
     "name": "stdout",
     "output_type": "stream",
     "text": [
      "153 370 371 407 "
     ]
    }
   ],
   "source": [
    "# 找到100~999以内所有的水仙花数，水仙花数的条件：各位数立方和等于该数本身\n",
    "i = 100  # 遍历i，找到满足条件的数\n",
    "while i < 1000:\n",
    "    bai = i//100        # 百位\n",
    "    shi = i%100//10     # 十位\n",
    "    ge  = i%10          # 个位\n",
    "\n",
    "    if bai**3 + shi**3 + ge**3 == i:\n",
    "        print(i, end = ' ')\n",
    "    \n",
    "    i+=1"
   ]
  },
  {
   "cell_type": "code",
   "execution_count": 7,
   "metadata": {},
   "outputs": [
    {
     "name": "stdout",
     "output_type": "stream",
     "text": [
      "请输入用户名：user1\n",
      "请输入密码：123456\n",
      "登录成功\n"
     ]
    }
   ],
   "source": [
    "#　登录输入密码问题：若用户名和密码输入正确，登录成功；若连续三次输入错误，登录失败\n",
    "\n",
    "username = 'user1'      # 系统里保存的用户名密码\n",
    "password = '123456'\n",
    "count = 0               # 输入错误的次数\n",
    "\n",
    "while count < 3 :       # 输入错误的次数不能超过3次\n",
    "    input_name = input('请输入用户名：')   # 请用户输入用户名和密码\n",
    "    input_pswd = input('请输入密码：')\n",
    "    if input_name == username and input_pswd == password:\n",
    "        print('登录成功')\n",
    "        break    # 登录成功，可以退出循环\n",
    "    else:\n",
    "        print('用户名或密码错误')\n",
    "        count += 1\n",
    "else:\n",
    "    print('登录失败')"
   ]
  },
  {
   "cell_type": "code",
   "execution_count": null,
   "metadata": {},
   "outputs": [],
   "source": [
    "# 1、完成一些常见的数据类型转换:\n",
    "#   数字->字符串\n",
    "#   整数数字字符串->int整数\n",
    "#   整数->浮点数\n",
    "#   浮点数->转整数"
   ]
  },
  {
   "cell_type": "code",
   "execution_count": 8,
   "metadata": {},
   "outputs": [],
   "source": [
    "# 2、利用format打印下面的句子，其中16，“abc”，3.14通过format占位实现\n",
    "# 这是一个数字16，一个字符串“abc”，一个浮点数3.14"
   ]
  },
  {
   "cell_type": "code",
   "execution_count": 9,
   "metadata": {},
   "outputs": [],
   "source": [
    "# 3、 str1 = 'hello'\n",
    "#     str2 = 'python'\n",
    "#     将上述两个字符串变量进行连接，输出‘hello python’(注意中间有空格)"
   ]
  },
  {
   "cell_type": "code",
   "execution_count": 10,
   "metadata": {},
   "outputs": [],
   "source": [
    "# 4、字符串大小写转换\n",
    "#     str1 = 'hello python!'\n",
    "#     使用Python字符串内置函数将上述字符串str1转换为大写结果‘HELLO PYTHON!’并输出。\n",
    "#     str2 = 'HELLO PTYHON!'\n",
    "#     使用Python字符串内置函数将上述字符串str2转换为小写结果‘hello python!’并输出。"
   ]
  },
  {
   "cell_type": "code",
   "execution_count": 11,
   "metadata": {},
   "outputs": [],
   "source": [
    "# 5、计算1~100所有3的倍数的和"
   ]
  },
  {
   "cell_type": "code",
   "execution_count": 12,
   "metadata": {},
   "outputs": [],
   "source": [
    "# 6、找出1~100中所有7的倍数（两种思路:遍历，7,7*2,7*3,7*4）"
   ]
  },
  {
   "cell_type": "code",
   "execution_count": null,
   "metadata": {},
   "outputs": [],
   "source": [
    "# 7、计算用户输入的所有数字的和，当用户输入字母E时，停止输入，并打印计算的结果"
   ]
  }
 ],
 "metadata": {
  "kernelspec": {
   "display_name": "Python 3",
   "language": "python",
   "name": "python3"
  },
  "language_info": {
   "codemirror_mode": {
    "name": "ipython",
    "version": 3
   },
   "file_extension": ".py",
   "mimetype": "text/x-python",
   "name": "python",
   "nbconvert_exporter": "python",
   "pygments_lexer": "ipython3",
   "version": "3.6.5"
  }
 },
 "nbformat": 4,
 "nbformat_minor": 2
}
