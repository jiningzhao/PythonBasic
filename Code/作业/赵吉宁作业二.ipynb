{
 "cells": [
  {
   "cell_type": "code",
   "execution_count": 1,
   "metadata": {},
   "outputs": [
    {
     "name": "stdout",
     "output_type": "stream",
     "text": [
      "50 <class 'str'>\n",
      "20000 <class 'int'>\n",
      "20.0 <class 'float'>\n",
      "10 <class 'int'>\n"
     ]
    }
   ],
   "source": [
    "#1.完成一些常见的数据类型转换：\n",
    "#数字->字符串\n",
    "# 整数数字字符串-->int整数\n",
    "# 整数-->浮点数\n",
    "# 浮点数-->转整数\n",
    "a=50\n",
    "b=str(a)\n",
    "print(b,type(b))\n",
    "##############\n",
    "a='20000'\n",
    "b=int(a,base=10)\n",
    "print(b,type(b))\n",
    "##############\n",
    "a=20\n",
    "b=float(a)\n",
    "print(b,type(b))\n",
    "##############\n",
    "a=10.0\n",
    "b=int(a)\n",
    "print(b,type(b))"
   ]
  },
  {
   "cell_type": "code",
   "execution_count": 2,
   "metadata": {},
   "outputs": [
    {
     "name": "stdout",
     "output_type": "stream",
     "text": [
      "这是一个数字16，一个字符串\"abc\"，一个浮点数3.14\n"
     ]
    }
   ],
   "source": [
    "# 2.利用format打印下面的句子，其中16，“abc”，3.14通过format站为实现\n",
    "# 这是一个数字16，一个字符串“abc”，一个浮点数3.14\n",
    "a=16\n",
    "b='\"abc\"'\n",
    "c=3.14\n",
    "print('这是一个数字{0}，一个字符串{1}，一个浮点数{2}'.format(a,b,c))"
   ]
  },
  {
   "cell_type": "code",
   "execution_count": 1,
   "metadata": {},
   "outputs": [
    {
     "name": "stdout",
     "output_type": "stream",
     "text": [
      "Hello phthon\n"
     ]
    }
   ],
   "source": [
    "# 3、 str1 = 'hello'\n",
    "#     str2 = 'python'\n",
    "#     将上述两个字符串变量进行连接，输出‘hello python’(注意中间有空格)\n",
    "str1='Hello'\n",
    "str2='phthon'\n",
    "str3=str1+' '+str2\n",
    "print(str3)"
   ]
  },
  {
   "cell_type": "code",
   "execution_count": 4,
   "metadata": {},
   "outputs": [
    {
     "name": "stdout",
     "output_type": "stream",
     "text": [
      "HELLO PYTHON!\n",
      "hello python!\n"
     ]
    }
   ],
   "source": [
    "# 4、字符串大小写转换\n",
    "#     str1 = 'hello python!'\n",
    "#     使用Python字符串内置函数将上述字符串str1转换为大写结果‘HELLO PYTHON!’并输出。\n",
    "#     str2 = 'HELLO PTYHON!'\n",
    "#     使用Python字符串内置函数将上述字符串str2转换为小写结果‘hello python!\n",
    "str1='hello python!'\n",
    "str=str1.upper()\n",
    "print(str)\n",
    "str2='HELLO PYTHON!'\n",
    "str=str2.lower()\n",
    "print(str)\n"
   ]
  },
  {
   "cell_type": "code",
   "execution_count": 2,
   "metadata": {},
   "outputs": [
    {
     "name": "stdout",
     "output_type": "stream",
     "text": [
      "1~100所有3的倍数的和为： 1683\n"
     ]
    }
   ],
   "source": [
    "# 5、计算1~100所有3的倍数的和\n",
    "a=1\n",
    "sum=0\n",
    "while a<=100:\n",
    "    if a%3==0:\n",
    "        sum+=a\n",
    "    else:\n",
    "        pass\n",
    "    a+=1\n",
    "print('1~100所有3的倍数的和为：',sum)\n"
   ]
  },
  {
   "cell_type": "code",
   "execution_count": 3,
   "metadata": {},
   "outputs": [
    {
     "name": "stdout",
     "output_type": "stream",
     "text": [
      "7、14、21、28、35、42、49、56、63、70、77、84、91、98、"
     ]
    }
   ],
   "source": [
    "# 6、找出1~100中所有7的倍数（两种思路:遍历，7,7*2,7*3,7*4）\n",
    "a=1\n",
    "while a<=100:\n",
    "    if a%7==0:\n",
    "        print(a,end='、')\n",
    "    else:\n",
    "        pass\n",
    "    a+=1"
   ]
  },
  {
   "cell_type": "code",
   "execution_count": 5,
   "metadata": {},
   "outputs": [
    {
     "name": "stdout",
     "output_type": "stream",
     "text": [
      "请输入数字：5\n",
      "请输入数字：4\n",
      "请输入数字：8\n",
      "请输入数字：5\n",
      "请输入数字：6\n",
      "请输入数字：e\n",
      "28\n"
     ]
    }
   ],
   "source": [
    "# 7、计算用户输入的所有数字的和，当用户输入字母E时，停止输入，并打印输入数字的和。\n",
    "sum=0\n",
    "while True:\n",
    "    b=input('请输入数字：')\n",
    "    c=b.upper()\n",
    "    if c=='E':\n",
    "        print(sum)\n",
    "        break\n",
    "    else:\n",
    "        c=int(b)\n",
    "        sum+=c\n",
    "    \n"
   ]
  },
  {
   "cell_type": "code",
   "execution_count": null,
   "metadata": {},
   "outputs": [],
   "source": []
  }
 ],
 "metadata": {
  "kernelspec": {
   "display_name": "Python 3",
   "language": "python",
   "name": "python3"
  },
  "language_info": {
   "codemirror_mode": {
    "name": "ipython",
    "version": 3
   },
   "file_extension": ".py",
   "mimetype": "text/x-python",
   "name": "python",
   "nbconvert_exporter": "python",
   "pygments_lexer": "ipython3",
   "version": "3.6.5"
  }
 },
 "nbformat": 4,
 "nbformat_minor": 2
}
