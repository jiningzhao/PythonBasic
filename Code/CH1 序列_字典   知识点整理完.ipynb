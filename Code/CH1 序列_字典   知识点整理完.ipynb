{
 "cells": [
  {
   "cell_type": "markdown",
   "metadata": {},
   "source": [
    "## 创建删除字典"
   ]
  },
  {
   "cell_type": "code",
   "execution_count": 3,
   "metadata": {},
   "outputs": [
    {
     "name": "stdout",
     "output_type": "stream",
     "text": [
      "{'Bob': 88, 'Alice': 92, 'Jane': 70}\n"
     ]
    }
   ],
   "source": [
    "d={'Bob':88,'Alice':90,'Jack':79}       # 字典的键不能重复、必须是不可变的如数字、字符串、元组等\n",
    "\n",
    "# 利用dict()函数\n",
    "name=['Bob','Alice','Jack']\n",
    "score=60\n",
    "d=dict.fromkeys(name,score)              #键取自name，所有值都是score\n",
    "\n",
    "score=[70,80,90]\n",
    "d=dict(zip(name,score))                  # 利用zip将两个序列结合到一起创建字典\n",
    "\n",
    "d=dict(Bob=88,Alice=92,Jane=70)          # 这种方式创建字典，不需要加''\n",
    "\n",
    "print(d)\n",
    "\n",
    "# 删除字典\n",
    "# del d"
   ]
  },
  {
   "cell_type": "code",
   "execution_count": 2,
   "metadata": {},
   "outputs": [
    {
     "name": "stdout",
     "output_type": "stream",
     "text": [
      "{'小于66的数': [11, 22, 33, 44, 55], '大于等于66的数': [66, 77, 88, 99]}\n"
     ]
    }
   ],
   "source": [
    "a=[11,22,33,44,55,66,77,88,99]\n",
    "d={'小于66的数':[11,22,33,44,55],'大于等于66的数':[66,77,88,99]}\n",
    "print(d)"
   ]
  },
  {
   "cell_type": "markdown",
   "metadata": {},
   "source": [
    "## 向字典中添加项"
   ]
  },
  {
   "cell_type": "code",
   "execution_count": 5,
   "metadata": {},
   "outputs": [
    {
     "name": "stdout",
     "output_type": "stream",
     "text": [
      "{'Bob': 88, 'Alice': 90, 'Jack': 79, 'Cindy': 95}\n",
      "{'Bob': 88, 'Alice': 90, 'Jack': 79, 'Cindy': 95, 'Mike': 75}\n"
     ]
    }
   ],
   "source": [
    "d={'Bob':88,'Alice':90,'Jack':79}\n",
    "d['Cindy']=95                          # 为字典不存在的项赋值，直接添加新项\n",
    "print(d)\n",
    "\n",
    "# setdefault\n",
    "d.setdefault('Mike',75)               # 若键不存在，向字典中添加一项\n",
    "print(d)"
   ]
  },
  {
   "cell_type": "markdown",
   "metadata": {},
   "source": [
    "## 删除字典中的项"
   ]
  },
  {
   "cell_type": "code",
   "execution_count": 6,
   "metadata": {},
   "outputs": [
    {
     "name": "stdout",
     "output_type": "stream",
     "text": [
      "79 {'Bob': 88, 'Alice': 90, 'Cindy': 95, 'Mike': 75}\n",
      "{'Bob': 88, 'Cindy': 95, 'Mike': 75}\n",
      "{'Bob': 88, 'Cindy': 95}\n"
     ]
    }
   ],
   "source": [
    "d={'Bob': 88, 'Alice': 90, 'Jack': 79, 'Cindy': 95, 'Mike': 75}\n",
    "\n",
    "# pop()\n",
    "e=d.pop('Jack')           # 返回被删除项的值\n",
    "print(e,d)\n",
    "\n",
    "# del 指定项\n",
    "del d['Alice']\n",
    "print(d)\n",
    "\n",
    "# popitem()        # 随机删除一项\n",
    "d.popitem()\n",
    "print(d)"
   ]
  },
  {
   "cell_type": "markdown",
   "metadata": {},
   "source": [
    "## 字典的修改和访问"
   ]
  },
  {
   "cell_type": "code",
   "execution_count": 11,
   "metadata": {},
   "outputs": [
    {
     "name": "stdout",
     "output_type": "stream",
     "text": [
      "{'Bob': 95, 'Alice': 90, 'Jack': 79}\n",
      "95\n",
      "95\n"
     ]
    }
   ],
   "source": [
    "#修改1，同添加\n",
    "d={'Bob':88,'Alice':90,'Jack':79}\n",
    "d['Bob']=95                          # 为字典不存在的项赋值，直接添加新项\n",
    "print(d)\n",
    "\n",
    "# 访问\n",
    "print(d.get('Bob'))              \n",
    "print(d['Bob'])"
   ]
  },
  {
   "cell_type": "markdown",
   "metadata": {},
   "source": [
    "## 其他常用函数"
   ]
  },
  {
   "cell_type": "code",
   "execution_count": 3,
   "metadata": {},
   "outputs": [
    {
     "name": "stdout",
     "output_type": "stream",
     "text": [
      "dict_items([('Bob', 88), ('Alice', 90), ('Jack', 79)])\n",
      "dict_keys(['Bob', 'Alice', 'Jack'])\n",
      "dict_values([88, 90, 79])\n",
      "{'Bob': 88, 'Alice': 70, 'Jack': 80}\n"
     ]
    }
   ],
   "source": [
    "d={'Bob':88,'Alice':90,'Jack':79}\n",
    "print(d.items())      # 返回所有项构成的列表\n",
    "\n",
    "print(d.keys())       # 返回所有键构成的列表\n",
    "print(d.values())     # 返回所有值构成的列表\n",
    "\n",
    "x={'Alice':70,'Jack':80}\n",
    "d.update(x)           # 用字典x的项更新字典d里的项，不存在则新增 \n",
    "print(d)"
   ]
  },
  {
   "cell_type": "code",
   "execution_count": 4,
   "metadata": {},
   "outputs": [
    {
     "name": "stdout",
     "output_type": "stream",
     "text": [
      "dict_items([('Bob', 88), ('Alice', 90), ('Jack', 79)])\n",
      "{88: 'Bob', 90: 'Alice', 79: 'Jack'}\n",
      "{88: 'Bob', 90: 'Alice', 79: 'com', 'tom': 100, 'cat': 30}\n"
     ]
    }
   ],
   "source": [
    "d={'Bob':88,'Alice':90,'Jack':79}\n",
    "f={}\n",
    "print(d.items())\n",
    "for j,k in d.items():\n",
    "    f[k]=j\n",
    "print(f)\n",
    "x={'tom':100,'cat':30,79:'com'}\n",
    "f.update(x)\n",
    "print(f)"
   ]
  },
  {
   "cell_type": "code",
   "execution_count": 25,
   "metadata": {},
   "outputs": [
    {
     "name": "stdout",
     "output_type": "stream",
     "text": [
      "50000\n"
     ]
    }
   ],
   "source": [
    "###############作业会用到##########################\n",
    "\n",
    "\n",
    "goods=[{'name':'电脑','price':'50000','count':50},\n",
    "       {'name':'鼠标','price':'200','count':50},\n",
    "       {'Bob':88,'Alice':90,'Jack':79}]\n",
    "print(goods[0]['price'])"
   ]
  },
  {
   "cell_type": "code",
   "execution_count": 27,
   "metadata": {},
   "outputs": [
    {
     "name": "stdout",
     "output_type": "stream",
     "text": [
      "[('aaa', 3), ('bbb', 2), ('ddd', 4), ('ccc', 2), ('sss', 1)]\n",
      "[('sss', 1), ('bbb', 2), ('ccc', 2), ('aaa', 3), ('ddd', 4)]\n",
      "ddd出现次数最多的，4\n"
     ]
    }
   ],
   "source": [
    "# 练习：输入一段英文，统计所有单词出现的次数（不区分大小写），找出出现次数最多的单词\n",
    "# 提示：找出出现次数最多的单词时，可以将字典转换成列表，利用列表排序实现\n",
    "English1='aaa bbb ddd ccc aaa ccc bbb ddd sss aaa ddd ddd'\n",
    "English2=English1.lower()\n",
    "English=English2.split(' ')\n",
    "# 创建字典统计个数\n",
    "a_Dict=dict()\n",
    "for i in English:\n",
    "    if i not in a_Dict:\n",
    "        a_Dict[i]=1     #a_Dict.setdefault(i,1)\n",
    "    else:\n",
    "        a_Dict[i]+=1 \n",
    "        \n",
    "# 排序\n",
    "list2=list(a_Dict.items())\n",
    "print(list2)\n",
    "list2.sort(key=lambda x:x[1],reverse=False)\n",
    "print(list2)\n",
    "\n",
    "maxNum=list2[-1][1]                # 出现最多的词出现的次数\n",
    "for k,v in a_Dict.items():         # 对字典的遍历\n",
    "    if v==maxNum:\n",
    "        print('{}出现次数最多的，{}'.format(k,v))\n",
    "# def takeSecond(elem):\n",
    "#     return elem[1]\n",
    "# a_list=a_Dict.items()\n",
    "# b_list=list(a_list)\n",
    "# b_list.sort(key=takeSecond,reverse=True)\n",
    "# b_Dict=dict(b_list)\n",
    "# print(b_Dict)\n",
    "# List=b_Dict.items()\n",
    "# List1=list(List)\n",
    "# print('出现次数最多的单词是：',List1[0])"
   ]
  },
  {
   "cell_type": "code",
   "execution_count": 21,
   "metadata": {},
   "outputs": [
    {
     "name": "stdout",
     "output_type": "stream",
     "text": [
      "{'aaa': 1, 'bbb': 1, 'ddd': 1, 'ccc': 1, 'sss': 1}\n",
      "{'aaa': 3, 'bbb': 2, 'ddd': 4, 'ccc': 2, 'sss': 1}\n"
     ]
    }
   ],
   "source": [
    "English1='aaa bbb ddd ccc aaa ccc bbb ddd sss aaa ddd ddd'\n",
    "English2=English1.lower()\n",
    "English=English2.split(' ')\n",
    "\n",
    "dict1=dict.fromkeys(English,1)     #将English转成字典，value默认都是1\n",
    "print(dict1)\n",
    "for x in dict1.keys():              # x是序列中出现的单词，也就是字典中的键\n",
    "    num=English.count(x)            # 统计键在English中出现的次数\n",
    "    dict1[x]=num                   # 更新键对应的value\n",
    "print(dict1)\n",
    "\n",
    "# 排序"
   ]
  },
  {
   "cell_type": "code",
   "execution_count": 21,
   "metadata": {},
   "outputs": [
    {
     "ename": "SyntaxError",
     "evalue": "invalid syntax (<ipython-input-21-172491c2f698>, line 1)",
     "output_type": "error",
     "traceback": [
      "\u001b[1;36m  File \u001b[1;32m\"<ipython-input-21-172491c2f698>\"\u001b[1;36m, line \u001b[1;32m1\u001b[0m\n\u001b[1;33m    import lambda\u001b[0m\n\u001b[1;37m                ^\u001b[0m\n\u001b[1;31mSyntaxError\u001b[0m\u001b[1;31m:\u001b[0m invalid syntax\n"
     ]
    }
   ],
   "source": [
    "nums=list(range(1,20))\n",
    "for i in nums:\n",
    "    nums=filter(lambda x:x==i or x % i,nums)\n",
    "print(list(nums))\n"
   ]
  },
  {
   "cell_type": "code",
   "execution_count": 27,
   "metadata": {},
   "outputs": [
    {
     "name": "stdout",
     "output_type": "stream",
     "text": [
      "[1, 2, 3, 4, 5, 6, 7, 8, 9, 10, 11, 12, 13, 14, 15, 16, 17, 18, 19]\n"
     ]
    }
   ],
   "source": [
    "nums = range(1,20)\n",
    "for i in nums:\n",
    "    nums1 = filter(lambda x : x ==i or x %i,nums)\n",
    "print(list(nums1))"
   ]
  },
  {
   "cell_type": "code",
   "execution_count": null,
   "metadata": {},
   "outputs": [],
   "source": []
  }
 ],
 "metadata": {
  "kernelspec": {
   "display_name": "Python 3",
   "language": "python",
   "name": "python3"
  },
  "language_info": {
   "codemirror_mode": {
    "name": "ipython",
    "version": 3
   },
   "file_extension": ".py",
   "mimetype": "text/x-python",
   "name": "python",
   "nbconvert_exporter": "python",
   "pygments_lexer": "ipython3",
   "version": "3.6.5"
  }
 },
 "nbformat": 4,
 "nbformat_minor": 2
}
