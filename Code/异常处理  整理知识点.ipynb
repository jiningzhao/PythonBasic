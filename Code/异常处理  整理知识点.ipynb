{
 "cells": [
  {
   "cell_type": "code",
   "execution_count": null,
   "metadata": {},
   "outputs": [],
   "source": [
    "# 异常处理的结构：try是必须的，except通常是一个或多个（语法上可以省略except）,else、finally可省略\n",
    "# try:\n",
    "#     # 语句1\n",
    "# except 异常1:\n",
    "#     # 语句2\n",
    "# except 异常2:\n",
    "#     # 语句3\n",
    "# else:\n",
    "#     # 语句4\n",
    "# finally:\n",
    "#     # 语句5\n",
    "# 1）执行try子句（语句1）\n",
    "# 2）若没有异常发生，跳过except,执行else子句\n",
    "# 3）若有异常发生，异常之后的语句不会执行，跳转到except，针对匹配的异常，执行相应的escept子句，不会执行else子句\n",
    "# 4）无论是否发生异常，都会执行finally\n",
    "\n",
    "# 注意事项：\n",
    "# 1）else必须在所有的except之后\n",
    "# 2）当多个异常同时发生，且在不同的except语句中处理时，只有一个分支会被执行到\n",
    "# 3）可以在一个except中处理多个异常，将他们写在一个元组中即可\n",
    "# 4）若finally之后仍有未处理的异常，异常会在finally之后抛出"
   ]
  },
  {
   "cell_type": "code",
   "execution_count": 9,
   "metadata": {},
   "outputs": [
    {
     "name": "stdout",
     "output_type": "stream",
     "text": [
      "Please input:12\n",
      "You have input 12\n"
     ]
    }
   ],
   "source": [
    "x=input('Please input:')\n",
    "try:\n",
    "    x=int(x)                               # 若用户输入的不是数字，这里会抛异常ValueError，跳转到except ValueError执行其子句\n",
    "    print('You have input {0}'.format(x))  # 若用户输入的是数字，正常执行本行语句 \n",
    "except ValueError:                         # except对应的一场名称和抛出的异常匹配时才会执行\n",
    "    print('Error.')"
   ]
  },
  {
   "cell_type": "code",
   "execution_count": 10,
   "metadata": {},
   "outputs": [
    {
     "name": "stdout",
     "output_type": "stream",
     "text": [
      "请输入字符串的序号5\n",
      "列表元素的下标越界，请重新输入字符串的编号\n",
      "任何情况下都会执行到finally\n",
      "请输入字符串的序号3\n",
      "France\n",
      "无异常\n",
      "任何情况下都会执行到finally\n"
     ]
    }
   ],
   "source": [
    "a_list=['China','America','England','France']\n",
    "while True:\n",
    "    n=input('请输入字符串的序号')\n",
    "    try:\n",
    "        n=int(n)\n",
    "        print(a_list[n])\n",
    "    except IndexError:\n",
    "        print('列表元素的下标越界，请重新输入字符串的编号')\n",
    "    except ValueError:\n",
    "        print('请输入数字')\n",
    "    else:\n",
    "        print('无异常')\n",
    "        break\n",
    "    finally:\n",
    "        print('任何情况下都会执行到finally')"
   ]
  },
  {
   "cell_type": "code",
   "execution_count": 11,
   "metadata": {},
   "outputs": [
    {
     "name": "stdout",
     "output_type": "stream",
     "text": [
      "请输入字符串的序号5\n",
      "下标越界或输入的不是数字\n",
      "任何情况下都会执行到finally\n",
      "请输入字符串的序号2\n",
      "England\n",
      "无异常\n",
      "任何情况下都会执行到finally\n"
     ]
    }
   ],
   "source": [
    "a_list=['China','America','England','France']\n",
    "while True:\n",
    "    n=input('请输入字符串的序号')\n",
    "    try:\n",
    "        n=int(n)\n",
    "        print(a_list[n])\n",
    "#     except IndexError:\n",
    "#         print('列表元素的下标越界，请重新输入字符串的编号')\n",
    "#     except ValueError:\n",
    "#         print('请输入数字')\n",
    "    except (IndexError,ValueError):              # 多个异常一起处理时，可以把多个异常放到一个except里\n",
    "        print('下标越界或输入的不是数字')\n",
    "    else:\n",
    "        print('无异常')\n",
    "        break\n",
    "    finally:\n",
    "        print('任何情况下都会执行到finally')"
   ]
  },
  {
   "cell_type": "code",
   "execution_count": 12,
   "metadata": {},
   "outputs": [
    {
     "name": "stdout",
     "output_type": "stream",
     "text": [
      "请输入字符串的序号5\n",
      "任何情况下都会执行到finally\n"
     ]
    },
    {
     "ename": "IndexError",
     "evalue": "list index out of range",
     "output_type": "error",
     "traceback": [
      "\u001b[1;31m---------------------------------------------------------------------------\u001b[0m",
      "\u001b[1;31mIndexError\u001b[0m                                Traceback (most recent call last)",
      "\u001b[1;32m<ipython-input-12-ab7058b5bfe2>\u001b[0m in \u001b[0;36m<module>\u001b[1;34m()\u001b[0m\n\u001b[0;32m      4\u001b[0m     \u001b[1;32mtry\u001b[0m\u001b[1;33m:\u001b[0m\u001b[1;33m\u001b[0m\u001b[0m\n\u001b[0;32m      5\u001b[0m         \u001b[0mn\u001b[0m\u001b[1;33m=\u001b[0m\u001b[0mint\u001b[0m\u001b[1;33m(\u001b[0m\u001b[0mn\u001b[0m\u001b[1;33m)\u001b[0m\u001b[1;33m\u001b[0m\u001b[0m\n\u001b[1;32m----> 6\u001b[1;33m         \u001b[0mprint\u001b[0m\u001b[1;33m(\u001b[0m\u001b[0ma_list\u001b[0m\u001b[1;33m[\u001b[0m\u001b[0mn\u001b[0m\u001b[1;33m]\u001b[0m\u001b[1;33m)\u001b[0m\u001b[1;33m\u001b[0m\u001b[0m\n\u001b[0m\u001b[0;32m      7\u001b[0m \u001b[1;31m#     except IndexError:\u001b[0m\u001b[1;33m\u001b[0m\u001b[1;33m\u001b[0m\u001b[0m\n\u001b[0;32m      8\u001b[0m \u001b[1;31m#         print('列表元素的下标越界，请重新输入字符串的编号')\u001b[0m\u001b[1;33m\u001b[0m\u001b[1;33m\u001b[0m\u001b[0m\n",
      "\u001b[1;31mIndexError\u001b[0m: list index out of range"
     ]
    }
   ],
   "source": [
    "a_list=['China','America','England','France']\n",
    "while True:\n",
    "    n=input('请输入字符串的序号')\n",
    "    try:\n",
    "        n=int(n)\n",
    "        print(a_list[n])\n",
    "#     except IndexError:\n",
    "#         print('列表元素的下标越界，请重新输入字符串的编号')\n",
    "#     except ValueError:\n",
    "#         print('请输入数字')\n",
    "    except ValueError:              \n",
    "        print('输入的不是数字')\n",
    "    else:\n",
    "        print('无异常')\n",
    "        break\n",
    "    finally:\n",
    "        print('任何情况下都会执行到finally')"
   ]
  },
  {
   "cell_type": "markdown",
   "metadata": {},
   "source": [
    "## 断言 assert"
   ]
  },
  {
   "cell_type": "code",
   "execution_count": 18,
   "metadata": {},
   "outputs": [
    {
     "ename": "AssertionError",
     "evalue": "参数必须是整数",
     "output_type": "error",
     "traceback": [
      "\u001b[1;31m---------------------------------------------------------------------------\u001b[0m",
      "\u001b[1;31mAssertionError\u001b[0m                            Traceback (most recent call last)",
      "\u001b[1;32m<ipython-input-18-551af9fb5a58>\u001b[0m in \u001b[0;36m<module>\u001b[1;34m()\u001b[0m\n\u001b[0;32m      7\u001b[0m     \u001b[1;32mreturn\u001b[0m \u001b[0ma\u001b[0m\u001b[1;33m+\u001b[0m\u001b[0mb\u001b[0m\u001b[1;33m\u001b[0m\u001b[0m\n\u001b[0;32m      8\u001b[0m \u001b[1;33m\u001b[0m\u001b[0m\n\u001b[1;32m----> 9\u001b[1;33m \u001b[0ms\u001b[0m\u001b[1;33m=\u001b[0m\u001b[0mIntSum\u001b[0m\u001b[1;33m(\u001b[0m\u001b[1;34m'a'\u001b[0m\u001b[1;33m,\u001b[0m\u001b[1;34m'b'\u001b[0m\u001b[1;33m)\u001b[0m\u001b[1;33m\u001b[0m\u001b[0m\n\u001b[0m\u001b[0;32m     10\u001b[0m \u001b[0mprint\u001b[0m\u001b[1;33m(\u001b[0m\u001b[0ms\u001b[0m\u001b[1;33m)\u001b[0m\u001b[1;33m\u001b[0m\u001b[0m\n",
      "\u001b[1;32m<ipython-input-18-551af9fb5a58>\u001b[0m in \u001b[0;36mIntSum\u001b[1;34m(a, b)\u001b[0m\n\u001b[0;32m      3\u001b[0m \u001b[1;33m\u001b[0m\u001b[0m\n\u001b[0;32m      4\u001b[0m \u001b[1;32mdef\u001b[0m \u001b[0mIntSum\u001b[0m\u001b[1;33m(\u001b[0m\u001b[0ma\u001b[0m\u001b[1;33m,\u001b[0m\u001b[0mb\u001b[0m\u001b[1;33m)\u001b[0m\u001b[1;33m:\u001b[0m    \u001b[1;31m# 要求a，b都是整数\u001b[0m\u001b[1;33m\u001b[0m\u001b[0m\n\u001b[1;32m----> 5\u001b[1;33m     \u001b[1;32massert\u001b[0m \u001b[0misinstance\u001b[0m\u001b[1;33m(\u001b[0m\u001b[0ma\u001b[0m\u001b[1;33m,\u001b[0m\u001b[0mint\u001b[0m\u001b[1;33m)\u001b[0m\u001b[1;33m,\u001b[0m\u001b[1;34m'参数必须是整数'\u001b[0m\u001b[1;33m\u001b[0m\u001b[0m\n\u001b[0m\u001b[0;32m      6\u001b[0m     \u001b[1;32massert\u001b[0m \u001b[0misinstance\u001b[0m\u001b[1;33m(\u001b[0m\u001b[0mb\u001b[0m\u001b[1;33m,\u001b[0m\u001b[0mint\u001b[0m\u001b[1;33m)\u001b[0m\u001b[1;33m,\u001b[0m\u001b[1;34m'参数必须是整数'\u001b[0m\u001b[1;33m\u001b[0m\u001b[0m\n\u001b[0;32m      7\u001b[0m     \u001b[1;32mreturn\u001b[0m \u001b[0ma\u001b[0m\u001b[1;33m+\u001b[0m\u001b[0mb\u001b[0m\u001b[1;33m\u001b[0m\u001b[0m\n",
      "\u001b[1;31mAssertionError\u001b[0m: 参数必须是整数"
     ]
    }
   ],
   "source": [
    "# assert 表达式[，解释]           表达式为True时程序正常进行，为False时抛AssertionError异常\n",
    "# 通常用于类型的判读\n",
    "\n",
    "def IntSum(a,b):    # 要求a，b都是整数\n",
    "    assert isinstance(a,int),'参数必须是整数'\n",
    "    assert isinstance(b,int),'参数必须是整数'\n",
    "    return a+b\n",
    "\n",
    "s=IntSum('a','b')\n",
    "print(s)"
   ]
  },
  {
   "cell_type": "markdown",
   "metadata": {},
   "source": [
    "## 异常类的定义和使用"
   ]
  },
  {
   "cell_type": "code",
   "execution_count": 22,
   "metadata": {},
   "outputs": [
    {
     "name": "stdout",
     "output_type": "stream",
     "text": [
      "请输入->asdasd\n",
      "没有异常发生\n"
     ]
    }
   ],
   "source": [
    "# 自定义异常类，必须继承自Exception类或其子类\n",
    "class ShortInputException(Exception):\n",
    "    def __init__(self,length,atleast):                  # 构造函数中调用父类的方法\n",
    "        Exception.__init__(self)\n",
    "        self.length=length\n",
    "        self.atleast=atleast\n",
    "try:\n",
    "    s=input('请输入->')\n",
    "    if len(s)<3:\n",
    "        raise ShortInputException(len(s),3)   # raise主动抛出异常，后面必须是异常的实例或异常的类（即Exception的子类）\n",
    "except EOFError:\n",
    "    print('你输入了一个结束标记EOF')\n",
    "except ShortInputException as x:             # x是ShortInputException的实例，x就是在raise构造出的实例\n",
    "    print('ShortInputException:长度是%d，至少应是%d'%(x.length,x.atleast))\n",
    "else:\n",
    "    print('没有异常发生')"
   ]
  },
  {
   "cell_type": "code",
   "execution_count": null,
   "metadata": {},
   "outputs": [],
   "source": []
  }
 ],
 "metadata": {
  "kernelspec": {
   "display_name": "Python 3",
   "language": "python",
   "name": "python3"
  },
  "language_info": {
   "codemirror_mode": {
    "name": "ipython",
    "version": 3
   },
   "file_extension": ".py",
   "mimetype": "text/x-python",
   "name": "python",
   "nbconvert_exporter": "python",
   "pygments_lexer": "ipython3",
   "version": "3.6.5"
  }
 },
 "nbformat": 4,
 "nbformat_minor": 2
}
