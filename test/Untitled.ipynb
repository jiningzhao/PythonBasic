{
 "cells": [
  {
   "cell_type": "code",
   "execution_count": 3,
   "metadata": {},
   "outputs": [
    {
     "name": "stdout",
     "output_type": "stream",
     "text": [
      "0\n",
      "1\n",
      "2\n",
      "3\n",
      "4\n",
      "5\n",
      "6\n",
      "7\n",
      "8\n",
      "9\n"
     ]
    }
   ],
   "source": [
    "for i in range(0,10,1):\n",
    "    print(i)"
   ]
  },
  {
   "cell_type": "code",
   "execution_count": 6,
   "metadata": {},
   "outputs": [
    {
     "name": "stdout",
     "output_type": "stream",
     "text": [
      "循环数据Baidu\n",
      "循环数据Google\n",
      "菜鸟教程！\n",
      "完成循环！\n"
     ]
    }
   ],
   "source": [
    "sites=[\"Baidu\",\"Google\",\"Runoob\",\"Taobao\"]\n",
    "for site in sites:\n",
    "    if site==\"Runoob\":\n",
    "        print(\"菜鸟教程！\")\n",
    "        break\n",
    "    print(\"循环数据\"+site)\n",
    "else:\n",
    "    print(\"没有循环数据！\")\n",
    "print(\"完成循环！\")"
   ]
  },
  {
   "cell_type": "code",
   "execution_count": 7,
   "metadata": {},
   "outputs": [
    {
     "name": "stdout",
     "output_type": "stream",
     "text": [
      "0 Baidu\n",
      "1 Google\n",
      "2 Runoob\n",
      "3 Taobao\n"
     ]
    }
   ],
   "source": [
    "a=[\"Baidu\",\"Google\",\"Runoob\",\"Taobao\"]\n",
    "for i in range(len(a)):\n",
    "    print(i,a[i])"
   ]
  },
  {
   "cell_type": "code",
   "execution_count": 8,
   "metadata": {},
   "outputs": [
    {
     "data": {
      "text/plain": [
       "[0, 1, 2, 3, 4]"
      ]
     },
     "execution_count": 8,
     "metadata": {},
     "output_type": "execute_result"
    }
   ],
   "source": [
    "list(range(5))"
   ]
  },
  {
   "cell_type": "code",
   "execution_count": 9,
   "metadata": {},
   "outputs": [
    {
     "name": "stdout",
     "output_type": "stream",
     "text": [
      "当前字母为： r\n",
      "当前字母为： u\n",
      "当前字母为： n\n",
      "当前字母为： o\n",
      "当前字母为： o\n"
     ]
    }
   ],
   "source": [
    "for letter in 'runoob':\n",
    "    if letter=='b':\n",
    "        break\n",
    "    print('当前字母为：',letter)"
   ]
  },
  {
   "cell_type": "code",
   "execution_count": 11,
   "metadata": {},
   "outputs": [
    {
     "name": "stdout",
     "output_type": "stream",
     "text": [
      "当前变量值为： 10\n",
      "当前变量值为： 9\n",
      "当前变量值为： 8\n",
      "当前变量值为： 7\n",
      "当前变量值为： 6\n",
      "Good bye!\n"
     ]
    }
   ],
   "source": [
    "var=10\n",
    "while var>0:\n",
    "    print('当前变量值为：',var)\n",
    "    var=var-1\n",
    "    if var==5:\n",
    "        break\n",
    "print('Good bye!')"
   ]
  },
  {
   "cell_type": "code",
   "execution_count": null,
   "metadata": {},
   "outputs": [],
   "source": [
    "from pymongo import MongoClient\n",
    "conn=MongoClient('120.0.0.1',27017)\n",
    "db=conn.First\n",
    "my_test=db.one_test\n",
    "for i in my_test.find():\n",
    "    print(i)\n"
   ]
  },
  {
   "cell_type": "code",
   "execution_count": null,
   "metadata": {},
   "outputs": [],
   "source": []
  }
 ],
 "metadata": {
  "kernelspec": {
   "display_name": "Python 3",
   "language": "python",
   "name": "python3"
  }
 },
 "nbformat": 4,
 "nbformat_minor": 2
}
