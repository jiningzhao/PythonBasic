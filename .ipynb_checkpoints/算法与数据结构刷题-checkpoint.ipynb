{
 "cells": [
  {
   "cell_type": "code",
   "execution_count": 5,
   "metadata": {},
   "outputs": [
    {
     "name": "stdout",
     "output_type": "stream",
     "text": [
      "请输入一个数组：2,3,1,0,2,5,3\n",
      "重复的数字为：2 ,重复了2次\n",
      "重复的数字为：3 ,重复了2次\n"
     ]
    }
   ],
   "source": [
    "# 在长度为n的数组中，所有的元素都是0到n-1的范围内。 数组中的某些数字是重复的，但不知道有几个重复的数字，也不知道重复了几次，\n",
    "# 请找出任意重复的数字。 例如，输入长度为7的数组{2,3,1,0,2,5,3}，那么对应的输出为2或3。\n",
    "\n",
    "\n",
    "# 解题思路\n",
    "# 1、判断输入数组有无元素非法 \n",
    "# 2、从头扫到尾，只要当前元素值与下标不同，就做一次判断,numbers[i]与numbers[numbers[i]]，相等就认为找到了重复元素，返回true,否则就交换两者，继续循环。直到最后还没找到认为没找到重复元素，返回false\n",
    "\n",
    "# 时间复杂度：O(n)，空间复杂度：O(1)\n",
    "\n",
    "\n",
    "def A(list2,list1):\n",
    "    sum=0\n",
    "    for i in list2:\n",
    "        if i in list1:\n",
    "            continue\n",
    "        temp=i\n",
    "        for j in list2:\n",
    "            if j==temp:\n",
    "                sum+=1\n",
    "            else:\n",
    "                pass\n",
    "        list1.append(temp)\n",
    "        if sum>1:\n",
    "            print(\"重复的数字为：{} ,重复了{}次\".format(temp,sum))\n",
    "        sum=0\n",
    "list3=input(\"请输入一个数组：\")\n",
    "list2=list3.split(',')\n",
    "list1=[]  \n",
    "A(list2,list1)"
   ]
  },
  {
   "cell_type": "code",
   "execution_count": 4,
   "metadata": {},
   "outputs": [
    {
     "name": "stdout",
     "output_type": "stream",
     "text": [
      "345 <class 'int'>\n"
     ]
    }
   ],
   "source": [
    "data=\"123456789\"\n",
    "a=int(data[2:5])\n",
    "print(a,type(a))"
   ]
  },
  {
   "cell_type": "code",
   "execution_count": 14,
   "metadata": {},
   "outputs": [
    {
     "name": "stdout",
     "output_type": "stream",
     "text": [
      "[7, 6, 5, 4, 3, 2, 1]\n"
     ]
    }
   ],
   "source": [
    "list1=[1,2,3,4,5,6,7]\n",
    "a=sorted(list1,reverse=True)\n",
    "print(a)"
   ]
  },
  {
   "cell_type": "code",
   "execution_count": 7,
   "metadata": {},
   "outputs": [
    {
     "ename": "SyntaxError",
     "evalue": "invalid syntax (<ipython-input-7-dfd9ad5b88c4>, line 6)",
     "output_type": "error",
     "traceback": [
      "\u001b[1;36m  File \u001b[1;32m\"<ipython-input-7-dfd9ad5b88c4>\"\u001b[1;36m, line \u001b[1;32m6\u001b[0m\n\u001b[1;33m    dict1={1:'k',3:'e',4:'w',9:'d':5:'s'}\u001b[0m\n\u001b[1;37m                                  ^\u001b[0m\n\u001b[1;31mSyntaxError\u001b[0m\u001b[1;31m:\u001b[0m invalid syntax\n"
     ]
    }
   ],
   "source": [
    "list1=[6,3,4,2,7,1,5]\n",
    "print(sorted(list1))\n",
    "print(list1)\n",
    "print(list1.sort())\n",
    "print(list1)\n",
    "\n",
    "print(sorted({1:'k',3:'e',4:'w',9:'d':5:'s'}))"
   ]
  },
  {
   "cell_type": "code",
   "execution_count": null,
   "metadata": {},
   "outputs": [],
   "source": []
  }
 ],
 "metadata": {
  "kernelspec": {
   "display_name": "Python 3",
   "language": "python",
   "name": "python3"
  },
  "language_info": {
   "codemirror_mode": {
    "name": "ipython",
    "version": 3
   },
   "file_extension": ".py",
   "mimetype": "text/x-python",
   "name": "python",
   "nbconvert_exporter": "python",
   "pygments_lexer": "ipython3",
   "version": "3.6.5"
  }
 },
 "nbformat": 4,
 "nbformat_minor": 2
}
