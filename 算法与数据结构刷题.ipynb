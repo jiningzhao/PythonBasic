{
 "cells": [
  {
   "cell_type": "code",
   "execution_count": 5,
   "metadata": {},
   "outputs": [
    {
     "name": "stdout",
     "output_type": "stream",
     "text": [
      "请输入一个数组：2,3,1,0,2,5,3\n",
      "重复的数字为：2 ,重复了2次\n",
      "重复的数字为：3 ,重复了2次\n"
     ]
    }
   ],
   "source": [
    "# 在长度为n的数组中，所有的元素都是0到n-1的范围内。 数组中的某些数字是重复的，但不知道有几个重复的数字，也不知道重复了几次，\n",
    "# 请找出任意重复的数字。 例如，输入长度为7的数组{2,3,1,0,2,5,3}，那么对应的输出为2或3。\n",
    "\n",
    "\n",
    "# 解题思路\n",
    "# 1、判断输入数组有无元素非法 \n",
    "# 2、从头扫到尾，只要当前元素值与下标不同，就做一次判断,numbers[i]与numbers[numbers[i]]，相等就认为找到了重复元素，返回true,否则就交换两者，继续循环。直到最后还没找到认为没找到重复元素，返回false\n",
    "\n",
    "# 时间复杂度：O(n)，空间复杂度：O(1)\n",
    "\n",
    "\n",
    "def A(list2,list1):\n",
    "    sum=0\n",
    "    for i in list2:\n",
    "        if i in list1:\n",
    "            continue\n",
    "        temp=i\n",
    "        for j in list2:\n",
    "            if j==temp:\n",
    "                sum+=1\n",
    "            else:\n",
    "                pass\n",
    "        list1.append(temp)\n",
    "        if sum>1:\n",
    "            print(\"重复的数字为：{} ,重复了{}次\".format(temp,sum))\n",
    "        sum=0\n",
    "list3=input(\"请输入一个数组：\")\n",
    "list2=list3.split(',')\n",
    "list1=[]  \n",
    "A(list2,list1)"
   ]
  },
  {
   "cell_type": "code",
   "execution_count": 4,
   "metadata": {},
   "outputs": [
    {
     "name": "stdout",
     "output_type": "stream",
     "text": [
      "345 <class 'int'>\n"
     ]
    }
   ],
   "source": [
    "data=\"123456789\"\n",
    "a=int(data[2:5])\n",
    "print(a,type(a))"
   ]
  },
  {
   "cell_type": "code",
   "execution_count": 14,
   "metadata": {},
   "outputs": [
    {
     "name": "stdout",
     "output_type": "stream",
     "text": [
      "[7, 6, 5, 4, 3, 2, 1]\n"
     ]
    }
   ],
   "source": [
    "list1=[1,2,3,4,5,6,7]\n",
    "a=sorted(list1,reverse=True)\n",
    "print(a)"
   ]
  },
  {
   "cell_type": "code",
   "execution_count": 10,
   "metadata": {},
   "outputs": [
    {
     "name": "stdout",
     "output_type": "stream",
     "text": [
      "[1, 2, 3, 4, 5, 6, 7]\n",
      "[6, 3, 4, 2, 7, 1, 5]\n",
      "None\n",
      "[1, 2, 3, 4, 5, 6, 7]\n",
      "[1, 3, 4, 5, 9]\n",
      "['e', 'f', 'g']\n"
     ]
    }
   ],
   "source": [
    "list1=[6,3,4,2,7,1,5]\n",
    "print(sorted(list1))\n",
    "print(list1)\n",
    "print(list1.sort())\n",
    "print(list1)\n",
    "dict1={1:'k',3:'e',4:'w',9:'d',5:'s'}\n",
    "print(sorted(dict1))\n",
    "dict2={'f':2,'g':3,'e':1}\n",
    "print(sorted(dict2))   #按照键来排序"
   ]
  },
  {
   "cell_type": "code",
   "execution_count": 4,
   "metadata": {},
   "outputs": [
    {
     "name": "stdout",
     "output_type": "stream",
     "text": [
      "[9]\n"
     ]
    }
   ],
   "source": [
    "def kmp_pattern_match(str, pattern):\n",
    "    index = []\n",
    "    j = 0\n",
    "    for i in range(0, len(str)):\n",
    "        j = get_next(pattern, j)\n",
    "        while j < len(pattern):\n",
    "            if i < len(str) and str[i] == pattern[j]:\n",
    "                i += 1\n",
    "                j += 1\n",
    "            else:\n",
    "                break\n",
    "        if j == len(pattern):\n",
    "            index.append(i-j)\n",
    "            j = 0\n",
    "    return index\n",
    "\n",
    "\n",
    "def get_next(pattern, index):  # index 范围为 1 到 len(pattern)，算上 len(pattern)\n",
    "    next_list = next_index(pattern)\n",
    "    return next_list[index]\n",
    "\n",
    "\n",
    "def next_index(pattern):  # 返回一个列表，表示对应索引的下一跳索引\n",
    "    next_list = [0, 0]\n",
    "    for _ in range(2, len(pattern)):\n",
    "        temp_list = [0]\n",
    "        for i in range(1, _):\n",
    "            if pattern[0:i] == pattern[_-i:_]:\n",
    "                temp_list.append(i)\n",
    "        next_list.append(max(temp_list))\n",
    "    return next_list\n",
    "print(kmp_pattern_match(\"123234345123123234\", \"123123\"))"
   ]
  },
  {
   "cell_type": "code",
   "execution_count": null,
   "metadata": {},
   "outputs": [],
   "source": []
  }
 ],
 "metadata": {
  "kernelspec": {
   "display_name": "Python 3",
   "language": "python",
   "name": "python3"
  },
  "language_info": {
   "codemirror_mode": {
    "name": "ipython",
    "version": 3
   },
   "file_extension": ".py",
   "mimetype": "text/x-python",
   "name": "python",
   "nbconvert_exporter": "python",
   "pygments_lexer": "ipython3",
   "version": "3.6.5"
  }
 },
 "nbformat": 4,
 "nbformat_minor": 2
}
